{
 "cells": [
  {
   "cell_type": "markdown",
   "metadata": {},
   "source": [
    "# Анализ данных интернет-магазина «Стримчик»"
   ]
  },
  {
   "cell_type": "markdown",
   "metadata": {},
   "source": [
    "## Краткое описание"
   ]
  },
  {
   "cell_type": "markdown",
   "metadata": {},
   "source": [
    "**Цель исследования** — выявить закономерности, которые определяют успешность компьютерных игр на различных платформах, и на основании этого сделать прогнозы для планирования рекламных кампаний и выпуска потенциально успешных игр в 2017 году. Ключевые задачи включают исследование продаж игр в зависимости от их жанра, платформы, отзывов пользователей и оценок критиков, а также анализ региональных предпочтений.\n",
    "\n",
    "\n",
    "**Информация о данных:**\n",
    "\n",
    "\n",
    "Мы работаем с набором данных о продажах компьютерных игр, включающим информацию о названии игр, платформах, годе выпуска, жанрах, оценках критиков и пользователей, региональных продажах и возрастных рейтингах ESRB. Данные охватывают период до 2016 года, но могут содержать пропуски и неполные значения за 2016 год.\n",
    "\n",
    "\n",
    "**План работы:**\n",
    "\n",
    "\n",
    "- Открытие и предварительный анализ данных: изучим структуру датасета, проведём преобразование названий столбцов и типов данных. Обработаем пропуски, включая специальные значения, такие как 'tbd'.\n",
    "- Подготовка данных: проведём расчёт суммарных продаж для каждого региона и сохраним их в новый столбец.\n",
    "- Исследовательский анализ данных: изучим динамику выпуска игр по годам, продажи по платформам и жанрам, выявим лидеров рынка. Оценим влияние отзывов и оценок критиков на продажи игр.\n",
    "- Региональный анализ: составим портрет пользователя для разных регионов, исследуем предпочтения по платформам, жанрам и рейтингам ESRB.\n",
    "- Проверка гипотез: проверим две гипотезы о пользовательских рейтингах для различных платформ и жанров.\n",
    "- Выводы: подведём итоги анализа и сформулируем рекомендации для будущих маркетинговых кампаний."
   ]
  },
  {
   "cell_type": "markdown",
   "metadata": {},
   "source": [
    "## Открытие и изучение данных"
   ]
  },
  {
   "cell_type": "code",
   "execution_count": 1,
   "metadata": {},
   "outputs": [],
   "source": [
    "import pandas as pd\n",
    "import numpy as np\n",
    "import seaborn as sns\n",
    "from scipy import stats as st\n",
    "import matplotlib.pyplot as plt"
   ]
  },
  {
   "cell_type": "code",
   "execution_count": 2,
   "metadata": {},
   "outputs": [
    {
     "data": {
      "text/html": [
       "<div>\n",
       "<style scoped>\n",
       "    .dataframe tbody tr th:only-of-type {\n",
       "        vertical-align: middle;\n",
       "    }\n",
       "\n",
       "    .dataframe tbody tr th {\n",
       "        vertical-align: top;\n",
       "    }\n",
       "\n",
       "    .dataframe thead th {\n",
       "        text-align: right;\n",
       "    }\n",
       "</style>\n",
       "<table border=\"1\" class=\"dataframe\">\n",
       "  <thead>\n",
       "    <tr style=\"text-align: right;\">\n",
       "      <th></th>\n",
       "      <th>Name</th>\n",
       "      <th>Platform</th>\n",
       "      <th>Year_of_Release</th>\n",
       "      <th>Genre</th>\n",
       "      <th>NA_sales</th>\n",
       "      <th>EU_sales</th>\n",
       "      <th>JP_sales</th>\n",
       "      <th>Other_sales</th>\n",
       "      <th>Critic_Score</th>\n",
       "      <th>User_Score</th>\n",
       "      <th>Rating</th>\n",
       "    </tr>\n",
       "  </thead>\n",
       "  <tbody>\n",
       "    <tr>\n",
       "      <th>0</th>\n",
       "      <td>Wii Sports</td>\n",
       "      <td>Wii</td>\n",
       "      <td>2006.0</td>\n",
       "      <td>Sports</td>\n",
       "      <td>41.36</td>\n",
       "      <td>28.96</td>\n",
       "      <td>3.77</td>\n",
       "      <td>8.45</td>\n",
       "      <td>76.0</td>\n",
       "      <td>8</td>\n",
       "      <td>E</td>\n",
       "    </tr>\n",
       "    <tr>\n",
       "      <th>1</th>\n",
       "      <td>Super Mario Bros.</td>\n",
       "      <td>NES</td>\n",
       "      <td>1985.0</td>\n",
       "      <td>Platform</td>\n",
       "      <td>29.08</td>\n",
       "      <td>3.58</td>\n",
       "      <td>6.81</td>\n",
       "      <td>0.77</td>\n",
       "      <td>NaN</td>\n",
       "      <td>NaN</td>\n",
       "      <td>NaN</td>\n",
       "    </tr>\n",
       "    <tr>\n",
       "      <th>2</th>\n",
       "      <td>Mario Kart Wii</td>\n",
       "      <td>Wii</td>\n",
       "      <td>2008.0</td>\n",
       "      <td>Racing</td>\n",
       "      <td>15.68</td>\n",
       "      <td>12.76</td>\n",
       "      <td>3.79</td>\n",
       "      <td>3.29</td>\n",
       "      <td>82.0</td>\n",
       "      <td>8.3</td>\n",
       "      <td>E</td>\n",
       "    </tr>\n",
       "    <tr>\n",
       "      <th>3</th>\n",
       "      <td>Wii Sports Resort</td>\n",
       "      <td>Wii</td>\n",
       "      <td>2009.0</td>\n",
       "      <td>Sports</td>\n",
       "      <td>15.61</td>\n",
       "      <td>10.93</td>\n",
       "      <td>3.28</td>\n",
       "      <td>2.95</td>\n",
       "      <td>80.0</td>\n",
       "      <td>8</td>\n",
       "      <td>E</td>\n",
       "    </tr>\n",
       "    <tr>\n",
       "      <th>4</th>\n",
       "      <td>Pokemon Red/Pokemon Blue</td>\n",
       "      <td>GB</td>\n",
       "      <td>1996.0</td>\n",
       "      <td>Role-Playing</td>\n",
       "      <td>11.27</td>\n",
       "      <td>8.89</td>\n",
       "      <td>10.22</td>\n",
       "      <td>1.00</td>\n",
       "      <td>NaN</td>\n",
       "      <td>NaN</td>\n",
       "      <td>NaN</td>\n",
       "    </tr>\n",
       "  </tbody>\n",
       "</table>\n",
       "</div>"
      ],
      "text/plain": [
       "                       Name Platform  Year_of_Release         Genre  NA_sales  \\\n",
       "0                Wii Sports      Wii           2006.0        Sports     41.36   \n",
       "1         Super Mario Bros.      NES           1985.0      Platform     29.08   \n",
       "2            Mario Kart Wii      Wii           2008.0        Racing     15.68   \n",
       "3         Wii Sports Resort      Wii           2009.0        Sports     15.61   \n",
       "4  Pokemon Red/Pokemon Blue       GB           1996.0  Role-Playing     11.27   \n",
       "\n",
       "   EU_sales  JP_sales  Other_sales  Critic_Score User_Score Rating  \n",
       "0     28.96      3.77         8.45          76.0          8      E  \n",
       "1      3.58      6.81         0.77           NaN        NaN    NaN  \n",
       "2     12.76      3.79         3.29          82.0        8.3      E  \n",
       "3     10.93      3.28         2.95          80.0          8      E  \n",
       "4      8.89     10.22         1.00           NaN        NaN    NaN  "
      ]
     },
     "execution_count": 2,
     "metadata": {},
     "output_type": "execute_result"
    }
   ],
   "source": [
    "data = pd.read_csv('/datasets/games.csv')\n",
    "data.head()"
   ]
  },
  {
   "cell_type": "code",
   "execution_count": 3,
   "metadata": {},
   "outputs": [
    {
     "name": "stdout",
     "output_type": "stream",
     "text": [
      "<class 'pandas.core.frame.DataFrame'>\n",
      "RangeIndex: 16715 entries, 0 to 16714\n",
      "Data columns (total 11 columns):\n",
      " #   Column           Non-Null Count  Dtype  \n",
      "---  ------           --------------  -----  \n",
      " 0   Name             16713 non-null  object \n",
      " 1   Platform         16715 non-null  object \n",
      " 2   Year_of_Release  16446 non-null  float64\n",
      " 3   Genre            16713 non-null  object \n",
      " 4   NA_sales         16715 non-null  float64\n",
      " 5   EU_sales         16715 non-null  float64\n",
      " 6   JP_sales         16715 non-null  float64\n",
      " 7   Other_sales      16715 non-null  float64\n",
      " 8   Critic_Score     8137 non-null   float64\n",
      " 9   User_Score       10014 non-null  object \n",
      " 10  Rating           9949 non-null   object \n",
      "dtypes: float64(6), object(5)\n",
      "memory usage: 1.4+ MB\n"
     ]
    }
   ],
   "source": [
    "data.info()"
   ]
  },
  {
   "cell_type": "markdown",
   "metadata": {},
   "source": [
    "\n",
    "По результатам анализа данных методом info() таблицы с информацией о продажах игр можно сделать следующие выводы:\n",
    "\n",
    "\n",
    "**Количество записей:**\n",
    "\n",
    "\n",
    "Таблица содержит 16 715 строк (записей), что указывает на общее количество игр, представленных в наборе данных.\n",
    "\n",
    "\n",
    "**Типы данных:**\n",
    "\n",
    "\n",
    "- Name — тип данных object, что соответствует названиям игр, представленным в текстовом формате.\n",
    "- Platform — тип данных object, что корректно для текстовых значений (названия платформ).\n",
    "- Year_of_Release — тип данных float64, что предполагает числовое значение, но год выпуска целесообразно хранить в формате целых чисел.\n",
    "- Genre — тип данных object, что корректно для текстовых значений (жанры игр).\n",
    "- NA_sales, EU_sales, JP_sales, Other_sales — тип данных float64, что подходит для числовых значений (продажи в разных регионах).\n",
    "- Critic_Score — тип данных float64, что логично для оценок, представленных в виде чисел.\n",
    "- User_Score — тип данных object, что некорректно для оценок пользователей, так как они должны быть числовыми (возможны значения 'tbd', требующие обработки).\n",
    "- Rating — тип данных object, что соответствует текстовым обозначениям рейтингов ESRB.\n",
    "\n",
    "\n",
    "**Пропуски в данных:**\n",
    "\n",
    "\n",
    "- В столбцах Name и Genre есть по 2 пропущенных значения.\n",
    "- В Year_of_Release отсутствуют данные для 269 записей.\n",
    "- Critic_Score содержит значительные пропуски — заполнены только 8137 из 16715 строк.\n",
    "- В User_Score пропущены данные в 6701 записи, и также встречаются значения 'tbd'.\n",
    "- Rating имеет 6766 пропущенных значений.\n",
    "\n",
    "\n",
    "**Необходимость изменения типов данных:**\n",
    "\n",
    "\n",
    "- Year_of_Release следует преобразовать в целочисленный формат (int), предварительно обработав пропуски.\n",
    "- User_Score необходимо преобразовать в числовой формат (float64), после обработки значений 'tbd'.\n",
    "\n",
    "\n",
    "Таким образом, данные требуют обработки пропусков и корректировки типов данных для некоторых столбцов перед дальнейшим анализом."
   ]
  },
  {
   "cell_type": "markdown",
   "metadata": {},
   "source": [
    "## Подготовка данных"
   ]
  },
  {
   "cell_type": "markdown",
   "metadata": {},
   "source": [
    "Для удобной работы с таблицей приведем названия столбцов к нижнему регистру."
   ]
  },
  {
   "cell_type": "code",
   "execution_count": 4,
   "metadata": {},
   "outputs": [
    {
     "data": {
      "text/html": [
       "<div>\n",
       "<style scoped>\n",
       "    .dataframe tbody tr th:only-of-type {\n",
       "        vertical-align: middle;\n",
       "    }\n",
       "\n",
       "    .dataframe tbody tr th {\n",
       "        vertical-align: top;\n",
       "    }\n",
       "\n",
       "    .dataframe thead th {\n",
       "        text-align: right;\n",
       "    }\n",
       "</style>\n",
       "<table border=\"1\" class=\"dataframe\">\n",
       "  <thead>\n",
       "    <tr style=\"text-align: right;\">\n",
       "      <th></th>\n",
       "      <th>name</th>\n",
       "      <th>platform</th>\n",
       "      <th>year_of_release</th>\n",
       "      <th>genre</th>\n",
       "      <th>na_sales</th>\n",
       "      <th>eu_sales</th>\n",
       "      <th>jp_sales</th>\n",
       "      <th>other_sales</th>\n",
       "      <th>critic_score</th>\n",
       "      <th>user_score</th>\n",
       "      <th>rating</th>\n",
       "    </tr>\n",
       "  </thead>\n",
       "  <tbody>\n",
       "    <tr>\n",
       "      <th>0</th>\n",
       "      <td>Wii Sports</td>\n",
       "      <td>Wii</td>\n",
       "      <td>2006.0</td>\n",
       "      <td>Sports</td>\n",
       "      <td>41.36</td>\n",
       "      <td>28.96</td>\n",
       "      <td>3.77</td>\n",
       "      <td>8.45</td>\n",
       "      <td>76.0</td>\n",
       "      <td>8</td>\n",
       "      <td>E</td>\n",
       "    </tr>\n",
       "    <tr>\n",
       "      <th>1</th>\n",
       "      <td>Super Mario Bros.</td>\n",
       "      <td>NES</td>\n",
       "      <td>1985.0</td>\n",
       "      <td>Platform</td>\n",
       "      <td>29.08</td>\n",
       "      <td>3.58</td>\n",
       "      <td>6.81</td>\n",
       "      <td>0.77</td>\n",
       "      <td>NaN</td>\n",
       "      <td>NaN</td>\n",
       "      <td>NaN</td>\n",
       "    </tr>\n",
       "    <tr>\n",
       "      <th>2</th>\n",
       "      <td>Mario Kart Wii</td>\n",
       "      <td>Wii</td>\n",
       "      <td>2008.0</td>\n",
       "      <td>Racing</td>\n",
       "      <td>15.68</td>\n",
       "      <td>12.76</td>\n",
       "      <td>3.79</td>\n",
       "      <td>3.29</td>\n",
       "      <td>82.0</td>\n",
       "      <td>8.3</td>\n",
       "      <td>E</td>\n",
       "    </tr>\n",
       "    <tr>\n",
       "      <th>3</th>\n",
       "      <td>Wii Sports Resort</td>\n",
       "      <td>Wii</td>\n",
       "      <td>2009.0</td>\n",
       "      <td>Sports</td>\n",
       "      <td>15.61</td>\n",
       "      <td>10.93</td>\n",
       "      <td>3.28</td>\n",
       "      <td>2.95</td>\n",
       "      <td>80.0</td>\n",
       "      <td>8</td>\n",
       "      <td>E</td>\n",
       "    </tr>\n",
       "    <tr>\n",
       "      <th>4</th>\n",
       "      <td>Pokemon Red/Pokemon Blue</td>\n",
       "      <td>GB</td>\n",
       "      <td>1996.0</td>\n",
       "      <td>Role-Playing</td>\n",
       "      <td>11.27</td>\n",
       "      <td>8.89</td>\n",
       "      <td>10.22</td>\n",
       "      <td>1.00</td>\n",
       "      <td>NaN</td>\n",
       "      <td>NaN</td>\n",
       "      <td>NaN</td>\n",
       "    </tr>\n",
       "  </tbody>\n",
       "</table>\n",
       "</div>"
      ],
      "text/plain": [
       "                       name platform  year_of_release         genre  na_sales  \\\n",
       "0                Wii Sports      Wii           2006.0        Sports     41.36   \n",
       "1         Super Mario Bros.      NES           1985.0      Platform     29.08   \n",
       "2            Mario Kart Wii      Wii           2008.0        Racing     15.68   \n",
       "3         Wii Sports Resort      Wii           2009.0        Sports     15.61   \n",
       "4  Pokemon Red/Pokemon Blue       GB           1996.0  Role-Playing     11.27   \n",
       "\n",
       "   eu_sales  jp_sales  other_sales  critic_score user_score rating  \n",
       "0     28.96      3.77         8.45          76.0          8      E  \n",
       "1      3.58      6.81         0.77           NaN        NaN    NaN  \n",
       "2     12.76      3.79         3.29          82.0        8.3      E  \n",
       "3     10.93      3.28         2.95          80.0          8      E  \n",
       "4      8.89     10.22         1.00           NaN        NaN    NaN  "
      ]
     },
     "execution_count": 4,
     "metadata": {},
     "output_type": "execute_result"
    }
   ],
   "source": [
    "data.columns = data.columns.str.lower()\n",
    "data.head()"
   ]
  },
  {
   "cell_type": "markdown",
   "metadata": {},
   "source": [
    "Проверим датасет на наличие дубликатов."
   ]
  },
  {
   "cell_type": "code",
   "execution_count": 5,
   "metadata": {},
   "outputs": [
    {
     "data": {
      "text/plain": [
       "0"
      ]
     },
     "execution_count": 5,
     "metadata": {},
     "output_type": "execute_result"
    }
   ],
   "source": [
    "data.duplicated().sum()"
   ]
  },
  {
   "cell_type": "markdown",
   "metadata": {},
   "source": [
    "В названии игры присутствует 2 пропуска. Проверим их."
   ]
  },
  {
   "cell_type": "code",
   "execution_count": 6,
   "metadata": {},
   "outputs": [
    {
     "data": {
      "text/html": [
       "<div>\n",
       "<style scoped>\n",
       "    .dataframe tbody tr th:only-of-type {\n",
       "        vertical-align: middle;\n",
       "    }\n",
       "\n",
       "    .dataframe tbody tr th {\n",
       "        vertical-align: top;\n",
       "    }\n",
       "\n",
       "    .dataframe thead th {\n",
       "        text-align: right;\n",
       "    }\n",
       "</style>\n",
       "<table border=\"1\" class=\"dataframe\">\n",
       "  <thead>\n",
       "    <tr style=\"text-align: right;\">\n",
       "      <th></th>\n",
       "      <th>name</th>\n",
       "      <th>platform</th>\n",
       "      <th>year_of_release</th>\n",
       "      <th>genre</th>\n",
       "      <th>na_sales</th>\n",
       "      <th>eu_sales</th>\n",
       "      <th>jp_sales</th>\n",
       "      <th>other_sales</th>\n",
       "      <th>critic_score</th>\n",
       "      <th>user_score</th>\n",
       "      <th>rating</th>\n",
       "    </tr>\n",
       "  </thead>\n",
       "  <tbody>\n",
       "    <tr>\n",
       "      <th>659</th>\n",
       "      <td>NaN</td>\n",
       "      <td>GEN</td>\n",
       "      <td>1993.0</td>\n",
       "      <td>NaN</td>\n",
       "      <td>1.78</td>\n",
       "      <td>0.53</td>\n",
       "      <td>0.00</td>\n",
       "      <td>0.08</td>\n",
       "      <td>NaN</td>\n",
       "      <td>NaN</td>\n",
       "      <td>NaN</td>\n",
       "    </tr>\n",
       "    <tr>\n",
       "      <th>14244</th>\n",
       "      <td>NaN</td>\n",
       "      <td>GEN</td>\n",
       "      <td>1993.0</td>\n",
       "      <td>NaN</td>\n",
       "      <td>0.00</td>\n",
       "      <td>0.00</td>\n",
       "      <td>0.03</td>\n",
       "      <td>0.00</td>\n",
       "      <td>NaN</td>\n",
       "      <td>NaN</td>\n",
       "      <td>NaN</td>\n",
       "    </tr>\n",
       "  </tbody>\n",
       "</table>\n",
       "</div>"
      ],
      "text/plain": [
       "      name platform  year_of_release genre  na_sales  eu_sales  jp_sales  \\\n",
       "659    NaN      GEN           1993.0   NaN      1.78      0.53      0.00   \n",
       "14244  NaN      GEN           1993.0   NaN      0.00      0.00      0.03   \n",
       "\n",
       "       other_sales  critic_score user_score rating  \n",
       "659           0.08           NaN        NaN    NaN  \n",
       "14244         0.00           NaN        NaN    NaN  "
      ]
     },
     "execution_count": 6,
     "metadata": {},
     "output_type": "execute_result"
    }
   ],
   "source": [
    "data[data['name'].isna()]"
   ]
  },
  {
   "cell_type": "markdown",
   "metadata": {},
   "source": [
    "В данных, где пропущено название игры, отсутвуют так же название жанра (в этом столбце так же присутствует 2 пропуска, значит это они и есть и дополнительно проверять их мы не будем), оценки пользователей и критиков и рейтинг. Удалим эти строки, так как они не несут большой информативности и составляют очень малую долю от общих данных.\n",
    "\n",
    "Обработанные данные будем сохранять в новую таблицу good_data. Далее работать будем только с ней."
   ]
  },
  {
   "cell_type": "code",
   "execution_count": 7,
   "metadata": {},
   "outputs": [
    {
     "data": {
      "text/plain": [
       "0"
      ]
     },
     "execution_count": 7,
     "metadata": {},
     "output_type": "execute_result"
    }
   ],
   "source": [
    "good_data = data.query('name.notna()')\n",
    "good_data[good_data['name'].isna()].shape[0] #проверим количество пропусков в названии игры"
   ]
  },
  {
   "cell_type": "markdown",
   "metadata": {},
   "source": [
    "В Year_of_Release отсутствуют данные для 269 записей. Эти данные являются очень важными для анализа и предположить их по другим данным достаточно сложно. Так как доля пропусков от общего количества данных не так велика, удалим соответствующие строки."
   ]
  },
  {
   "cell_type": "code",
   "execution_count": 8,
   "metadata": {
    "scrolled": false
   },
   "outputs": [
    {
     "data": {
      "text/plain": [
       "0"
      ]
     },
     "execution_count": 8,
     "metadata": {},
     "output_type": "execute_result"
    }
   ],
   "source": [
    "good_data = good_data.query('year_of_release.notna()')\n",
    "good_data[good_data['year_of_release'].isna()].shape[0] #проверим количество пропусков в годе выпуска"
   ]
  },
  {
   "cell_type": "markdown",
   "metadata": {},
   "source": [
    "Приведем данные года выпуска игры к целочисленному типу."
   ]
  },
  {
   "cell_type": "code",
   "execution_count": 9,
   "metadata": {},
   "outputs": [],
   "source": [
    "good_data['year_of_release'] = good_data['year_of_release'].astype('int')"
   ]
  },
  {
   "cell_type": "markdown",
   "metadata": {},
   "source": [
    "Заметим, что в данных оценки пользователей присутствует значение 'tbd'. Оно предположительно означает to be determined (подлежит уточнению). Скорее всего значение 'tbd' используется там, где оценка пользователей еще не собрана или слишком мала, а значит является схожим с пропуском данных. Для дальнейшей работы заменим значение 'tbd' на пропуск."
   ]
  },
  {
   "cell_type": "code",
   "execution_count": 10,
   "metadata": {},
   "outputs": [],
   "source": [
    "good_data['user_score'].replace('tbd', np.nan, inplace=True)"
   ]
  },
  {
   "cell_type": "markdown",
   "metadata": {},
   "source": [
    "Приведем данные оценки пользователей к числовому формату."
   ]
  },
  {
   "cell_type": "code",
   "execution_count": 11,
   "metadata": {},
   "outputs": [],
   "source": [
    "good_data['user_score'] = good_data['user_score'].astype('float64')"
   ]
  },
  {
   "cell_type": "markdown",
   "metadata": {},
   "source": [
    "В таблице отсутвует большое количество данных оценки пользователей и критиков. Проверим, есть ли корреляция между ними и другими данными, чтобы мы могли искусственно заменить пропуски на основании других данных."
   ]
  },
  {
   "cell_type": "code",
   "execution_count": 12,
   "metadata": {},
   "outputs": [
    {
     "data": {
      "text/html": [
       "<div>\n",
       "<style scoped>\n",
       "    .dataframe tbody tr th:only-of-type {\n",
       "        vertical-align: middle;\n",
       "    }\n",
       "\n",
       "    .dataframe tbody tr th {\n",
       "        vertical-align: top;\n",
       "    }\n",
       "\n",
       "    .dataframe thead th {\n",
       "        text-align: right;\n",
       "    }\n",
       "</style>\n",
       "<table border=\"1\" class=\"dataframe\">\n",
       "  <thead>\n",
       "    <tr style=\"text-align: right;\">\n",
       "      <th></th>\n",
       "      <th>year_of_release</th>\n",
       "      <th>na_sales</th>\n",
       "      <th>eu_sales</th>\n",
       "      <th>jp_sales</th>\n",
       "      <th>other_sales</th>\n",
       "      <th>critic_score</th>\n",
       "      <th>user_score</th>\n",
       "    </tr>\n",
       "  </thead>\n",
       "  <tbody>\n",
       "    <tr>\n",
       "      <th>year_of_release</th>\n",
       "      <td>1.000000</td>\n",
       "      <td>-0.020471</td>\n",
       "      <td>0.038022</td>\n",
       "      <td>-0.041715</td>\n",
       "      <td>0.038807</td>\n",
       "      <td>-0.011215</td>\n",
       "      <td>-0.251482</td>\n",
       "    </tr>\n",
       "    <tr>\n",
       "      <th>na_sales</th>\n",
       "      <td>-0.020471</td>\n",
       "      <td>1.000000</td>\n",
       "      <td>0.841701</td>\n",
       "      <td>0.468377</td>\n",
       "      <td>0.726931</td>\n",
       "      <td>0.232922</td>\n",
       "      <td>0.085827</td>\n",
       "    </tr>\n",
       "    <tr>\n",
       "      <th>eu_sales</th>\n",
       "      <td>0.038022</td>\n",
       "      <td>0.841701</td>\n",
       "      <td>1.000000</td>\n",
       "      <td>0.519490</td>\n",
       "      <td>0.716493</td>\n",
       "      <td>0.212843</td>\n",
       "      <td>0.055798</td>\n",
       "    </tr>\n",
       "    <tr>\n",
       "      <th>jp_sales</th>\n",
       "      <td>-0.041715</td>\n",
       "      <td>0.468377</td>\n",
       "      <td>0.519490</td>\n",
       "      <td>1.000000</td>\n",
       "      <td>0.394698</td>\n",
       "      <td>0.147178</td>\n",
       "      <td>0.127920</td>\n",
       "    </tr>\n",
       "    <tr>\n",
       "      <th>other_sales</th>\n",
       "      <td>0.038807</td>\n",
       "      <td>0.726931</td>\n",
       "      <td>0.716493</td>\n",
       "      <td>0.394698</td>\n",
       "      <td>1.000000</td>\n",
       "      <td>0.191189</td>\n",
       "      <td>0.057182</td>\n",
       "    </tr>\n",
       "    <tr>\n",
       "      <th>critic_score</th>\n",
       "      <td>-0.011215</td>\n",
       "      <td>0.232922</td>\n",
       "      <td>0.212843</td>\n",
       "      <td>0.147178</td>\n",
       "      <td>0.191189</td>\n",
       "      <td>1.000000</td>\n",
       "      <td>0.579671</td>\n",
       "    </tr>\n",
       "    <tr>\n",
       "      <th>user_score</th>\n",
       "      <td>-0.251482</td>\n",
       "      <td>0.085827</td>\n",
       "      <td>0.055798</td>\n",
       "      <td>0.127920</td>\n",
       "      <td>0.057182</td>\n",
       "      <td>0.579671</td>\n",
       "      <td>1.000000</td>\n",
       "    </tr>\n",
       "  </tbody>\n",
       "</table>\n",
       "</div>"
      ],
      "text/plain": [
       "                 year_of_release  na_sales  eu_sales  jp_sales  other_sales  \\\n",
       "year_of_release         1.000000 -0.020471  0.038022 -0.041715     0.038807   \n",
       "na_sales               -0.020471  1.000000  0.841701  0.468377     0.726931   \n",
       "eu_sales                0.038022  0.841701  1.000000  0.519490     0.716493   \n",
       "jp_sales               -0.041715  0.468377  0.519490  1.000000     0.394698   \n",
       "other_sales             0.038807  0.726931  0.716493  0.394698     1.000000   \n",
       "critic_score           -0.011215  0.232922  0.212843  0.147178     0.191189   \n",
       "user_score             -0.251482  0.085827  0.055798  0.127920     0.057182   \n",
       "\n",
       "                 critic_score  user_score  \n",
       "year_of_release     -0.011215   -0.251482  \n",
       "na_sales             0.232922    0.085827  \n",
       "eu_sales             0.212843    0.055798  \n",
       "jp_sales             0.147178    0.127920  \n",
       "other_sales          0.191189    0.057182  \n",
       "critic_score         1.000000    0.579671  \n",
       "user_score           0.579671    1.000000  "
      ]
     },
     "execution_count": 12,
     "metadata": {},
     "output_type": "execute_result"
    }
   ],
   "source": [
    "good_data.query('user_score.notna() and critic_score.notna()').corr()"
   ]
  },
  {
   "cell_type": "markdown",
   "metadata": {},
   "source": [
    "Сильной корреляции оценок с другими данными нет. Значит восстановить данные оценок пользователей и критиков по имеющимся данным корректно не получится. Оставим пропуски в данных."
   ]
  },
  {
   "cell_type": "markdown",
   "metadata": {},
   "source": [
    "Большое количество пропусков так же наблюдается в рэйтинге игры. Проверим, можно ли определить рейтинг на основании жанра или платформы (например, какие-то жанры могут выпускаться исключительно для определенного возраста)"
   ]
  },
  {
   "cell_type": "code",
   "execution_count": 13,
   "metadata": {},
   "outputs": [
    {
     "data": {
      "text/html": [
       "<div>\n",
       "<style scoped>\n",
       "    .dataframe tbody tr th:only-of-type {\n",
       "        vertical-align: middle;\n",
       "    }\n",
       "\n",
       "    .dataframe tbody tr th {\n",
       "        vertical-align: top;\n",
       "    }\n",
       "\n",
       "    .dataframe thead th {\n",
       "        text-align: right;\n",
       "    }\n",
       "</style>\n",
       "<table border=\"1\" class=\"dataframe\">\n",
       "  <thead>\n",
       "    <tr style=\"text-align: right;\">\n",
       "      <th>rating</th>\n",
       "      <th>AO</th>\n",
       "      <th>E</th>\n",
       "      <th>E10+</th>\n",
       "      <th>EC</th>\n",
       "      <th>K-A</th>\n",
       "      <th>M</th>\n",
       "      <th>RP</th>\n",
       "      <th>T</th>\n",
       "    </tr>\n",
       "    <tr>\n",
       "      <th>genre</th>\n",
       "      <th></th>\n",
       "      <th></th>\n",
       "      <th></th>\n",
       "      <th></th>\n",
       "      <th></th>\n",
       "      <th></th>\n",
       "      <th></th>\n",
       "      <th></th>\n",
       "    </tr>\n",
       "  </thead>\n",
       "  <tbody>\n",
       "    <tr>\n",
       "      <th>Action</th>\n",
       "      <td>1.0</td>\n",
       "      <td>410.0</td>\n",
       "      <td>468.0</td>\n",
       "      <td>1.0</td>\n",
       "      <td>NaN</td>\n",
       "      <td>596.0</td>\n",
       "      <td>NaN</td>\n",
       "      <td>670.0</td>\n",
       "    </tr>\n",
       "    <tr>\n",
       "      <th>Adventure</th>\n",
       "      <td>NaN</td>\n",
       "      <td>159.0</td>\n",
       "      <td>67.0</td>\n",
       "      <td>2.0</td>\n",
       "      <td>NaN</td>\n",
       "      <td>98.0</td>\n",
       "      <td>NaN</td>\n",
       "      <td>114.0</td>\n",
       "    </tr>\n",
       "    <tr>\n",
       "      <th>Fighting</th>\n",
       "      <td>NaN</td>\n",
       "      <td>8.0</td>\n",
       "      <td>19.0</td>\n",
       "      <td>NaN</td>\n",
       "      <td>NaN</td>\n",
       "      <td>48.0</td>\n",
       "      <td>NaN</td>\n",
       "      <td>357.0</td>\n",
       "    </tr>\n",
       "    <tr>\n",
       "      <th>Misc</th>\n",
       "      <td>NaN</td>\n",
       "      <td>449.0</td>\n",
       "      <td>166.0</td>\n",
       "      <td>5.0</td>\n",
       "      <td>1.0</td>\n",
       "      <td>13.0</td>\n",
       "      <td>NaN</td>\n",
       "      <td>228.0</td>\n",
       "    </tr>\n",
       "    <tr>\n",
       "      <th>Platform</th>\n",
       "      <td>NaN</td>\n",
       "      <td>354.0</td>\n",
       "      <td>141.0</td>\n",
       "      <td>NaN</td>\n",
       "      <td>NaN</td>\n",
       "      <td>3.0</td>\n",
       "      <td>NaN</td>\n",
       "      <td>63.0</td>\n",
       "    </tr>\n",
       "    <tr>\n",
       "      <th>Puzzle</th>\n",
       "      <td>NaN</td>\n",
       "      <td>284.0</td>\n",
       "      <td>42.0</td>\n",
       "      <td>NaN</td>\n",
       "      <td>NaN</td>\n",
       "      <td>NaN</td>\n",
       "      <td>NaN</td>\n",
       "      <td>10.0</td>\n",
       "    </tr>\n",
       "    <tr>\n",
       "      <th>Racing</th>\n",
       "      <td>NaN</td>\n",
       "      <td>576.0</td>\n",
       "      <td>95.0</td>\n",
       "      <td>NaN</td>\n",
       "      <td>NaN</td>\n",
       "      <td>18.0</td>\n",
       "      <td>NaN</td>\n",
       "      <td>167.0</td>\n",
       "    </tr>\n",
       "    <tr>\n",
       "      <th>Role-Playing</th>\n",
       "      <td>NaN</td>\n",
       "      <td>83.0</td>\n",
       "      <td>111.0</td>\n",
       "      <td>NaN</td>\n",
       "      <td>NaN</td>\n",
       "      <td>161.0</td>\n",
       "      <td>NaN</td>\n",
       "      <td>415.0</td>\n",
       "    </tr>\n",
       "    <tr>\n",
       "      <th>Shooter</th>\n",
       "      <td>NaN</td>\n",
       "      <td>47.0</td>\n",
       "      <td>56.0</td>\n",
       "      <td>NaN</td>\n",
       "      <td>NaN</td>\n",
       "      <td>553.0</td>\n",
       "      <td>NaN</td>\n",
       "      <td>340.0</td>\n",
       "    </tr>\n",
       "    <tr>\n",
       "      <th>Simulation</th>\n",
       "      <td>NaN</td>\n",
       "      <td>321.0</td>\n",
       "      <td>47.0</td>\n",
       "      <td>NaN</td>\n",
       "      <td>NaN</td>\n",
       "      <td>5.0</td>\n",
       "      <td>NaN</td>\n",
       "      <td>186.0</td>\n",
       "    </tr>\n",
       "    <tr>\n",
       "      <th>Sports</th>\n",
       "      <td>NaN</td>\n",
       "      <td>1162.0</td>\n",
       "      <td>105.0</td>\n",
       "      <td>NaN</td>\n",
       "      <td>NaN</td>\n",
       "      <td>16.0</td>\n",
       "      <td>NaN</td>\n",
       "      <td>195.0</td>\n",
       "    </tr>\n",
       "    <tr>\n",
       "      <th>Strategy</th>\n",
       "      <td>NaN</td>\n",
       "      <td>68.0</td>\n",
       "      <td>76.0</td>\n",
       "      <td>NaN</td>\n",
       "      <td>2.0</td>\n",
       "      <td>25.0</td>\n",
       "      <td>1.0</td>\n",
       "      <td>160.0</td>\n",
       "    </tr>\n",
       "  </tbody>\n",
       "</table>\n",
       "</div>"
      ],
      "text/plain": [
       "rating         AO       E   E10+   EC  K-A      M   RP      T\n",
       "genre                                                        \n",
       "Action        1.0   410.0  468.0  1.0  NaN  596.0  NaN  670.0\n",
       "Adventure     NaN   159.0   67.0  2.0  NaN   98.0  NaN  114.0\n",
       "Fighting      NaN     8.0   19.0  NaN  NaN   48.0  NaN  357.0\n",
       "Misc          NaN   449.0  166.0  5.0  1.0   13.0  NaN  228.0\n",
       "Platform      NaN   354.0  141.0  NaN  NaN    3.0  NaN   63.0\n",
       "Puzzle        NaN   284.0   42.0  NaN  NaN    NaN  NaN   10.0\n",
       "Racing        NaN   576.0   95.0  NaN  NaN   18.0  NaN  167.0\n",
       "Role-Playing  NaN    83.0  111.0  NaN  NaN  161.0  NaN  415.0\n",
       "Shooter       NaN    47.0   56.0  NaN  NaN  553.0  NaN  340.0\n",
       "Simulation    NaN   321.0   47.0  NaN  NaN    5.0  NaN  186.0\n",
       "Sports        NaN  1162.0  105.0  NaN  NaN   16.0  NaN  195.0\n",
       "Strategy      NaN    68.0   76.0  NaN  2.0   25.0  1.0  160.0"
      ]
     },
     "execution_count": 13,
     "metadata": {},
     "output_type": "execute_result"
    }
   ],
   "source": [
    "good_data.pivot_table(index = 'genre', columns = 'rating', values = 'name', aggfunc = 'count')"
   ]
  },
  {
   "cell_type": "code",
   "execution_count": 14,
   "metadata": {},
   "outputs": [
    {
     "data": {
      "text/html": [
       "<div>\n",
       "<style scoped>\n",
       "    .dataframe tbody tr th:only-of-type {\n",
       "        vertical-align: middle;\n",
       "    }\n",
       "\n",
       "    .dataframe tbody tr th {\n",
       "        vertical-align: top;\n",
       "    }\n",
       "\n",
       "    .dataframe thead th {\n",
       "        text-align: right;\n",
       "    }\n",
       "</style>\n",
       "<table border=\"1\" class=\"dataframe\">\n",
       "  <thead>\n",
       "    <tr style=\"text-align: right;\">\n",
       "      <th>rating</th>\n",
       "      <th>AO</th>\n",
       "      <th>E</th>\n",
       "      <th>E10+</th>\n",
       "      <th>EC</th>\n",
       "      <th>K-A</th>\n",
       "      <th>M</th>\n",
       "      <th>RP</th>\n",
       "      <th>T</th>\n",
       "    </tr>\n",
       "    <tr>\n",
       "      <th>platform</th>\n",
       "      <th></th>\n",
       "      <th></th>\n",
       "      <th></th>\n",
       "      <th></th>\n",
       "      <th></th>\n",
       "      <th></th>\n",
       "      <th></th>\n",
       "      <th></th>\n",
       "    </tr>\n",
       "  </thead>\n",
       "  <tbody>\n",
       "    <tr>\n",
       "      <th>3DS</th>\n",
       "      <td>NaN</td>\n",
       "      <td>90.0</td>\n",
       "      <td>74.0</td>\n",
       "      <td>NaN</td>\n",
       "      <td>NaN</td>\n",
       "      <td>12.0</td>\n",
       "      <td>NaN</td>\n",
       "      <td>47.0</td>\n",
       "    </tr>\n",
       "    <tr>\n",
       "      <th>DC</th>\n",
       "      <td>NaN</td>\n",
       "      <td>3.0</td>\n",
       "      <td>NaN</td>\n",
       "      <td>NaN</td>\n",
       "      <td>NaN</td>\n",
       "      <td>1.0</td>\n",
       "      <td>NaN</td>\n",
       "      <td>10.0</td>\n",
       "    </tr>\n",
       "    <tr>\n",
       "      <th>DS</th>\n",
       "      <td>NaN</td>\n",
       "      <td>865.0</td>\n",
       "      <td>254.0</td>\n",
       "      <td>2.0</td>\n",
       "      <td>NaN</td>\n",
       "      <td>10.0</td>\n",
       "      <td>NaN</td>\n",
       "      <td>124.0</td>\n",
       "    </tr>\n",
       "    <tr>\n",
       "      <th>GBA</th>\n",
       "      <td>NaN</td>\n",
       "      <td>419.0</td>\n",
       "      <td>24.0</td>\n",
       "      <td>NaN</td>\n",
       "      <td>NaN</td>\n",
       "      <td>7.0</td>\n",
       "      <td>NaN</td>\n",
       "      <td>64.0</td>\n",
       "    </tr>\n",
       "    <tr>\n",
       "      <th>GC</th>\n",
       "      <td>NaN</td>\n",
       "      <td>224.0</td>\n",
       "      <td>31.0</td>\n",
       "      <td>1.0</td>\n",
       "      <td>NaN</td>\n",
       "      <td>38.0</td>\n",
       "      <td>NaN</td>\n",
       "      <td>163.0</td>\n",
       "    </tr>\n",
       "    <tr>\n",
       "      <th>PC</th>\n",
       "      <td>NaN</td>\n",
       "      <td>136.0</td>\n",
       "      <td>74.0</td>\n",
       "      <td>2.0</td>\n",
       "      <td>2.0</td>\n",
       "      <td>249.0</td>\n",
       "      <td>1.0</td>\n",
       "      <td>293.0</td>\n",
       "    </tr>\n",
       "    <tr>\n",
       "      <th>PS</th>\n",
       "      <td>NaN</td>\n",
       "      <td>115.0</td>\n",
       "      <td>NaN</td>\n",
       "      <td>NaN</td>\n",
       "      <td>1.0</td>\n",
       "      <td>19.0</td>\n",
       "      <td>NaN</td>\n",
       "      <td>69.0</td>\n",
       "    </tr>\n",
       "    <tr>\n",
       "      <th>PS2</th>\n",
       "      <td>NaN</td>\n",
       "      <td>541.0</td>\n",
       "      <td>125.0</td>\n",
       "      <td>1.0</td>\n",
       "      <td>NaN</td>\n",
       "      <td>222.0</td>\n",
       "      <td>NaN</td>\n",
       "      <td>567.0</td>\n",
       "    </tr>\n",
       "    <tr>\n",
       "      <th>PS3</th>\n",
       "      <td>NaN</td>\n",
       "      <td>208.0</td>\n",
       "      <td>138.0</td>\n",
       "      <td>NaN</td>\n",
       "      <td>NaN</td>\n",
       "      <td>260.0</td>\n",
       "      <td>NaN</td>\n",
       "      <td>329.0</td>\n",
       "    </tr>\n",
       "    <tr>\n",
       "      <th>PS4</th>\n",
       "      <td>NaN</td>\n",
       "      <td>54.0</td>\n",
       "      <td>40.0</td>\n",
       "      <td>NaN</td>\n",
       "      <td>NaN</td>\n",
       "      <td>76.0</td>\n",
       "      <td>NaN</td>\n",
       "      <td>85.0</td>\n",
       "    </tr>\n",
       "    <tr>\n",
       "      <th>PSP</th>\n",
       "      <td>NaN</td>\n",
       "      <td>185.0</td>\n",
       "      <td>102.0</td>\n",
       "      <td>NaN</td>\n",
       "      <td>NaN</td>\n",
       "      <td>49.0</td>\n",
       "      <td>NaN</td>\n",
       "      <td>200.0</td>\n",
       "    </tr>\n",
       "    <tr>\n",
       "      <th>PSV</th>\n",
       "      <td>NaN</td>\n",
       "      <td>22.0</td>\n",
       "      <td>28.0</td>\n",
       "      <td>NaN</td>\n",
       "      <td>NaN</td>\n",
       "      <td>33.0</td>\n",
       "      <td>NaN</td>\n",
       "      <td>67.0</td>\n",
       "    </tr>\n",
       "    <tr>\n",
       "      <th>Wii</th>\n",
       "      <td>NaN</td>\n",
       "      <td>493.0</td>\n",
       "      <td>234.0</td>\n",
       "      <td>2.0</td>\n",
       "      <td>NaN</td>\n",
       "      <td>33.0</td>\n",
       "      <td>NaN</td>\n",
       "      <td>215.0</td>\n",
       "    </tr>\n",
       "    <tr>\n",
       "      <th>WiiU</th>\n",
       "      <td>NaN</td>\n",
       "      <td>35.0</td>\n",
       "      <td>42.0</td>\n",
       "      <td>NaN</td>\n",
       "      <td>NaN</td>\n",
       "      <td>15.0</td>\n",
       "      <td>NaN</td>\n",
       "      <td>13.0</td>\n",
       "    </tr>\n",
       "    <tr>\n",
       "      <th>X360</th>\n",
       "      <td>NaN</td>\n",
       "      <td>243.0</td>\n",
       "      <td>165.0</td>\n",
       "      <td>NaN</td>\n",
       "      <td>NaN</td>\n",
       "      <td>288.0</td>\n",
       "      <td>NaN</td>\n",
       "      <td>334.0</td>\n",
       "    </tr>\n",
       "    <tr>\n",
       "      <th>XB</th>\n",
       "      <td>1.0</td>\n",
       "      <td>243.0</td>\n",
       "      <td>31.0</td>\n",
       "      <td>NaN</td>\n",
       "      <td>NaN</td>\n",
       "      <td>154.0</td>\n",
       "      <td>NaN</td>\n",
       "      <td>285.0</td>\n",
       "    </tr>\n",
       "    <tr>\n",
       "      <th>XOne</th>\n",
       "      <td>NaN</td>\n",
       "      <td>45.0</td>\n",
       "      <td>31.0</td>\n",
       "      <td>NaN</td>\n",
       "      <td>NaN</td>\n",
       "      <td>70.0</td>\n",
       "      <td>NaN</td>\n",
       "      <td>40.0</td>\n",
       "    </tr>\n",
       "  </tbody>\n",
       "</table>\n",
       "</div>"
      ],
      "text/plain": [
       "rating     AO      E   E10+   EC  K-A      M   RP      T\n",
       "platform                                                \n",
       "3DS       NaN   90.0   74.0  NaN  NaN   12.0  NaN   47.0\n",
       "DC        NaN    3.0    NaN  NaN  NaN    1.0  NaN   10.0\n",
       "DS        NaN  865.0  254.0  2.0  NaN   10.0  NaN  124.0\n",
       "GBA       NaN  419.0   24.0  NaN  NaN    7.0  NaN   64.0\n",
       "GC        NaN  224.0   31.0  1.0  NaN   38.0  NaN  163.0\n",
       "PC        NaN  136.0   74.0  2.0  2.0  249.0  1.0  293.0\n",
       "PS        NaN  115.0    NaN  NaN  1.0   19.0  NaN   69.0\n",
       "PS2       NaN  541.0  125.0  1.0  NaN  222.0  NaN  567.0\n",
       "PS3       NaN  208.0  138.0  NaN  NaN  260.0  NaN  329.0\n",
       "PS4       NaN   54.0   40.0  NaN  NaN   76.0  NaN   85.0\n",
       "PSP       NaN  185.0  102.0  NaN  NaN   49.0  NaN  200.0\n",
       "PSV       NaN   22.0   28.0  NaN  NaN   33.0  NaN   67.0\n",
       "Wii       NaN  493.0  234.0  2.0  NaN   33.0  NaN  215.0\n",
       "WiiU      NaN   35.0   42.0  NaN  NaN   15.0  NaN   13.0\n",
       "X360      NaN  243.0  165.0  NaN  NaN  288.0  NaN  334.0\n",
       "XB        1.0  243.0   31.0  NaN  NaN  154.0  NaN  285.0\n",
       "XOne      NaN   45.0   31.0  NaN  NaN   70.0  NaN   40.0"
      ]
     },
     "execution_count": 14,
     "metadata": {},
     "output_type": "execute_result"
    }
   ],
   "source": [
    "good_data.pivot_table(index = 'platform', columns = 'rating', values = 'name', aggfunc = 'count')"
   ]
  },
  {
   "cell_type": "markdown",
   "metadata": {},
   "source": [
    "Рейтинг имеет достаточно большой разброс по жанрам и платформам, а значит восставить его корректно не получится. Оставим пропуски и в этих данных. Таким образом анализ будет более правдивым."
   ]
  },
  {
   "cell_type": "markdown",
   "metadata": {},
   "source": [
    "Добавим к данным столбец с суммарными продажами по всем регионам."
   ]
  },
  {
   "cell_type": "code",
   "execution_count": 15,
   "metadata": {
    "scrolled": false
   },
   "outputs": [
    {
     "data": {
      "text/html": [
       "<div>\n",
       "<style scoped>\n",
       "    .dataframe tbody tr th:only-of-type {\n",
       "        vertical-align: middle;\n",
       "    }\n",
       "\n",
       "    .dataframe tbody tr th {\n",
       "        vertical-align: top;\n",
       "    }\n",
       "\n",
       "    .dataframe thead th {\n",
       "        text-align: right;\n",
       "    }\n",
       "</style>\n",
       "<table border=\"1\" class=\"dataframe\">\n",
       "  <thead>\n",
       "    <tr style=\"text-align: right;\">\n",
       "      <th></th>\n",
       "      <th>name</th>\n",
       "      <th>platform</th>\n",
       "      <th>year_of_release</th>\n",
       "      <th>genre</th>\n",
       "      <th>na_sales</th>\n",
       "      <th>eu_sales</th>\n",
       "      <th>jp_sales</th>\n",
       "      <th>other_sales</th>\n",
       "      <th>critic_score</th>\n",
       "      <th>user_score</th>\n",
       "      <th>rating</th>\n",
       "      <th>total_sales</th>\n",
       "    </tr>\n",
       "  </thead>\n",
       "  <tbody>\n",
       "    <tr>\n",
       "      <th>0</th>\n",
       "      <td>Wii Sports</td>\n",
       "      <td>Wii</td>\n",
       "      <td>2006</td>\n",
       "      <td>Sports</td>\n",
       "      <td>41.36</td>\n",
       "      <td>28.96</td>\n",
       "      <td>3.77</td>\n",
       "      <td>8.45</td>\n",
       "      <td>76.0</td>\n",
       "      <td>8.0</td>\n",
       "      <td>E</td>\n",
       "      <td>82.54</td>\n",
       "    </tr>\n",
       "    <tr>\n",
       "      <th>1</th>\n",
       "      <td>Super Mario Bros.</td>\n",
       "      <td>NES</td>\n",
       "      <td>1985</td>\n",
       "      <td>Platform</td>\n",
       "      <td>29.08</td>\n",
       "      <td>3.58</td>\n",
       "      <td>6.81</td>\n",
       "      <td>0.77</td>\n",
       "      <td>NaN</td>\n",
       "      <td>NaN</td>\n",
       "      <td>NaN</td>\n",
       "      <td>40.24</td>\n",
       "    </tr>\n",
       "    <tr>\n",
       "      <th>2</th>\n",
       "      <td>Mario Kart Wii</td>\n",
       "      <td>Wii</td>\n",
       "      <td>2008</td>\n",
       "      <td>Racing</td>\n",
       "      <td>15.68</td>\n",
       "      <td>12.76</td>\n",
       "      <td>3.79</td>\n",
       "      <td>3.29</td>\n",
       "      <td>82.0</td>\n",
       "      <td>8.3</td>\n",
       "      <td>E</td>\n",
       "      <td>35.52</td>\n",
       "    </tr>\n",
       "    <tr>\n",
       "      <th>3</th>\n",
       "      <td>Wii Sports Resort</td>\n",
       "      <td>Wii</td>\n",
       "      <td>2009</td>\n",
       "      <td>Sports</td>\n",
       "      <td>15.61</td>\n",
       "      <td>10.93</td>\n",
       "      <td>3.28</td>\n",
       "      <td>2.95</td>\n",
       "      <td>80.0</td>\n",
       "      <td>8.0</td>\n",
       "      <td>E</td>\n",
       "      <td>32.77</td>\n",
       "    </tr>\n",
       "    <tr>\n",
       "      <th>4</th>\n",
       "      <td>Pokemon Red/Pokemon Blue</td>\n",
       "      <td>GB</td>\n",
       "      <td>1996</td>\n",
       "      <td>Role-Playing</td>\n",
       "      <td>11.27</td>\n",
       "      <td>8.89</td>\n",
       "      <td>10.22</td>\n",
       "      <td>1.00</td>\n",
       "      <td>NaN</td>\n",
       "      <td>NaN</td>\n",
       "      <td>NaN</td>\n",
       "      <td>31.38</td>\n",
       "    </tr>\n",
       "  </tbody>\n",
       "</table>\n",
       "</div>"
      ],
      "text/plain": [
       "                       name platform  year_of_release         genre  na_sales  \\\n",
       "0                Wii Sports      Wii             2006        Sports     41.36   \n",
       "1         Super Mario Bros.      NES             1985      Platform     29.08   \n",
       "2            Mario Kart Wii      Wii             2008        Racing     15.68   \n",
       "3         Wii Sports Resort      Wii             2009        Sports     15.61   \n",
       "4  Pokemon Red/Pokemon Blue       GB             1996  Role-Playing     11.27   \n",
       "\n",
       "   eu_sales  jp_sales  other_sales  critic_score  user_score rating  \\\n",
       "0     28.96      3.77         8.45          76.0         8.0      E   \n",
       "1      3.58      6.81         0.77           NaN         NaN    NaN   \n",
       "2     12.76      3.79         3.29          82.0         8.3      E   \n",
       "3     10.93      3.28         2.95          80.0         8.0      E   \n",
       "4      8.89     10.22         1.00           NaN         NaN    NaN   \n",
       "\n",
       "   total_sales  \n",
       "0        82.54  \n",
       "1        40.24  \n",
       "2        35.52  \n",
       "3        32.77  \n",
       "4        31.38  "
      ]
     },
     "execution_count": 15,
     "metadata": {},
     "output_type": "execute_result"
    }
   ],
   "source": [
    "good_data['total_sales'] = good_data['na_sales'] + good_data['eu_sales'] + good_data['jp_sales'] + good_data['other_sales']\n",
    "good_data.head()"
   ]
  },
  {
   "cell_type": "markdown",
   "metadata": {},
   "source": [
    "**Вывод по подготовке данных:**\n",
    "\n",
    "\n",
    "- Приведение столбцов к нижнему регистру облегчило работу с данными, сделав названия более удобными для анализа.\n",
    "- Удаление строк с отсутствующими названиями и жанрами было оправдано, так как такие записи не несли значимой информации и составляли малую долю от общего объёма данных.\n",
    "- Пропуски в столбце year_of_release были удалены, так как они являются критически важными для анализа, и восполнить их корректно невозможно.\n",
    "- В столбце user_score значение tbd было заменено на пропуск, так как оно обозначает отсутствие данных, а оценка не может быть определена.\n",
    "- Оценки пользователей и критиков имеют слабую корреляцию с другими показателями, поэтому восполнить пропуски на основе других данных невозможно.\n",
    "- Пропуски в рейтинге ESRB также не удалось корректно восстановить на основе жанров или платформ, так как распределение рейтингов слишком разнообразно.\n",
    "- Был добавлен новый столбец total_sales, суммирующий продажи по всем регионам, что позволит проводить дальнейший анализ эффективности игр на мировом уровне."
   ]
  },
  {
   "cell_type": "markdown",
   "metadata": {},
   "source": [
    "## Исследовательский анализ данных"
   ]
  },
  {
   "cell_type": "markdown",
   "metadata": {},
   "source": [
    "### Выпуск игр по годам"
   ]
  },
  {
   "cell_type": "code",
   "execution_count": 16,
   "metadata": {},
   "outputs": [
    {
     "data": {
      "image/png": "[encoded data removed]",
      "text/plain": [
       "<Figure size 864x432 with 1 Axes>"
      ]
     },
     "metadata": {
      "needs_background": "light"
     },
     "output_type": "display_data"
    }
   ],
   "source": [
    "year_release = good_data.pivot_table(index = 'year_of_release', values = 'name', aggfunc = 'count').sort_values(by = 'year_of_release')\n",
    "year_release.columns = ['count']\n",
    "year_release.plot(kind = 'bar', figsize = (12,6))\n",
    "plt.title('Выпуск игр по годам')\n",
    "plt.xlabel('Год выпуска')\n",
    "plt.ylabel('Количество выпущенных игр')\n",
    "plt.legend(title=\"Года\")\n",
    "plt.grid(True)\n",
    "plt.show()"
   ]
  },
  {
   "cell_type": "code",
   "execution_count": 17,
   "metadata": {},
   "outputs": [
    {
     "data": {
      "text/html": [
       "<div>\n",
       "<style scoped>\n",
       "    .dataframe tbody tr th:only-of-type {\n",
       "        vertical-align: middle;\n",
       "    }\n",
       "\n",
       "    .dataframe tbody tr th {\n",
       "        vertical-align: top;\n",
       "    }\n",
       "\n",
       "    .dataframe thead th {\n",
       "        text-align: right;\n",
       "    }\n",
       "</style>\n",
       "<table border=\"1\" class=\"dataframe\">\n",
       "  <thead>\n",
       "    <tr style=\"text-align: right;\">\n",
       "      <th></th>\n",
       "      <th>count</th>\n",
       "    </tr>\n",
       "    <tr>\n",
       "      <th>year_of_release</th>\n",
       "      <th></th>\n",
       "    </tr>\n",
       "  </thead>\n",
       "  <tbody>\n",
       "    <tr>\n",
       "      <th>2008</th>\n",
       "      <td>1427</td>\n",
       "    </tr>\n",
       "    <tr>\n",
       "      <th>2009</th>\n",
       "      <td>1426</td>\n",
       "    </tr>\n",
       "    <tr>\n",
       "      <th>2010</th>\n",
       "      <td>1255</td>\n",
       "    </tr>\n",
       "    <tr>\n",
       "      <th>2007</th>\n",
       "      <td>1197</td>\n",
       "    </tr>\n",
       "    <tr>\n",
       "      <th>2011</th>\n",
       "      <td>1136</td>\n",
       "    </tr>\n",
       "    <tr>\n",
       "      <th>2006</th>\n",
       "      <td>1006</td>\n",
       "    </tr>\n",
       "    <tr>\n",
       "      <th>2005</th>\n",
       "      <td>939</td>\n",
       "    </tr>\n",
       "    <tr>\n",
       "      <th>2002</th>\n",
       "      <td>829</td>\n",
       "    </tr>\n",
       "    <tr>\n",
       "      <th>2003</th>\n",
       "      <td>775</td>\n",
       "    </tr>\n",
       "    <tr>\n",
       "      <th>2004</th>\n",
       "      <td>762</td>\n",
       "    </tr>\n",
       "  </tbody>\n",
       "</table>\n",
       "</div>"
      ],
      "text/plain": [
       "                 count\n",
       "year_of_release       \n",
       "2008              1427\n",
       "2009              1426\n",
       "2010              1255\n",
       "2007              1197\n",
       "2011              1136\n",
       "2006              1006\n",
       "2005               939\n",
       "2002               829\n",
       "2003               775\n",
       "2004               762"
      ]
     },
     "execution_count": 17,
     "metadata": {},
     "output_type": "execute_result"
    }
   ],
   "source": [
    "year_release.sort_values(by = 'count', ascending = False).head(10)"
   ]
  },
  {
   "cell_type": "markdown",
   "metadata": {},
   "source": [
    "На основе графика выпуска игр по годам видно, что активное увеличение числа выпускаемых игр началось с конца 90-х годов, достигнув своего пика в период с 2005 по 2011 год. Затем наблюдается снижение количества новых игр, особенно после 2011 года.\n",
    "\n",
    "\n",
    "Что касается важности данных за все периоды:\n",
    "\n",
    "\n",
    "- Данные до 2000 года имеют меньшую значимость, так как количество игр в эти годы было значительно ниже. Это связано с тем, что различные платформы только начали появлятся и развиваться и было не много людей, которые могли игры для этих платформ разрабатывать.\n",
    "- Основной анализ стоит сосредоточить на периоде с 2000 года и позже, так как именно в этот период произошел резкий рост индустрии, и эти данные могут лучше отражать современные тренды. В этот момент рынок компьютерных игр стал более доступным широкому пользователю и, соответственно, более популярным. Больший спрос породил и большее предложение.\n",
    "- После 2009 года количество выпущенных за год игр начало падать. Это можно объяснить большим количеством причин:\n",
    "        - многие выпущенные ранее игры стали настоящими хитами и компании сконцентрировались на их поддержании и улучшении\n",
    "        - рынок стал более требовательным и создавать действительно популярные игры стало сложнее, дольше и дороже\n",
    "- Период с 2005 по 2016 год можно считать наиболее важным для анализа тенденций выпуска игр, так как в это время наблюдалось максимальное количество релизов.\n",
    "\n",
    "\n",
    "Таким образом, для прогнозов и анализа современных тенденций предпочтительнее использовать данные за последние 10–15 лет, начиная с 2000 года."
   ]
  },
  {
   "cell_type": "markdown",
   "metadata": {},
   "source": [
    "### Продажи по платформам"
   ]
  },
  {
   "cell_type": "code",
   "execution_count": 18,
   "metadata": {},
   "outputs": [
    {
     "data": {
      "text/html": [
       "<div>\n",
       "<style scoped>\n",
       "    .dataframe tbody tr th:only-of-type {\n",
       "        vertical-align: middle;\n",
       "    }\n",
       "\n",
       "    .dataframe tbody tr th {\n",
       "        vertical-align: top;\n",
       "    }\n",
       "\n",
       "    .dataframe thead th {\n",
       "        text-align: right;\n",
       "    }\n",
       "</style>\n",
       "<table border=\"1\" class=\"dataframe\">\n",
       "  <thead>\n",
       "    <tr style=\"text-align: right;\">\n",
       "      <th></th>\n",
       "      <th>total_sales</th>\n",
       "    </tr>\n",
       "    <tr>\n",
       "      <th>platform</th>\n",
       "      <th></th>\n",
       "    </tr>\n",
       "  </thead>\n",
       "  <tbody>\n",
       "    <tr>\n",
       "      <th>PS2</th>\n",
       "      <td>1233.56</td>\n",
       "    </tr>\n",
       "    <tr>\n",
       "      <th>X360</th>\n",
       "      <td>961.24</td>\n",
       "    </tr>\n",
       "    <tr>\n",
       "      <th>PS3</th>\n",
       "      <td>931.34</td>\n",
       "    </tr>\n",
       "    <tr>\n",
       "      <th>Wii</th>\n",
       "      <td>891.18</td>\n",
       "    </tr>\n",
       "    <tr>\n",
       "      <th>DS</th>\n",
       "      <td>802.78</td>\n",
       "    </tr>\n",
       "    <tr>\n",
       "      <th>PS</th>\n",
       "      <td>727.58</td>\n",
       "    </tr>\n",
       "    <tr>\n",
       "      <th>PS4</th>\n",
       "      <td>314.14</td>\n",
       "    </tr>\n",
       "    <tr>\n",
       "      <th>GBA</th>\n",
       "      <td>312.88</td>\n",
       "    </tr>\n",
       "    <tr>\n",
       "      <th>PSP</th>\n",
       "      <td>289.53</td>\n",
       "    </tr>\n",
       "    <tr>\n",
       "      <th>3DS</th>\n",
       "      <td>257.81</td>\n",
       "    </tr>\n",
       "  </tbody>\n",
       "</table>\n",
       "</div>"
      ],
      "text/plain": [
       "          total_sales\n",
       "platform             \n",
       "PS2           1233.56\n",
       "X360           961.24\n",
       "PS3            931.34\n",
       "Wii            891.18\n",
       "DS             802.78\n",
       "PS             727.58\n",
       "PS4            314.14\n",
       "GBA            312.88\n",
       "PSP            289.53\n",
       "3DS            257.81"
      ]
     },
     "execution_count": 18,
     "metadata": {},
     "output_type": "execute_result"
    }
   ],
   "source": [
    "top_platforms = good_data.pivot_table(index = 'platform', values = 'total_sales', aggfunc = 'sum').sort_values(by = 'total_sales', ascending = False).head(10)\n",
    "top_platforms"
   ]
  },
  {
   "cell_type": "code",
   "execution_count": 19,
   "metadata": {},
   "outputs": [
    {
     "data": {
      "image/png": "[encoded data removed]",
      "text/plain": [
       "<Figure size 720x432 with 1 Axes>"
      ]
     },
     "metadata": {
      "needs_background": "light"
     },
     "output_type": "display_data"
    }
   ],
   "source": [
    "plt.figure(figsize=(10, 6))\n",
    "\n",
    "for platform in top_platforms.index:\n",
    "    platform_data = good_data[good_data['platform'] == platform].groupby('year_of_release')['total_sales'].sum()\n",
    "    plt.plot(platform_data.index, platform_data.values, label=platform)\n",
    "\n",
    "plt.title('Продажи по платформам (Топ-10) по годам')\n",
    "plt.xlabel('Год выпуска')\n",
    "plt.ylabel('Суммарные продажи (млн копий)')\n",
    "plt.legend(title=\"Платформы\")\n",
    "plt.grid(True)\n",
    "plt.show()"
   ]
  },
  {
   "cell_type": "markdown",
   "metadata": {},
   "source": [
    "Продажи платформы Nintendo DS в 1985 году выглядят подозрительно, так как Nintendo DS была официально выпущена только в 2004 году. Это означает, что любые данные о продажах этой платформы до 2004 года неверны или являются ошибочными.\n",
    "\n",
    "\n",
    "Причиной такой ошибки может быть:\n",
    "\n",
    "\n",
    "- Некорректная дата выпуска: В данных может быть неправильно указан год выпуска игры или платформы, что могло привести к неверному отображению продаж для ранних годов, например, 1985.\n",
    "- Ошибки в данных: Ошибочные значения могут возникать из-за проблем в процессе сбора данных, ввода информации или интеграции разных наборов данных.\n",
    "\n",
    "Посмотрим, какие данные содержатся в датасете"
   ]
  },
  {
   "cell_type": "code",
   "execution_count": 20,
   "metadata": {},
   "outputs": [
    {
     "data": {
      "text/html": [
       "<div>\n",
       "<style scoped>\n",
       "    .dataframe tbody tr th:only-of-type {\n",
       "        vertical-align: middle;\n",
       "    }\n",
       "\n",
       "    .dataframe tbody tr th {\n",
       "        vertical-align: top;\n",
       "    }\n",
       "\n",
       "    .dataframe thead th {\n",
       "        text-align: right;\n",
       "    }\n",
       "</style>\n",
       "<table border=\"1\" class=\"dataframe\">\n",
       "  <thead>\n",
       "    <tr style=\"text-align: right;\">\n",
       "      <th></th>\n",
       "      <th>name</th>\n",
       "      <th>platform</th>\n",
       "      <th>year_of_release</th>\n",
       "      <th>genre</th>\n",
       "      <th>na_sales</th>\n",
       "      <th>eu_sales</th>\n",
       "      <th>jp_sales</th>\n",
       "      <th>other_sales</th>\n",
       "      <th>critic_score</th>\n",
       "      <th>user_score</th>\n",
       "      <th>rating</th>\n",
       "      <th>total_sales</th>\n",
       "    </tr>\n",
       "  </thead>\n",
       "  <tbody>\n",
       "    <tr>\n",
       "      <th>15957</th>\n",
       "      <td>Strongest Tokyo University Shogi DS</td>\n",
       "      <td>DS</td>\n",
       "      <td>1985</td>\n",
       "      <td>Action</td>\n",
       "      <td>0.0</td>\n",
       "      <td>0.0</td>\n",
       "      <td>0.02</td>\n",
       "      <td>0.0</td>\n",
       "      <td>NaN</td>\n",
       "      <td>NaN</td>\n",
       "      <td>NaN</td>\n",
       "      <td>0.02</td>\n",
       "    </tr>\n",
       "  </tbody>\n",
       "</table>\n",
       "</div>"
      ],
      "text/plain": [
       "                                      name platform  year_of_release   genre  \\\n",
       "15957  Strongest Tokyo University Shogi DS       DS             1985  Action   \n",
       "\n",
       "       na_sales  eu_sales  jp_sales  other_sales  critic_score  user_score  \\\n",
       "15957       0.0       0.0      0.02          0.0           NaN         NaN   \n",
       "\n",
       "      rating  total_sales  \n",
       "15957    NaN         0.02  "
      ]
     },
     "execution_count": 20,
     "metadata": {},
     "output_type": "execute_result"
    }
   ],
   "source": [
    "good_data.query('platform == \"DS\" and year_of_release < 2004')"
   ]
  },
  {
   "cell_type": "markdown",
   "metadata": {},
   "source": [
    "До 2004 года на DS была по информации из датасета выпущена только одна игра - Strongest Tokyo University Shogi DS. Из открытых интернет-источников мы узнали, что на самом деле она была выпущена в 2007 году. Заменим год выпуска этой игры на корректный."
   ]
  },
  {
   "cell_type": "code",
   "execution_count": 21,
   "metadata": {},
   "outputs": [
    {
     "data": {
      "text/html": [
       "<div>\n",
       "<style scoped>\n",
       "    .dataframe tbody tr th:only-of-type {\n",
       "        vertical-align: middle;\n",
       "    }\n",
       "\n",
       "    .dataframe tbody tr th {\n",
       "        vertical-align: top;\n",
       "    }\n",
       "\n",
       "    .dataframe thead th {\n",
       "        text-align: right;\n",
       "    }\n",
       "</style>\n",
       "<table border=\"1\" class=\"dataframe\">\n",
       "  <thead>\n",
       "    <tr style=\"text-align: right;\">\n",
       "      <th></th>\n",
       "      <th>name</th>\n",
       "      <th>platform</th>\n",
       "      <th>year_of_release</th>\n",
       "      <th>genre</th>\n",
       "      <th>na_sales</th>\n",
       "      <th>eu_sales</th>\n",
       "      <th>jp_sales</th>\n",
       "      <th>other_sales</th>\n",
       "      <th>critic_score</th>\n",
       "      <th>user_score</th>\n",
       "      <th>rating</th>\n",
       "      <th>total_sales</th>\n",
       "    </tr>\n",
       "  </thead>\n",
       "  <tbody>\n",
       "    <tr>\n",
       "      <th>15957</th>\n",
       "      <td>Strongest Tokyo University Shogi DS</td>\n",
       "      <td>DS</td>\n",
       "      <td>2007</td>\n",
       "      <td>Action</td>\n",
       "      <td>0.0</td>\n",
       "      <td>0.0</td>\n",
       "      <td>0.02</td>\n",
       "      <td>0.0</td>\n",
       "      <td>NaN</td>\n",
       "      <td>NaN</td>\n",
       "      <td>NaN</td>\n",
       "      <td>0.02</td>\n",
       "    </tr>\n",
       "  </tbody>\n",
       "</table>\n",
       "</div>"
      ],
      "text/plain": [
       "                                      name platform  year_of_release   genre  \\\n",
       "15957  Strongest Tokyo University Shogi DS       DS             2007  Action   \n",
       "\n",
       "       na_sales  eu_sales  jp_sales  other_sales  critic_score  user_score  \\\n",
       "15957       0.0       0.0      0.02          0.0           NaN         NaN   \n",
       "\n",
       "      rating  total_sales  \n",
       "15957    NaN         0.02  "
      ]
     },
     "execution_count": 21,
     "metadata": {},
     "output_type": "execute_result"
    }
   ],
   "source": [
    "good_data.loc[good_data['name'] == 'Strongest Tokyo University Shogi DS', 'year_of_release'] = 2007\n",
    "good_data[good_data['name'] == 'Strongest Tokyo University Shogi DS']"
   ]
  },
  {
   "cell_type": "markdown",
   "metadata": {},
   "source": [
    "Изменение данных прошло успешно."
   ]
  },
  {
   "cell_type": "markdown",
   "metadata": {},
   "source": [
    "Построим график с новыми данными."
   ]
  },
  {
   "cell_type": "code",
   "execution_count": 22,
   "metadata": {},
   "outputs": [
    {
     "data": {
      "image/png": "[encoded data removed]",
      "text/plain": [
       "<Figure size 720x432 with 1 Axes>"
      ]
     },
     "metadata": {
      "needs_background": "light"
     },
     "output_type": "display_data"
    }
   ],
   "source": [
    "top_platforms = good_data.pivot_table(index = 'platform', values = 'total_sales', aggfunc = 'sum').sort_values(by = 'total_sales', ascending = False).head(10)\n",
    "\n",
    "plt.figure(figsize=(10, 6))\n",
    "\n",
    "for platform in top_platforms.index:\n",
    "    platform_data = good_data[good_data['platform'] == platform].groupby('year_of_release')['total_sales'].sum()\n",
    "    plt.plot(platform_data.index, platform_data.values, label=platform)\n",
    "\n",
    "plt.title('Продажи по платформам (Топ-10) по годам')\n",
    "plt.xlabel('Год выпуска')\n",
    "plt.ylabel('Суммарные продажи (млн копий)')\n",
    "plt.legend(title=\"Платформы\")\n",
    "plt.grid(True)\n",
    "plt.show()"
   ]
  },
  {
   "cell_type": "code",
   "execution_count": 23,
   "metadata": {},
   "outputs": [
    {
     "data": {
      "text/html": [
       "<div>\n",
       "<style scoped>\n",
       "    .dataframe tbody tr th:only-of-type {\n",
       "        vertical-align: middle;\n",
       "    }\n",
       "\n",
       "    .dataframe tbody tr th {\n",
       "        vertical-align: top;\n",
       "    }\n",
       "\n",
       "    .dataframe thead th {\n",
       "        text-align: right;\n",
       "    }\n",
       "</style>\n",
       "<table border=\"1\" class=\"dataframe\">\n",
       "  <thead>\n",
       "    <tr style=\"text-align: right;\">\n",
       "      <th></th>\n",
       "      <th>min</th>\n",
       "      <th>max</th>\n",
       "      <th>long</th>\n",
       "    </tr>\n",
       "    <tr>\n",
       "      <th>platform</th>\n",
       "      <th></th>\n",
       "      <th></th>\n",
       "      <th></th>\n",
       "    </tr>\n",
       "  </thead>\n",
       "  <tbody>\n",
       "    <tr>\n",
       "      <th>PS2</th>\n",
       "      <td>2000</td>\n",
       "      <td>2011</td>\n",
       "      <td>11</td>\n",
       "    </tr>\n",
       "    <tr>\n",
       "      <th>X360</th>\n",
       "      <td>2005</td>\n",
       "      <td>2016</td>\n",
       "      <td>11</td>\n",
       "    </tr>\n",
       "    <tr>\n",
       "      <th>PS3</th>\n",
       "      <td>2006</td>\n",
       "      <td>2016</td>\n",
       "      <td>10</td>\n",
       "    </tr>\n",
       "    <tr>\n",
       "      <th>Wii</th>\n",
       "      <td>2006</td>\n",
       "      <td>2016</td>\n",
       "      <td>10</td>\n",
       "    </tr>\n",
       "    <tr>\n",
       "      <th>DS</th>\n",
       "      <td>2004</td>\n",
       "      <td>2013</td>\n",
       "      <td>9</td>\n",
       "    </tr>\n",
       "    <tr>\n",
       "      <th>PS</th>\n",
       "      <td>1994</td>\n",
       "      <td>2003</td>\n",
       "      <td>9</td>\n",
       "    </tr>\n",
       "    <tr>\n",
       "      <th>PS4</th>\n",
       "      <td>2013</td>\n",
       "      <td>2016</td>\n",
       "      <td>3</td>\n",
       "    </tr>\n",
       "    <tr>\n",
       "      <th>GBA</th>\n",
       "      <td>2000</td>\n",
       "      <td>2007</td>\n",
       "      <td>7</td>\n",
       "    </tr>\n",
       "    <tr>\n",
       "      <th>PSP</th>\n",
       "      <td>2004</td>\n",
       "      <td>2015</td>\n",
       "      <td>11</td>\n",
       "    </tr>\n",
       "    <tr>\n",
       "      <th>3DS</th>\n",
       "      <td>2011</td>\n",
       "      <td>2016</td>\n",
       "      <td>5</td>\n",
       "    </tr>\n",
       "  </tbody>\n",
       "</table>\n",
       "</div>"
      ],
      "text/plain": [
       "           min   max  long\n",
       "platform                  \n",
       "PS2       2000  2011    11\n",
       "X360      2005  2016    11\n",
       "PS3       2006  2016    10\n",
       "Wii       2006  2016    10\n",
       "DS        2004  2013     9\n",
       "PS        1994  2003     9\n",
       "PS4       2013  2016     3\n",
       "GBA       2000  2007     7\n",
       "PSP       2004  2015    11\n",
       "3DS       2011  2016     5"
      ]
     },
     "execution_count": 23,
     "metadata": {},
     "output_type": "execute_result"
    }
   ],
   "source": [
    "platform_long = good_data.groupby('platform')['year_of_release'].agg(['min', 'max'])\n",
    "platform_long['long'] = platform_long['max'] - platform_long['min']\n",
    "top_platform_long = platform_long.loc[top_platforms.index]\n",
    "top_platform_long"
   ]
  },
  {
   "cell_type": "markdown",
   "metadata": {},
   "source": [
    "На графике отображены изменения суммарных продаж по платформам за годы их существования. Рассмотрим основные моменты:\n",
    "\n",
    "**Платформы с наибольшими продажами:** \n",
    "\n",
    "\n",
    "- PS2 (2000–2011): Долгоживущая платформа с пиком продаж около 2004–2006 годов. Продажи начали снижаться к 2011 году.\n",
    "- X360 (2005–2016): Пик приходится на 2011–2013 годы, после чего продажи резко снижаются.\n",
    "- PS3 и Wii (2006–2016): Оба устройства достигли пика в период 2008–2012 годов, после чего их продажи начали падать.\n",
    "- DS (2004–2013): Платформа с сильным пиком в 2005–2010 годах, продажи начали снижаться после 2010 года.\n",
    "- PS4 (2013–2016): Недавно появившаяся платформа, пик продаж еще впереди.\n",
    "- 3DS (2011–2016): Начало продаж совпадает с пиком в 2011 году, хотя по суммарным продажам уступает другим платформам.\n",
    "\n",
    "\n",
    "**Жизненный цикл платформ:**\n",
    "\n",
    "\n",
    "- В среднем новые платформы живут около 7–10 лет. \n",
    "- Старые платформы исчезают через 7–11 лет активного использования (например, PS2, X360), когда на рынок выходят новые поколения устройств, такие как PS4 и 3DS.\n",
    "- Платформы, такие как PS, GBA, и PSP, исчезли через 7–9 лет с момента их запуска, уступив место новым устройствам.\n",
    "\n",
    "\n",
    "**Характерные сроки появления и исчезновения платформ:**\n",
    "\n",
    "\n",
    "Платформы обычно существуют на рынке от 7 до 11 лет, после чего они теряют актуальность, и на их смену приходят новые модели."
   ]
  },
  {
   "cell_type": "markdown",
   "metadata": {},
   "source": [
    "Актуальный период для анализа данных с целью прогноза на 2017 год следует выбирать таким образом, чтобы учесть наиболее свежие и значимые тренды, а также жизненный цикл платформ. Основной упор должен быть на периоды, которые максимально точно отражают текущие тенденции на рынке.\n",
    "\n",
    "\n",
    "**На основании предыдущего анализа:**\n",
    "\n",
    "\n",
    "Данные по выпуску игр по годам:\n",
    "\n",
    "\n",
    "- Начиная с 2002 года наблюдается значительное увеличение количества выпущенных игр, которое достигает максимума в 2008 году (1427 игр) и остаётся на высоком уровне до 2016 года (502 игры).\n",
    "- Данные с 2008 по 2016 год включают максимальное количество релизов и наиболее актуальны для анализа текущих тенденций.\n",
    "\n",
    "\n",
    "Жизнь платформ:\n",
    "\n",
    "\n",
    "- Важно учитывать, что такие платформы, как PS3, X360, Wii, PS4, и 3DS, активно присутствовали на рынке до 2016 года.\n",
    "- Новые платформы, такие как PS4 (с 2013 года), находятся на подъёме, что важно для прогноза на 2017 год. Также нужно учитывать, что платформы, которые \"умирают\" к 2016 году (например, PS3, X360), уже не будут актуальны в 2017.\n",
    "\n",
    "\n",
    "Рекомендованный период для анализа:\n",
    "\n",
    "\n",
    "- Актуальным периодом для анализа можно считать 2013–2016 годы. Этот период включает в себя данные по новым успешным платформам (таким как PS4 и 3DS), а также демонстрирует последние годы работы старых платформ (PS3, X360), что поможет лучше предсказать продажи на 2017 год.\n",
    "\n",
    "\n",
    "Обоснование:\n",
    "\n",
    "\n",
    "- Данные за 2013–2016 годы наиболее актуальны для прогноза, так как они показывают последние тренды на рынке, связаны с текущими успешными платформами и дают представление о перспективах новых платформ в 2017 году.\n",
    "- Данные до 2013 года включают платформы, которые больше не актуальны, и слишком ранние тренды, которые могут не учитывать современные особенности рынка.\n",
    "\n",
    "\n",
    "Таким образом, анализ данных за 2013–2016 годы позволит точнее спланировать рекламные кампании и определить наиболее перспективные платформы для 2017 года."
   ]
  },
  {
   "cell_type": "markdown",
   "metadata": {},
   "source": [
    "Сделаем срез данных только актуального периода и далее будем работать только с ним. Будем считать актуальным период 2013-2016 гг."
   ]
  },
  {
   "cell_type": "code",
   "execution_count": 24,
   "metadata": {},
   "outputs": [
    {
     "data": {
      "text/html": [
       "<div>\n",
       "<style scoped>\n",
       "    .dataframe tbody tr th:only-of-type {\n",
       "        vertical-align: middle;\n",
       "    }\n",
       "\n",
       "    .dataframe tbody tr th {\n",
       "        vertical-align: top;\n",
       "    }\n",
       "\n",
       "    .dataframe thead th {\n",
       "        text-align: right;\n",
       "    }\n",
       "</style>\n",
       "<table border=\"1\" class=\"dataframe\">\n",
       "  <thead>\n",
       "    <tr style=\"text-align: right;\">\n",
       "      <th></th>\n",
       "      <th>name</th>\n",
       "      <th>platform</th>\n",
       "      <th>year_of_release</th>\n",
       "      <th>genre</th>\n",
       "      <th>na_sales</th>\n",
       "      <th>eu_sales</th>\n",
       "      <th>jp_sales</th>\n",
       "      <th>other_sales</th>\n",
       "      <th>critic_score</th>\n",
       "      <th>user_score</th>\n",
       "      <th>rating</th>\n",
       "      <th>total_sales</th>\n",
       "    </tr>\n",
       "  </thead>\n",
       "  <tbody>\n",
       "    <tr>\n",
       "      <th>16</th>\n",
       "      <td>Grand Theft Auto V</td>\n",
       "      <td>PS3</td>\n",
       "      <td>2013</td>\n",
       "      <td>Action</td>\n",
       "      <td>7.02</td>\n",
       "      <td>9.09</td>\n",
       "      <td>0.98</td>\n",
       "      <td>3.96</td>\n",
       "      <td>97.0</td>\n",
       "      <td>8.2</td>\n",
       "      <td>M</td>\n",
       "      <td>21.05</td>\n",
       "    </tr>\n",
       "    <tr>\n",
       "      <th>23</th>\n",
       "      <td>Grand Theft Auto V</td>\n",
       "      <td>X360</td>\n",
       "      <td>2013</td>\n",
       "      <td>Action</td>\n",
       "      <td>9.66</td>\n",
       "      <td>5.14</td>\n",
       "      <td>0.06</td>\n",
       "      <td>1.41</td>\n",
       "      <td>97.0</td>\n",
       "      <td>8.1</td>\n",
       "      <td>M</td>\n",
       "      <td>16.27</td>\n",
       "    </tr>\n",
       "    <tr>\n",
       "      <th>31</th>\n",
       "      <td>Call of Duty: Black Ops 3</td>\n",
       "      <td>PS4</td>\n",
       "      <td>2015</td>\n",
       "      <td>Shooter</td>\n",
       "      <td>6.03</td>\n",
       "      <td>5.86</td>\n",
       "      <td>0.36</td>\n",
       "      <td>2.38</td>\n",
       "      <td>NaN</td>\n",
       "      <td>NaN</td>\n",
       "      <td>NaN</td>\n",
       "      <td>14.63</td>\n",
       "    </tr>\n",
       "    <tr>\n",
       "      <th>33</th>\n",
       "      <td>Pokemon X/Pokemon Y</td>\n",
       "      <td>3DS</td>\n",
       "      <td>2013</td>\n",
       "      <td>Role-Playing</td>\n",
       "      <td>5.28</td>\n",
       "      <td>4.19</td>\n",
       "      <td>4.35</td>\n",
       "      <td>0.78</td>\n",
       "      <td>NaN</td>\n",
       "      <td>NaN</td>\n",
       "      <td>NaN</td>\n",
       "      <td>14.60</td>\n",
       "    </tr>\n",
       "    <tr>\n",
       "      <th>42</th>\n",
       "      <td>Grand Theft Auto V</td>\n",
       "      <td>PS4</td>\n",
       "      <td>2014</td>\n",
       "      <td>Action</td>\n",
       "      <td>3.96</td>\n",
       "      <td>6.31</td>\n",
       "      <td>0.38</td>\n",
       "      <td>1.97</td>\n",
       "      <td>97.0</td>\n",
       "      <td>8.3</td>\n",
       "      <td>M</td>\n",
       "      <td>12.62</td>\n",
       "    </tr>\n",
       "  </tbody>\n",
       "</table>\n",
       "</div>"
      ],
      "text/plain": [
       "                         name platform  year_of_release         genre  \\\n",
       "16         Grand Theft Auto V      PS3             2013        Action   \n",
       "23         Grand Theft Auto V     X360             2013        Action   \n",
       "31  Call of Duty: Black Ops 3      PS4             2015       Shooter   \n",
       "33        Pokemon X/Pokemon Y      3DS             2013  Role-Playing   \n",
       "42         Grand Theft Auto V      PS4             2014        Action   \n",
       "\n",
       "    na_sales  eu_sales  jp_sales  other_sales  critic_score  user_score  \\\n",
       "16      7.02      9.09      0.98         3.96          97.0         8.2   \n",
       "23      9.66      5.14      0.06         1.41          97.0         8.1   \n",
       "31      6.03      5.86      0.36         2.38           NaN         NaN   \n",
       "33      5.28      4.19      4.35         0.78           NaN         NaN   \n",
       "42      3.96      6.31      0.38         1.97          97.0         8.3   \n",
       "\n",
       "   rating  total_sales  \n",
       "16      M        21.05  \n",
       "23      M        16.27  \n",
       "31    NaN        14.63  \n",
       "33    NaN        14.60  \n",
       "42      M        12.62  "
      ]
     },
     "execution_count": 24,
     "metadata": {},
     "output_type": "execute_result"
    }
   ],
   "source": [
    "actual_data = good_data.query('year_of_release >= 2013')\n",
    "actual_data.head()"
   ]
  },
  {
   "cell_type": "markdown",
   "metadata": {},
   "source": [
    "### Продажи платформ в актуальный период"
   ]
  },
  {
   "cell_type": "code",
   "execution_count": 25,
   "metadata": {},
   "outputs": [
    {
     "data": {
      "text/html": [
       "<div>\n",
       "<style scoped>\n",
       "    .dataframe tbody tr th:only-of-type {\n",
       "        vertical-align: middle;\n",
       "    }\n",
       "\n",
       "    .dataframe tbody tr th {\n",
       "        vertical-align: top;\n",
       "    }\n",
       "\n",
       "    .dataframe thead th {\n",
       "        text-align: right;\n",
       "    }\n",
       "</style>\n",
       "<table border=\"1\" class=\"dataframe\">\n",
       "  <thead>\n",
       "    <tr style=\"text-align: right;\">\n",
       "      <th></th>\n",
       "      <th>total_sales</th>\n",
       "    </tr>\n",
       "    <tr>\n",
       "      <th>platform</th>\n",
       "      <th></th>\n",
       "    </tr>\n",
       "  </thead>\n",
       "  <tbody>\n",
       "    <tr>\n",
       "      <th>PS4</th>\n",
       "      <td>314.14</td>\n",
       "    </tr>\n",
       "    <tr>\n",
       "      <th>PS3</th>\n",
       "      <td>181.43</td>\n",
       "    </tr>\n",
       "    <tr>\n",
       "      <th>XOne</th>\n",
       "      <td>159.32</td>\n",
       "    </tr>\n",
       "    <tr>\n",
       "      <th>3DS</th>\n",
       "      <td>143.25</td>\n",
       "    </tr>\n",
       "    <tr>\n",
       "      <th>X360</th>\n",
       "      <td>136.80</td>\n",
       "    </tr>\n",
       "    <tr>\n",
       "      <th>WiiU</th>\n",
       "      <td>64.63</td>\n",
       "    </tr>\n",
       "    <tr>\n",
       "      <th>PC</th>\n",
       "      <td>39.43</td>\n",
       "    </tr>\n",
       "    <tr>\n",
       "      <th>PSV</th>\n",
       "      <td>32.99</td>\n",
       "    </tr>\n",
       "    <tr>\n",
       "      <th>Wii</th>\n",
       "      <td>13.66</td>\n",
       "    </tr>\n",
       "    <tr>\n",
       "      <th>PSP</th>\n",
       "      <td>3.50</td>\n",
       "    </tr>\n",
       "  </tbody>\n",
       "</table>\n",
       "</div>"
      ],
      "text/plain": [
       "          total_sales\n",
       "platform             \n",
       "PS4            314.14\n",
       "PS3            181.43\n",
       "XOne           159.32\n",
       "3DS            143.25\n",
       "X360           136.80\n",
       "WiiU            64.63\n",
       "PC              39.43\n",
       "PSV             32.99\n",
       "Wii             13.66\n",
       "PSP              3.50"
      ]
     },
     "execution_count": 25,
     "metadata": {},
     "output_type": "execute_result"
    }
   ],
   "source": [
    "top_actual_platforms = actual_data.pivot_table(index = 'platform', values = 'total_sales', aggfunc = 'sum').sort_values(by = 'total_sales', ascending = False).head(10)\n",
    "top_actual_platforms"
   ]
  },
  {
   "cell_type": "code",
   "execution_count": 26,
   "metadata": {},
   "outputs": [
    {
     "data": {
      "image/png": "[encoded data removed]",
      "text/plain": [
       "<Figure size 720x432 with 1 Axes>"
      ]
     },
     "metadata": {
      "needs_background": "light"
     },
     "output_type": "display_data"
    }
   ],
   "source": [
    "plt.figure(figsize=(10, 6))\n",
    "\n",
    "for platform in top_actual_platforms.index:\n",
    "    platform_actual_data = actual_data[actual_data['platform'] == platform].groupby('year_of_release')['total_sales'].sum()\n",
    "    plt.plot(platform_actual_data.index, platform_actual_data.values, label=platform)\n",
    "\n",
    "plt.title('Продажи по платформам (Топ-10) по годам')\n",
    "plt.xlabel('Год выпуска')\n",
    "plt.ylabel('Суммарные продажи (млн копий)')\n",
    "plt.legend(title=\"Платформы\")\n",
    "plt.grid(True)\n",
    "plt.show()"
   ]
  },
  {
   "cell_type": "markdown",
   "metadata": {},
   "source": [
    "На основании графика продаж по платформам (2013–2016):\n",
    "\n",
    "**Платформы с лидирующими продажами:**\n",
    "\n",
    "\n",
    "- PS4 (синяя линия) – Продажи PS4 уверенно растут, особенно заметен пик к 2015 году. Это одна из наиболее прибыльных и перспективных платформ.\n",
    "- XOne (зелёная линия) – Xbox One также демонстрирует устойчивый рост до 2015 года, хотя в 2016 году наблюдается некоторое снижение, но платформа всё ещё является одной из лидирующих.\n",
    "- 3DS (красная линия) – Продажи постепенно падают, но по-прежнему высоки, особенно в 2013–2014 годах. Несмотря на спад, эта платформа всё ещё имеет значительные объёмы продаж.\n",
    "\n",
    "\n",
    "**Платформы с падающими продажами:**\n",
    "\n",
    "\n",
    "- PS3 (оранжевая линия) – Продажи PS3 значительно снизились к 2016 году. Платформа уже не столь прибыльна.\n",
    "- X360 (фиолетовая линия) – Продажи Xbox 360 также резко упали после 2013 года.\n",
    "- WiiU и Wii (розовая и жёлтая линии) – Обе платформы показывают тенденцию к снижению, и их актуальность падает.\n",
    "- PSP (голубая линия) – PSP практически прекратила продаваться после 2013 года.\n",
    "\n",
    "\n",
    "**Потенциально прибыльные платформы:**\n",
    "\n",
    "\n",
    "- PS4 – Платформа на пике популярности и показывает уверенный рост, что делает её самой перспективной для будущих инвестиций.\n",
    "- XOne – Несмотря на небольшое снижение в 2016 году, платформа всё ещё занимает высокие позиции по продажам и имеет потенциал.\n",
    "- 3DS – Несмотря на замедление, платформа остаётся прибыльной, особенно на краткосрочную перспективу.\n",
    "\n",
    "\n",
    "**Заключение:**\n",
    "\n",
    "\n",
    "Для прогнозов на 2017 год наиболее перспективными являются PS4 и XOne, так как они демонстрируют рост или высокие стабильные продажи."
   ]
  },
  {
   "cell_type": "markdown",
   "metadata": {},
   "source": [
    "### Разброс продаж по платформам в актуальный период"
   ]
  },
  {
   "cell_type": "code",
   "execution_count": 27,
   "metadata": {},
   "outputs": [
    {
     "data": {
      "image/png": "[encoded data removed]",
      "text/plain": [
       "<Figure size 864x864 with 1 Axes>"
      ]
     },
     "metadata": {
      "needs_background": "light"
     },
     "output_type": "display_data"
    }
   ],
   "source": [
    "plt.figure(figsize=(12, 12))\n",
    "sns.boxplot(x='platform', y='total_sales', data=actual_data)\n",
    "\n",
    "# Настроим график\n",
    "plt.title('График «ящик с усами» по глобальным продажам игр в разбивке по платформам')\n",
    "plt.xlabel('Платформа')\n",
    "plt.ylabel('Глобальные продажи (миллионы проданных копий)')\n",
    "plt.xticks(rotation=45)  # Поворот подписей оси X для удобства чтения\n",
    "plt.grid(True)\n",
    "plt.ylim(-1, 4)\n",
    "\n",
    "# Показать график\n",
    "plt.show()"
   ]
  },
  {
   "cell_type": "markdown",
   "metadata": {},
   "source": [
    "На основе графика «ящик с усами» по глобальным продажам игр для разных платформ можно сделать следующие выводы:\n",
    "\n",
    "\n",
    "**Медианные продажи:**\n",
    "\n",
    "\n",
    "- У всех платформ медианные продажи относительно низкие, даже 3 квартили находятся ниже отметки в 1 миллион копий.\n",
    "- Почти доходят до 1 миллиона показатели 3 квартиля только у платформ Wii, X360, PS4, XOne.\n",
    "\n",
    "\n",
    "**Разброс продаж:**\n",
    "\n",
    "\n",
    "- Платформы PS3, X360, PS4, 3DS, XOne, WiiU, Wii, PC имеют достаточно широкий разброс значений. Это говорит о том, что на этих платформах есть как игры с очень низкими продажами, так и настоящие хиты, которые продавались в больших количествах.\n",
    "- В частности, платформы WiU, PS3, X360, PS4, 3DS и XOne имеют большое количество выбросов, что говорит о том, что на этих платформах были игры, которые продавались значительно выше среднего уровня (более 6 миллионов копий).\n",
    "\n",
    "\n",
    "**Платформы с наибольшими продажами:**\n",
    "\n",
    "\n",
    "- Самые высокие глобальные продажи наблюдаются у Wii, PS3, X360 и PS4. Эти платформы имеют игры, продажи которых достигают и даже превышают 20 миллионов копий.\n",
    "\n",
    "\n",
    "**Платформы с низкими продажами:**\n",
    "\n",
    "\n",
    "- Платформы PSV, DS, PSP имеют заметно меньшие значения как медианы, так и выбросов. Это указывает на то, что на этих платформах средний уровень продаж значительно ниже, и хиты на этих платформах также редки.\n",
    "\n",
    "\n",
    "**Вывод:**\n",
    "\n",
    "Платформы PS3, X360, PS4, Wii, WiiU и XOne показали самые высокие продажи игр, что делает их наиболее прибыльными для разработчиков и издателей. "
   ]
  },
  {
   "cell_type": "markdown",
   "metadata": {},
   "source": [
    "### Влияние на продажи оценок критиков и пользователей"
   ]
  },
  {
   "cell_type": "code",
   "execution_count": 28,
   "metadata": {},
   "outputs": [
    {
     "data": {
      "text/plain": [
       "<Figure size 720x432 with 0 Axes>"
      ]
     },
     "metadata": {},
     "output_type": "display_data"
    },
    {
     "data": {
      "image/png": "[encoded data removed]",
      "text/plain": [
       "<Figure size 432x288 with 1 Axes>"
      ]
     },
     "metadata": {
      "needs_background": "light"
     },
     "output_type": "display_data"
    },
    {
     "data": {
      "text/plain": [
       "<Figure size 720x432 with 0 Axes>"
      ]
     },
     "metadata": {},
     "output_type": "display_data"
    },
    {
     "data": {
      "image/png": "[encoded data removed]",
      "text/plain": [
       "<Figure size 432x288 with 1 Axes>"
      ]
     },
     "metadata": {
      "needs_background": "light"
     },
     "output_type": "display_data"
    }
   ],
   "source": [
    "plt.figure(figsize=(10, 6))\n",
    "actual_data.query('(platform == \"PS4\") and user_score.notna()').plot(x='user_score', y='total_sales', kind = 'scatter', alpha = 0.5)\n",
    "plt.title('Корреляция оценки пользователей и продаж для PS4')\n",
    "plt.xlabel('Оценка пользователей')\n",
    "plt.ylabel('Глобальные продажи (млн копий)')\n",
    "\n",
    "plt.figure(figsize=(10, 6))\n",
    "actual_data.query('(platform == \"PS4\") and critic_score.notna()').plot(x='critic_score', y='total_sales', kind = 'scatter', alpha = 0.5)\n",
    "plt.title('Корреляция оценки критиков и продаж для PS4')\n",
    "plt.xlabel('Оценка критиков')\n",
    "plt.ylabel('Глобальные продажи (млн копий)')\n",
    "\n",
    "plt.show()"
   ]
  },
  {
   "cell_type": "code",
   "execution_count": 29,
   "metadata": {},
   "outputs": [
    {
     "name": "stdout",
     "output_type": "stream",
     "text": [
      "Корреляция между оценкой пользователей и продажами для PS4: -0.03\n",
      "Корреляция между оценкой критиков и продажами для PS4: 0.41\n"
     ]
    }
   ],
   "source": [
    "corr_user_sales = actual_data.query('(platform == \"PS4\") and user_score.notna()')['user_score'].corr(actual_data.query('(platform == \"PS4\") and user_score.notna()')['total_sales'])\n",
    "corr_critic_sales = actual_data.query('(platform == \"PS4\") and critic_score.notna()')['critic_score'].corr(actual_data.query('(platform == \"PS4\") and critic_score.notna()')['total_sales'])\n",
    "\n",
    "print(f\"Корреляция между оценкой пользователей и продажами для PS4: {corr_user_sales:.2f}\")\n",
    "print(f\"Корреляция между оценкой критиков и продажами для PS4: {corr_critic_sales:.2f}\")"
   ]
  },
  {
   "cell_type": "markdown",
   "metadata": {},
   "source": [
    "**Вывод:**\n",
    "\n",
    "- Оценка пользователей и продажи (Корреляция: -0.03):\n",
    "\n",
    "\n",
    "Слабая отрицательная корреляция говорит о том, что связь между оценками пользователей и глобальными продажами практически отсутствует. Это значит, что количество продаж не зависит существенно от того, насколько высоко пользователи оценивают игру. Вероятно, на продажи могут влиять другие факторы, такие как маркетинг, известность франшизы и т.д.\n",
    "\n",
    "\n",
    "- Оценка критиков и продажи (Корреляция: 0.41):\n",
    "\n",
    "\n",
    "Корреляция 0.41 указывает на умеренную положительную связь между оценками критиков и продажами игр для PS4. Это означает, что игры, получающие более высокие оценки от критиков, имеют тенденцию к более высоким продажам, но данная связь не является очень сильной. Важную роль могут играть и другие факторы, которые нужно учитывать наряду с оценками критиков.\n",
    "\n",
    "\n",
    "Таким образом, отзывы критиков оказывают более заметное влияние на продажи, чем оценки пользователей. Это может быть связано с тем, что мнения критиков часто рассматриваются как более авторитетные и могут влиять на решения покупателей, особенно для новых игр, тогда как мнения пользователей могут быть более разнообразными и субъективными."
   ]
  },
  {
   "cell_type": "markdown",
   "metadata": {},
   "source": [
    "Проверим, схожа ли корреляция будет на других платформах. Выберем несколько различных по объему продаж, чтобы данные не вычислялись только по 1 категории."
   ]
  },
  {
   "cell_type": "code",
   "execution_count": 30,
   "metadata": {},
   "outputs": [
    {
     "name": "stdout",
     "output_type": "stream",
     "text": [
      "\n",
      "Корреляция между оценкой пользователей и продажами для XOne: -0.07\n",
      "Корреляция между оценкой критиков и продажами для XOne: 0.42\n",
      "\n",
      "Корреляция между оценкой пользователей и продажами для WiiU: 0.42\n",
      "Корреляция между оценкой критиков и продажами для WiiU: 0.38\n",
      "\n",
      "Корреляция между оценкой пользователей и продажами для PSV: 0.00\n",
      "Корреляция между оценкой критиков и продажами для PSV: 0.25\n"
     ]
    }
   ],
   "source": [
    "for platform in ['XOne', 'WiiU', 'PSV']:\n",
    "    corr_user_sales = actual_data.query('(platform == @platform) and user_score.notna()')['user_score'].corr(actual_data.query('(platform == @platform) and user_score.notna()')['total_sales'])\n",
    "    corr_critic_sales = actual_data.query('(platform == @platform) and critic_score.notna()')['critic_score'].corr(actual_data.query('(platform == @platform) and critic_score.notna()')['total_sales'])\n",
    "    \n",
    "    print(f\"\\nКорреляция между оценкой пользователей и продажами для {platform}: {corr_user_sales:.2f}\")\n",
    "    print(f\"Корреляция между оценкой критиков и продажами для {platform}: {corr_critic_sales:.2f}\")"
   ]
  },
  {
   "cell_type": "markdown",
   "metadata": {},
   "source": [
    "Выводы по корреляциям между оценками и продажами на разных платформах:\n",
    "\n",
    "\n",
    "- **XOne (XOne):**\n",
    "\n",
    "\n",
    "- Оценка пользователей и продажи: Корреляция -0.07. Это говорит о слабой отрицательной корреляции, что свидетельствует об отсутствии значимой связи между оценками пользователей и продажами на платформе XOne. Вероятно, продажи игр здесь также зависят от других факторов, таких как популярность бренда или маркетинговые усилия.\n",
    "- Оценка критиков и продажи: Корреляция 0.42. Умеренная положительная связь указывает на то, что высокие оценки критиков могут оказывать большее влияние на продажи игр на платформе XOne, но также не являются решающим фактором.\n",
    "\n",
    "\n",
    "- **Wii U:**\n",
    "\n",
    "\n",
    "- Оценка пользователей и продажи: Корреляция 0.42. Умеренная положительная корреляция для Wii U показывает, что мнения пользователей на этой платформе оказывают большее влияние на продажи по сравнению с другими платформами. Это может свидетельствовать о том, что пользователи Wii U склонны доверять отзывам других игроков.\n",
    "- Оценка критиков и продажи: Корреляция 0.38. Хотя корреляция немного ниже, чем у пользовательских оценок, тем не менее, отзывы критиков также оказывают заметное влияние на продажи игр на Wii U.\n",
    "\n",
    "\n",
    "- **PSV:**\n",
    "\n",
    "\n",
    "- Оценка пользователей и продажи: Корреляция 0.00. Отсутствие корреляции указывает на то, что на платформе PSV отзывы пользователей никак не влияют на продажи игр. Вероятно, решения покупателей на этой платформе основываются на других факторах.\n",
    "- Оценка критиков и продажи: Корреляция 0.25. Хотя влияние оценок критиков присутствует, оно сравнительно слабое по сравнению с другими платформами.\n",
    "\n",
    "\n",
    "**Общий вывод:**\n",
    "\n",
    "\n",
    "На большинстве платформ (XOne и Wii U) оценки критиков оказывают более сильное влияние на продажи, чем отзывы пользователей. Однако на Wii U мнения пользователей также играют важную роль, в отличие от других платформ, где эта связь значительно слабее (XOne) или отсутствует (PSV). Это может говорить о том, что покупатели на каждой платформе ориентируются на разные факторы при принятии решения о покупке игр."
   ]
  },
  {
   "cell_type": "markdown",
   "metadata": {},
   "source": [
    "### Общее распределение игр по жанрам"
   ]
  },
  {
   "cell_type": "code",
   "execution_count": 31,
   "metadata": {},
   "outputs": [
    {
     "data": {
      "text/html": [
       "<div>\n",
       "<style scoped>\n",
       "    .dataframe tbody tr th:only-of-type {\n",
       "        vertical-align: middle;\n",
       "    }\n",
       "\n",
       "    .dataframe tbody tr th {\n",
       "        vertical-align: top;\n",
       "    }\n",
       "\n",
       "    .dataframe thead th {\n",
       "        text-align: right;\n",
       "    }\n",
       "</style>\n",
       "<table border=\"1\" class=\"dataframe\">\n",
       "  <thead>\n",
       "    <tr style=\"text-align: right;\">\n",
       "      <th></th>\n",
       "      <th>count_sales</th>\n",
       "      <th>sum_sales</th>\n",
       "      <th>median_sales</th>\n",
       "    </tr>\n",
       "    <tr>\n",
       "      <th>genre</th>\n",
       "      <th></th>\n",
       "      <th></th>\n",
       "      <th></th>\n",
       "    </tr>\n",
       "  </thead>\n",
       "  <tbody>\n",
       "    <tr>\n",
       "      <th>Puzzle</th>\n",
       "      <td>17</td>\n",
       "      <td>3.17</td>\n",
       "      <td>0.060</td>\n",
       "    </tr>\n",
       "    <tr>\n",
       "      <th>Strategy</th>\n",
       "      <td>56</td>\n",
       "      <td>10.08</td>\n",
       "      <td>0.080</td>\n",
       "    </tr>\n",
       "    <tr>\n",
       "      <th>Simulation</th>\n",
       "      <td>62</td>\n",
       "      <td>21.76</td>\n",
       "      <td>0.100</td>\n",
       "    </tr>\n",
       "    <tr>\n",
       "      <th>Adventure</th>\n",
       "      <td>245</td>\n",
       "      <td>23.64</td>\n",
       "      <td>0.030</td>\n",
       "    </tr>\n",
       "    <tr>\n",
       "      <th>Fighting</th>\n",
       "      <td>80</td>\n",
       "      <td>35.31</td>\n",
       "      <td>0.125</td>\n",
       "    </tr>\n",
       "    <tr>\n",
       "      <th>Racing</th>\n",
       "      <td>85</td>\n",
       "      <td>39.89</td>\n",
       "      <td>0.120</td>\n",
       "    </tr>\n",
       "    <tr>\n",
       "      <th>Platform</th>\n",
       "      <td>74</td>\n",
       "      <td>42.63</td>\n",
       "      <td>0.225</td>\n",
       "    </tr>\n",
       "    <tr>\n",
       "      <th>Misc</th>\n",
       "      <td>155</td>\n",
       "      <td>62.82</td>\n",
       "      <td>0.100</td>\n",
       "    </tr>\n",
       "    <tr>\n",
       "      <th>Role-Playing</th>\n",
       "      <td>292</td>\n",
       "      <td>145.89</td>\n",
       "      <td>0.125</td>\n",
       "    </tr>\n",
       "    <tr>\n",
       "      <th>Sports</th>\n",
       "      <td>214</td>\n",
       "      <td>150.65</td>\n",
       "      <td>0.240</td>\n",
       "    </tr>\n",
       "    <tr>\n",
       "      <th>Shooter</th>\n",
       "      <td>187</td>\n",
       "      <td>232.98</td>\n",
       "      <td>0.450</td>\n",
       "    </tr>\n",
       "    <tr>\n",
       "      <th>Action</th>\n",
       "      <td>766</td>\n",
       "      <td>321.87</td>\n",
       "      <td>0.110</td>\n",
       "    </tr>\n",
       "  </tbody>\n",
       "</table>\n",
       "</div>"
      ],
      "text/plain": [
       "              count_sales  sum_sales  median_sales\n",
       "genre                                             \n",
       "Puzzle                 17       3.17         0.060\n",
       "Strategy               56      10.08         0.080\n",
       "Simulation             62      21.76         0.100\n",
       "Adventure             245      23.64         0.030\n",
       "Fighting               80      35.31         0.125\n",
       "Racing                 85      39.89         0.120\n",
       "Platform               74      42.63         0.225\n",
       "Misc                  155      62.82         0.100\n",
       "Role-Playing          292     145.89         0.125\n",
       "Sports                214     150.65         0.240\n",
       "Shooter               187     232.98         0.450\n",
       "Action                766     321.87         0.110"
      ]
     },
     "execution_count": 31,
     "metadata": {},
     "output_type": "execute_result"
    }
   ],
   "source": [
    "genre_sales = actual_data.pivot_table(index = 'genre', values = 'total_sales', aggfunc = ['count', 'sum', 'median'])\n",
    "genre_sales.columns = ['count_sales', 'sum_sales', 'median_sales']\n",
    "genre_sales.sort_values(by = 'sum_sales')"
   ]
  },
  {
   "cell_type": "code",
   "execution_count": 32,
   "metadata": {},
   "outputs": [
    {
     "data": {
      "image/png": "[encoded data removed]",
      "text/plain": [
       "<Figure size 648x648 with 1 Axes>"
      ]
     },
     "metadata": {
      "needs_background": "light"
     },
     "output_type": "display_data"
    }
   ],
   "source": [
    "genre_sales['median_sales'].plot(kind = 'bar', title = 'Продажи игр по жанрам', figsize = (9,9));\n",
    "plt.xlabel('Жанр')\n",
    "plt.ylabel('Медианные продажи')\n",
    "plt.xticks(rotation=45)  # Поворот подписей оси X для удобства чтения\n",
    "plt.grid(True)\n",
    "plt.show()"
   ]
  },
  {
   "cell_type": "markdown",
   "metadata": {},
   "source": [
    "1. **Самые прибыльные жанры:**\n",
    "\n",
    "\n",
    "- Action: Жанр Action имеет наибольшие суммарные продажи — 321,87 миллионов копий. Это неудивительно, так как такие игры зачастую пользуются широкой популярностью среди игроков благодаря динамичному игровому процессу.\n",
    "- Shooter: Жанр Shooter занимает второе место по суммарным продажам с 232,98 миллионами копий. Шутеры остаются одними из самых популярных жанров, часто привлекают аудиторию за счёт мультиплеера и высокой интерактивности.\n",
    "- Sports: Жанр спортивных игр тоже является прибыльным, с 150,65 миллионами проданных копий, что показывает интерес к спортивным симуляторам и ежегодным играм.\n",
    "\n",
    "\n",
    "2. **Менее прибыльные жанры:**\n",
    "\n",
    "\n",
    "- Puzzle и Adventure: Эти жанры имеют самые низкие продажи — Puzzle (3,17 миллионов копий) и Adventure (23,64 миллиона копий). Эти жанры, как правило, рассчитаны на более узкую аудиторию, и их сложность или специфический игровой процесс могут ограничивать их популярность.\n",
    "- Strategy и Simulation: Жанры Strategy (10,08 млн копий) и Simulation (21,76 млн копий) тоже относятся к менее прибыльным категориям, несмотря на стабильную нишевую аудиторию.\n",
    "\n",
    "\n",
    "3. **Срединные жанры:**\n",
    "\n",
    "\n",
    "- Fighting, Racing, и Platform: Эти жанры имеют средние показатели по продажам — от 35 до 42 миллионов копий, что показывает их умеренную популярность среди игроков.\n",
    "- Misc и Role-Playing: Эти жанры имеют довольно высокий уровень продаж (62,82 и 145,89 млн копий соответственно), причём ролевые игры (Role-Playing) выделяются как один из более успешных жанров, с медианной продажей в 0,125 миллионов копий на игру.\n",
    "\n",
    "\n",
    "4. **Медианные продажи** (будут наиболее показательны для анализа рынка игр):\n",
    "\n",
    "\n",
    "- **Жанры с наибольшими медианными продажами:**\n",
    "- Shooter (0.450 млн копий): Этот жанр лидирует по медианным продажам, что говорит о том, что даже игры средней популярности в этом жанре продаются значительно лучше по сравнению с играми в других жанрах. Высокая медиана указывает на стабильный интерес к шутерам среди игроков.\n",
    "- Sports (0.240 млн копий): Спортивные игры занимают второе место по медианным продажам, что свидетельствует о высокой популярности спортивных игр. Медиана достаточно высокая, что говорит о стабильных продажах как популярных, так и менее известных проектов.\n",
    "- Platform (0.225 млн копий): Платформеры также имеют высокие медианные продажи, что говорит о том, что даже менее известные игры в этом жанре могут демонстрировать хорошие результаты.\n",
    "- **Жанры с умеренными медианными продажами:**\n",
    "- Fighting и Role-Playing (по 0.125 млн копий): Игры в жанре \"Файтинги\" и \"Ролевые игры\" имеют достаточно стабильные медианные продажи. Это свидетельствует о том, что эти жанры удерживают свою нишу, где большинство игр могут рассчитывать на относительно хорошие продажи.\n",
    "- Racing (0.120 млн копий) и Action (0.110 млн копий): Жанры гонок и экшенов также демонстрируют уверенные медианные продажи, что говорит о достаточно стабильной аудитории, несмотря на большое количество выпущенных игр.\n",
    "- **Жанры с низкими медианными продажами:**\n",
    "- Simulation, Misc, и Strategy (по 0.100 млн копий): Эти жанры демонстрируют более низкие медианные продажи, что может свидетельствовать о том, что хотя в них выходят успешные игры, большинство проектов продаются на среднем или низком уровне.\n",
    "- Puzzle (0.060 млн копий): Жанр головоломок имеет наименьшие медианные продажи. Это может свидетельствовать о том, что такие игры, несмотря на свою нишевость, не имеют значительного коммерческого успеха.\n",
    "- Adventure (0.030 млн копий): Самый низкий показатель медианных продаж среди всех жанров указывает на то, что большинство игр в жанре приключений продаются плохо, несмотря на возможные редкие успешные проекты.\n",
    "\n",
    "\n",
    "**Основные выводы:**\n",
    "\n",
    "\n",
    "- Жанры Shooter и Sports выделяются как наиболее прибыльные с точки зрения медианных продаж, что свидетельствует о стабильности и популярности данных жанров.\n",
    "- Жанры с низкими медианными продажами, такие как Puzzle и Adventure, имеют узкую аудиторию, что делает их менее успешными с коммерческой точки зрения.\n",
    "\n",
    "\n",
    "\n",
    "\n",
    "\n"
   ]
  },
  {
   "cell_type": "markdown",
   "metadata": {},
   "source": [
    "## Портрет пользователя каждого региона"
   ]
  },
  {
   "cell_type": "markdown",
   "metadata": {},
   "source": [
    "### Самые популярные платформы (топ-5) по регионам"
   ]
  },
  {
   "cell_type": "code",
   "execution_count": 33,
   "metadata": {},
   "outputs": [
    {
     "name": "stdout",
     "output_type": "stream",
     "text": [
      "Топ 5 платформ в Северной Америке:\n",
      "          na_sales\n",
      "platform          \n",
      "PS4         108.74\n",
      "XOne         93.12\n",
      "X360         81.66\n",
      "PS3          63.50\n",
      "3DS          38.20\n",
      "\n",
      "Топ 5 платформ в Европе:\n",
      "          eu_sales\n",
      "platform          \n",
      "PS4         141.09\n",
      "PS3          67.81\n",
      "XOne         51.59\n",
      "X360         42.52\n",
      "3DS          30.96\n",
      "\n",
      "Топ 5 платформ в Японии:\n",
      "          jp_sales\n",
      "platform          \n",
      "3DS          67.81\n",
      "PS3          23.35\n",
      "PSV          18.59\n",
      "PS4          15.96\n",
      "WiiU         10.88\n"
     ]
    }
   ],
   "source": [
    "na_platform = actual_data.pivot_table(index = 'platform', values = 'na_sales', aggfunc = 'sum').sort_values(by = 'na_sales', ascending = False).head(5)\n",
    "jp_platform = actual_data.pivot_table(index = 'platform', values = 'jp_sales', aggfunc = 'sum').sort_values(by = 'jp_sales', ascending = False).head(5)\n",
    "eu_platform = actual_data.pivot_table(index = 'platform', values = 'eu_sales', aggfunc = 'sum').sort_values(by = 'eu_sales', ascending = False).head(5)\n",
    "\n",
    "print(\"Топ 5 платформ в Северной Америке:\")\n",
    "print(na_platform)\n",
    "print(\"\\nТоп 5 платформ в Европе:\")\n",
    "print(eu_platform)\n",
    "print(\"\\nТоп 5 платформ в Японии:\")\n",
    "print(jp_platform)"
   ]
  },
  {
   "cell_type": "markdown",
   "metadata": {},
   "source": [
    "Создадим графики долей продаж для каждого региона"
   ]
  },
  {
   "cell_type": "code",
   "execution_count": 34,
   "metadata": {},
   "outputs": [
    {
     "data": {
      "image/png": "[encoded data removed]",
      "text/plain": [
       "<Figure size 1296x432 with 3 Axes>"
      ]
     },
     "metadata": {},
     "output_type": "display_data"
    }
   ],
   "source": [
    "fig, axs = plt.subplots(1, 3, figsize=(18, 6))\n",
    "\n",
    "# График для NA\n",
    "axs[0].pie(na_platform['na_sales'], labels=na_platform.index, autopct='%1.1f%%', startangle=90)\n",
    "axs[0].set_title('Топ 5 платформ в Северной Америке')\n",
    "\n",
    "# График для EU\n",
    "axs[1].pie(eu_platform['eu_sales'], labels=eu_platform.index, autopct='%1.1f%%', startangle=90)\n",
    "axs[1].set_title('Топ 5 платформ в Европе')\n",
    "\n",
    "# График для JP\n",
    "axs[2].pie(jp_platform['jp_sales'], labels=jp_platform.index, autopct='%1.1f%%', startangle=90)\n",
    "axs[2].set_title('Топ 5 платформ в Японии')\n",
    "\n",
    "plt.tight_layout()\n",
    "plt.show()"
   ]
  },
  {
   "cell_type": "markdown",
   "metadata": {},
   "source": [
    "**Различия в долях продаж платформ по регионам:**\n",
    "\n",
    "\n",
    "1. **Северная Америка (NA):**\n",
    "\n",
    "\n",
    "Лидеры по продажам:\n",
    "\n",
    "\n",
    "- PS4 — 108.74 млн\n",
    "- XOne — 93.12 млн\n",
    "- X360 — 81.66 млн\n",
    "- PS3 — 63.50 млн\n",
    "- 3DS — 38.20 млн\n",
    "\n",
    "\n",
    "Особенности: \n",
    "\n",
    "В Северной Америке доминируют консоли PS и Xbox. PS4 лидирует с большим отрывом, но XOne и X360 также пользуются значительной популярностью. В то же время, 3DS показывает хорошие результаты, но её продажи ниже по сравнению с другими.\n",
    "\n",
    "\n",
    "2. **Европа (EU):**\n",
    "\n",
    "\n",
    "Лидеры по продажам:\n",
    "\n",
    "\n",
    "- PS4 — 141.09 млн\n",
    "- PS3 — 67.81 млн\n",
    "- XOne — 51.59 млн\n",
    "- X360 — 42.52 млн\n",
    "- 3DS — 30.96 млн\n",
    "\n",
    "\n",
    "Особенности: \n",
    "\n",
    "В Европе PS также является лидером, причем PS4 значительно опережает другие платформы. Продажи PS3 почти в два раза выше, чем у XOne и X360, что говорит о популярности платформ PS. Xbox занимает более слабые позиции по сравнению с Северной Америкой, а 3DS немного менее популярна.\n",
    "\n",
    "\n",
    "3. **Япония (JP):**\n",
    "\n",
    "\n",
    "Лидеры по продажам:\n",
    "\n",
    "\n",
    "- 3DS — 67.81 млн\n",
    "- PS3 — 23.35 млн\n",
    "- PSV — 18.59 млн\n",
    "- PS4 — 15.96 млн\n",
    "- WiiU — 10.88 млн\n",
    "\n",
    "\n",
    "Особенности: \n",
    "\n",
    "\n",
    "Япония сильно отличается от западных рынков. Здесь лидирует 3DS, которая значительно опережает другие платформы. Также популярны PS3 и PSV. PS4, хотя и занимает 4-е место, значительно уступает своим результатам в Северной Америке и Европе. Консоли 3DS и Wii U, имеют более высокие продажи в Японии.\n",
    "\n",
    "\n",
    "**Выводы:**\n",
    "\n",
    "\n",
    "- Северная Америка и Европа демонстрируют схожие предпочтения, с сильным доминированием PlayStation 4. Однако в Северной Америке консоли Xbox гораздо популярнее, чем в Европе.\n",
    "- Японский рынок существенно отличается, с явным акцентом на портативные консоли, особенно Nintendo 3DS и PS Vita, что связано с культурными предпочтениями и образом жизни в регионе."
   ]
  },
  {
   "cell_type": "markdown",
   "metadata": {},
   "source": [
    "### Самые популярные жанры (топ-5) по регионам"
   ]
  },
  {
   "cell_type": "code",
   "execution_count": 35,
   "metadata": {},
   "outputs": [
    {
     "name": "stdout",
     "output_type": "stream",
     "text": [
      "Топ 5 жанров в Северной Америке:\n",
      "              na_sales\n",
      "genre                 \n",
      "Action          126.05\n",
      "Shooter         109.74\n",
      "Sports           65.27\n",
      "Role-Playing     46.40\n",
      "Misc             27.49\n",
      "\n",
      "Топ 5 жанров в Европе:\n",
      "              eu_sales\n",
      "genre                 \n",
      "Action          118.13\n",
      "Shooter          87.86\n",
      "Sports           60.52\n",
      "Role-Playing     36.97\n",
      "Racing           20.19\n",
      "\n",
      "Топ 5 жанров в Японии:\n",
      "              jp_sales\n",
      "genre                 \n",
      "Role-Playing     51.04\n",
      "Action           40.49\n",
      "Misc              9.20\n",
      "Fighting          7.65\n",
      "Shooter           6.61\n"
     ]
    }
   ],
   "source": [
    "na_genre = actual_data.pivot_table(index = 'genre', values = 'na_sales', aggfunc = 'sum').sort_values(by = 'na_sales', ascending = False).head(5)\n",
    "jp_genre = actual_data.pivot_table(index = 'genre', values = 'jp_sales', aggfunc = 'sum').sort_values(by = 'jp_sales', ascending = False).head(5)\n",
    "eu_genre = actual_data.pivot_table(index = 'genre', values = 'eu_sales', aggfunc = 'sum').sort_values(by = 'eu_sales', ascending = False).head(5)\n",
    "\n",
    "print(\"Топ 5 жанров в Северной Америке:\")\n",
    "print(na_genre)\n",
    "print(\"\\nТоп 5 жанров в Европе:\")\n",
    "print(eu_genre)\n",
    "print(\"\\nТоп 5 жанров в Японии:\")\n",
    "print(jp_genre)"
   ]
  },
  {
   "cell_type": "markdown",
   "metadata": {},
   "source": [
    "Создадим графики долей продаж для каждого региона"
   ]
  },
  {
   "cell_type": "code",
   "execution_count": 36,
   "metadata": {},
   "outputs": [
    {
     "data": {
      "image/png": "[encoded data removed]",
      "text/plain": [
       "<Figure size 1296x432 with 3 Axes>"
      ]
     },
     "metadata": {},
     "output_type": "display_data"
    }
   ],
   "source": [
    "fig, axs = plt.subplots(1, 3, figsize=(18, 6))\n",
    "\n",
    "# График для NA\n",
    "axs[0].pie(na_genre['na_sales'], labels=na_genre.index, autopct='%1.1f%%', startangle=90)\n",
    "axs[0].set_title('Топ 5 жанров в Северной Америке')\n",
    "\n",
    "# График для EU\n",
    "axs[1].pie(eu_genre['eu_sales'], labels=eu_genre.index, autopct='%1.1f%%', startangle=90)\n",
    "axs[1].set_title('Топ 5 жанров в Европе')\n",
    "\n",
    "# График для JP\n",
    "axs[2].pie(jp_genre['jp_sales'], labels=jp_genre.index, autopct='%1.1f%%', startangle=90)\n",
    "axs[2].set_title('Топ 5 жанров в Японии')\n",
    "\n",
    "plt.tight_layout()\n",
    "plt.show()"
   ]
  },
  {
   "cell_type": "markdown",
   "metadata": {},
   "source": [
    "**Различия в популярности жанров по регионам:**\n",
    "\n",
    "\n",
    "1. **Северная Америка (NA):**\n",
    "\n",
    "\n",
    "Топ-5 жанров:\n",
    "\n",
    "\n",
    "- Action — 126.05 млн\n",
    "- Shooter — 109.74 млн\n",
    "- Sports — 65.27 млн\n",
    "- Role-Playing — 46.40 млн\n",
    "- Misc — 27.49 млн\n",
    "\n",
    "\n",
    "Особенности: \n",
    "\n",
    "\n",
    "В Северной Америке лидируют экшн-игры и шутеры, что свидетельствует о высокой популярности динамичных и соревновательных жанров. Жанр «Sports» занимает третье место, указывая на значительный интерес к спортивным симуляторам. Ролевые игры (Role-Playing) также популярны, хотя их продажи значительно уступают лидерам.\n",
    "\n",
    "\n",
    "2. **Европа (EU):**\n",
    "\n",
    "\n",
    "Топ-5 жанров:\n",
    "\n",
    "\n",
    "- Action — 118.13 млн\n",
    "- Shooter — 87.86 млн\n",
    "- Sports — 60.52 млн\n",
    "- Role-Playing — 36.97 млн\n",
    "- Racing — 20.19 млн\n",
    "\n",
    "\n",
    "Особенности: \n",
    "\n",
    "\n",
    "В Европе картина схожа с Северной Америкой — жанры Action и Shooter занимают лидирующие позиции. Однако интерес к гоночным играм (Racing) выражен сильнее, чем в других регионах, что делает этот жанр пятым по популярности. Sports и Role-Playing также демонстрируют хорошие результаты, но они менее популярны, чем в Северной Америке.\n",
    "\n",
    "\n",
    "3. **Япония (JP):**\n",
    "\n",
    "\n",
    "Топ-5 жанров:\n",
    "\n",
    "\n",
    "- Role-Playing — 51.04 млн\n",
    "- Action — 40.49 млн\n",
    "- Misc — 9.20 млн\n",
    "- Fighting — 7.65 млн\n",
    "- Shooter — 6.61 млн\n",
    "\n",
    "\n",
    "Особенности: \n",
    "\n",
    "В Японии кардинально отличается предпочтение жанров — на первом месте находятся ролевые игры (Role-Playing), что объясняется большой популярностью JRPG (японских ролевых игр) среди местных игроков. Action-игры занимают второе место, а шутеры, которые лидируют в других регионах, находятся лишь на пятом месте. Здесь также популярны жанры Misc и Fighting, что говорит о разнообразии вкусов японских игроков.\n",
    "\n",
    "\n",
    "**Выводы:**\n",
    "\n",
    "\n",
    "- Северная Америка и Европа имеют схожие предпочтения: доминируют жанры Action и Shooter, с большой популярностью спортивных игр.\n",
    "- Япония существенно отличается: здесь наибольшей популярностью пользуются ролевые игры, и жанры, такие как Fighting, Misc, имеют большее значение, тогда как шутеры занимают лишь пятое место."
   ]
  },
  {
   "cell_type": "markdown",
   "metadata": {},
   "source": [
    "### Влияния рейтинга ESRB на продажи в регионах"
   ]
  },
  {
   "cell_type": "code",
   "execution_count": 37,
   "metadata": {},
   "outputs": [
    {
     "data": {
      "text/html": [
       "<div>\n",
       "<style scoped>\n",
       "    .dataframe tbody tr th:only-of-type {\n",
       "        vertical-align: middle;\n",
       "    }\n",
       "\n",
       "    .dataframe tbody tr th {\n",
       "        vertical-align: top;\n",
       "    }\n",
       "\n",
       "    .dataframe thead th {\n",
       "        text-align: right;\n",
       "    }\n",
       "</style>\n",
       "<table border=\"1\" class=\"dataframe\">\n",
       "  <thead>\n",
       "    <tr style=\"text-align: right;\">\n",
       "      <th></th>\n",
       "      <th>eu_sales</th>\n",
       "      <th>jp_sales</th>\n",
       "      <th>na_sales</th>\n",
       "    </tr>\n",
       "    <tr>\n",
       "      <th>rating</th>\n",
       "      <th></th>\n",
       "      <th></th>\n",
       "      <th></th>\n",
       "    </tr>\n",
       "  </thead>\n",
       "  <tbody>\n",
       "    <tr>\n",
       "      <th>E</th>\n",
       "      <td>0.276026</td>\n",
       "      <td>0.050132</td>\n",
       "      <td>0.261755</td>\n",
       "    </tr>\n",
       "    <tr>\n",
       "      <th>E10+</th>\n",
       "      <td>0.169405</td>\n",
       "      <td>0.023373</td>\n",
       "      <td>0.215238</td>\n",
       "    </tr>\n",
       "    <tr>\n",
       "      <th>M</th>\n",
       "      <td>0.393821</td>\n",
       "      <td>0.038238</td>\n",
       "      <td>0.447724</td>\n",
       "    </tr>\n",
       "    <tr>\n",
       "      <th>T</th>\n",
       "      <td>0.125976</td>\n",
       "      <td>0.061832</td>\n",
       "      <td>0.149520</td>\n",
       "    </tr>\n",
       "  </tbody>\n",
       "</table>\n",
       "</div>"
      ],
      "text/plain": [
       "        eu_sales  jp_sales  na_sales\n",
       "rating                              \n",
       "E       0.276026  0.050132  0.261755\n",
       "E10+    0.169405  0.023373  0.215238\n",
       "M       0.393821  0.038238  0.447724\n",
       "T       0.125976  0.061832  0.149520"
      ]
     },
     "execution_count": 37,
     "metadata": {},
     "output_type": "execute_result"
    }
   ],
   "source": [
    "esrb_region = actual_data.query('rating.notna()').pivot_table(index = 'rating', values = ['eu_sales', 'jp_sales', 'na_sales'], aggfunc = 'mean')\n",
    "esrb_region"
   ]
  },
  {
   "cell_type": "markdown",
   "metadata": {},
   "source": [
    "Визуализируем данные с использованием столбчатой диаграммы"
   ]
  },
  {
   "cell_type": "code",
   "execution_count": 38,
   "metadata": {},
   "outputs": [
    {
     "data": {
      "image/png": "[encoded data removed]",
      "text/plain": [
       "<Figure size 864x432 with 3 Axes>"
      ]
     },
     "metadata": {
      "needs_background": "light"
     },
     "output_type": "display_data"
    }
   ],
   "source": [
    "plt.figure(figsize=(12, 6))\n",
    "\n",
    "# Построим диаграмму для NA\n",
    "plt.subplot(1, 3, 1)\n",
    "esrb_region['na_sales'].plot(kind='bar')\n",
    "plt.title('Средние продажи в NA по ESRB рейтингу')\n",
    "plt.ylabel('Продажи (млн копий)')\n",
    "plt.xlabel('ESRB Рейтинг')\n",
    "\n",
    "# Построим диаграмму для EU\n",
    "plt.subplot(1, 3, 2)\n",
    "esrb_region['eu_sales'].plot(kind='bar')\n",
    "plt.title('Средние продажи в EU по ESRB рейтингу')\n",
    "plt.ylabel('Продажи (млн копий)')\n",
    "plt.xlabel('ESRB Рейтинг')\n",
    "\n",
    "# Построим диаграмму для JP\n",
    "plt.subplot(1, 3, 3)\n",
    "esrb_region['jp_sales'].plot(kind='bar')\n",
    "plt.title('Средние продажи в JP по ESRB рейтингу')\n",
    "plt.ylabel('Продажи (млн копий)')\n",
    "plt.xlabel('ESRB Рейтинг')\n",
    "\n",
    "plt.tight_layout()\n",
    "plt.show()"
   ]
  },
  {
   "cell_type": "markdown",
   "metadata": {},
   "source": [
    "Проверим корреляцию между рейтингом и продажами в разных регионах"
   ]
  },
  {
   "cell_type": "code",
   "execution_count": 39,
   "metadata": {},
   "outputs": [
    {
     "name": "stdout",
     "output_type": "stream",
     "text": [
      "Корреляция между ESRB рейтингом и продажами в NA: 0.1314129899552676\n",
      "Корреляция между ESRB рейтингом и продажами в EU: 0.11551645188044288\n",
      "Корреляция между ESRB рейтингом и продажами в JP: -0.06617316239239068\n"
     ]
    },
    {
     "name": "stderr",
     "output_type": "stream",
     "text": [
      "/tmp/ipykernel_138/2667543.py:2: SettingWithCopyWarning: \n",
      "A value is trying to be set on a copy of a slice from a DataFrame.\n",
      "Try using .loc[row_indexer,col_indexer] = value instead\n",
      "\n",
      "See the caveats in the documentation: https://pandas.pydata.org/pandas-docs/stable/user_guide/indexing.html#returning-a-view-versus-a-copy\n",
      "  actual_data['rating_code'] = actual_data['rating'].astype('category').cat.codes\n"
     ]
    }
   ],
   "source": [
    "# Поскольку ESRB_Rating не числовое, его нужно закодировать для корреляции\n",
    "actual_data['rating_code'] = actual_data['rating'].astype('category').cat.codes\n",
    "\n",
    "# Корреляция между рейтингом ESRB и продажами\n",
    "corr_na = actual_data[['rating_code', 'na_sales']].corr().iloc[0, 1]\n",
    "corr_eu = actual_data[['rating_code', 'eu_sales']].corr().iloc[0, 1]\n",
    "corr_jp = actual_data[['rating_code', 'jp_sales']].corr().iloc[0, 1]\n",
    "\n",
    "print(f\"Корреляция между ESRB рейтингом и продажами в NA: {corr_na}\")\n",
    "print(f\"Корреляция между ESRB рейтингом и продажами в EU: {corr_eu}\")\n",
    "print(f\"Корреляция между ESRB рейтингом и продажами в JP: {corr_jp}\")"
   ]
  },
  {
   "cell_type": "markdown",
   "metadata": {},
   "source": [
    "1. **Северная Америка (NA):**\n",
    "\n",
    "\n",
    "- Корреляция: 0.13 (умеренная положительная корреляция)\n",
    "- Рейтинг M («Для взрослых») занимает лидирующую позицию по продажам (44.8%), за ним следуют игры с рейтингами E («Для всех») и E10+ («Для детей от 10 лет»). Это свидетельствует о том, что взрослые игры имеют значительное влияние на рынок Северной Америки, хотя корреляция невысока, что может означать, что другие факторы также сильно влияют на продажи.\n",
    "\n",
    "\n",
    "2. **Европа (EU):**\n",
    "\n",
    "\n",
    "- Корреляция: 0.12 (слабая положительная корреляция)\n",
    "- В Европе также лидируют игры с рейтингом M (39.4%), что подтверждает схожесть с Северной Америкой в предпочтениях более взрослой аудитории. Однако рейтинг E также демонстрирует хорошие результаты, занимая второе место. Корреляция остается слабой, указывая на слабую зависимость между рейтингом и продажами.\n",
    "\n",
    "\n",
    "3. **Япония (JP):**\n",
    "\n",
    "\n",
    "- Корреляция: -0.07 (слабая отрицательная корреляция)\n",
    "- В Японии наблюдается другая картина: рейтинг ESRB не оказывает столь значительного влияния на продажи. Ведущие позиции занимают игры с рейтингом Role-Playing, и, несмотря на низкие продажи игр с рейтингом M, корреляция отрицательная, что говорит о слабом или даже обратном влиянии рейтинга на предпочтения местных игроков.\n",
    "\n",
    "\n",
    "**Выводы:**\n",
    "- В Северной Америке и Европе рейтинг ESRB оказывает умеренное влияние на продажи игр, особенно с рейтингом M. Эти регионы ориентированы на взрослую аудиторию.\n",
    "- В Японии рейтинг ESRB не играет существенной роли в продажах, и влияние рейтингов M и T меньше, чем в западных регионах."
   ]
  },
  {
   "cell_type": "markdown",
   "metadata": {},
   "source": [
    "## Проверка гипотез"
   ]
  },
  {
   "cell_type": "markdown",
   "metadata": {},
   "source": [
    "### Средние пользовательские рейтинги платформ Xbox One и PC"
   ]
  },
  {
   "cell_type": "markdown",
   "metadata": {},
   "source": [
    "**Формулировка гипотез:**\n",
    "\n",
    "\n",
    "- Нулевая гипотеза (H0): Средние пользовательские рейтинги для платформ Xbox One и PC одинаковые\n",
    "\n",
    "\n",
    "Это означает, что между средними значениями рейтингов на двух платформах нет статистически значимых различий.\n",
    "\n",
    " \n",
    "- Альтернативная гипотеза (H1): Средние пользовательские рейтинги для платформ Xbox One и PC различаются\n",
    "\n",
    "\n",
    "Это утверждает, что средние пользовательские рейтинги на этих платформах отличаются.\n",
    "\n",
    "\n",
    "**Обоснование гипотез:**\n",
    "\n",
    "\n",
    "- Нулевая гипотеза предполагает, что наблюдаемые различия в рейтингах могут быть вызваны случайностью, и средние значения рейтингов на этих двух платформах в действительности равны.\n",
    "- Альтернативная гипотеза утверждает, что существуют значимые различия в средних пользовательских рейтингах для платформ Xbox One и PC, и они не могут быть объяснены случайными вариациями.\n",
    "\n",
    "\n",
    "**Критерий для проверки гипотезы:**\n",
    "\n",
    "\n",
    "Мы применим двусторонний t-тест для независимых выборок. Этот тест сравнивает средние значения двух групп, предполагая, что данные распределены нормально и дисперсии примерно равны.В данном случае, пользовательские рейтинги можно рассматривать как такие данные.\n",
    "\n"
   ]
  },
  {
   "cell_type": "code",
   "execution_count": 40,
   "metadata": {},
   "outputs": [
    {
     "name": "stdout",
     "output_type": "stream",
     "text": [
      "p-значение: 0.14759594013430463\n",
      "Не отвергаем нулевую гипотезу: средние рейтинги Xbox One и PC одинаковы.\n"
     ]
    }
   ],
   "source": [
    "xbox_one_score = actual_data.query('(platform == \"XOne\") and user_score.notna()')['user_score']\n",
    "pc_score = actual_data.query('(platform == \"PC\") and user_score.notna()')['user_score']\n",
    "\n",
    "alpha = 0.05 # уровень статистической значимости\n",
    "# если p-value окажется меньше него, отвергнем гипотезу\n",
    "\n",
    "results = st.ttest_ind(xbox_one_score, pc_score, equal_var=False)\n",
    "\n",
    "print('p-значение:', results.pvalue)\n",
    "\n",
    "if results.pvalue < 0.05:\n",
    "    print(\"Отвергаем нулевую гипотезу: средние рейтинги Xbox One и PC различаются.\")\n",
    "else:\n",
    "    print(\"Не отвергаем нулевую гипотезу: средние рейтинги Xbox One и PC одинаковы.\")\n"
   ]
  },
  {
   "cell_type": "markdown",
   "metadata": {},
   "source": [
    "**Вывод:**\n",
    "\n",
    "\n",
    "- Не отвергаем нулевую гипотезу: это значит, что у нас недостаточно доказательств для того, чтобы утверждать, что средние пользовательские рейтинги для платформ Xbox One и PC различаются.\n",
    "- Средние рейтинги на этих платформах можно считать одинаковыми, и любые наблюдаемые различия в выборках скорее всего случайны и не статистически значимы."
   ]
  },
  {
   "cell_type": "markdown",
   "metadata": {},
   "source": [
    "Для прогноза на 2017 год тот факт, что средние пользовательские рейтинги для платформ Xbox One и PC статистически одинаковы, означает следующее:\n",
    "\n",
    "\n",
    "- Похожее восприятие игр на обеих платформах: Игры на Xbox One и PC воспринимаются пользователями схожим образом, что позволяет продвигать одни и те же игры для обеих платформ без значительных адаптаций.\n",
    "- Единая рекламная стратегия: Поскольку различия в оценках незначительны, можно разрабатывать единую рекламную стратегию для игр на Xbox One и PC, что снизит затраты и повысит эффективность кампаний.\n",
    "- Фокус на другие факторы: Поскольку рейтинги схожи, при прогнозе продаж важно учитывать другие факторы, такие как популярность платформы в конкретных регионах, жанры игр и другие характеристики, которые могут больше влиять на выбор аудитории."
   ]
  },
  {
   "cell_type": "markdown",
   "metadata": {},
   "source": [
    "### Средние пользовательские рейтинги жанров Action и Sports "
   ]
  },
  {
   "cell_type": "markdown",
   "metadata": {},
   "source": [
    "**Формулировка гипотез:**\n",
    "\n",
    "\n",
    "- Нулевая гипотеза (H0): Средние пользовательские рейтинги жанров Action и Sports одинаковы.\n",
    "\n",
    "\n",
    "Это означает, что любые различия в средних рейтингах, которые могут быть обнаружены в данных, являются случайными и несущественными.\n",
    "\n",
    "\n",
    "- Альтернативная гипотеза (H1): Средние пользовательские рейтинги жанров Action и Sports различаются.\n",
    "\n",
    "\n",
    "Это означает, что есть статистически значимое различие в оценках пользователей между этими двумя жанрами.\n",
    "\n",
    "\n",
    "**Обоснование гипотез:**\n",
    "\n",
    "\n",
    "- Нулевая гипотеза всегда предполагает отсутствие эффекта или различий — в данном случае, это гипотеза о том, что разницы в средних рейтингах между жанрами нет.\n",
    "\n",
    "\n",
    "- Альтернативная гипотеза проверяет наличие эффекта или различий — в данном случае, это гипотеза о том, что разница между жанрами в пользовательских оценках существует.\n",
    "\n",
    "\n",
    "**Критерий для проверки гипотезы:**\n",
    "\n",
    "\n",
    "Для проверки гипотезы о равенстве средних двух выборок используется t-тест для независимых выборок. Этот тест применяют, когда данные в двух группах независимы и распределены нормально, а также если дисперсии в выборках могут считаться одинаковыми"
   ]
  },
  {
   "cell_type": "code",
   "execution_count": 41,
   "metadata": {},
   "outputs": [
    {
     "name": "stdout",
     "output_type": "stream",
     "text": [
      "p-значение: 1.4460039700704315e-20\n",
      "Отвергаем нулевую гипотезу: средние рейтинги жанров Action и Sports различаются.\n"
     ]
    }
   ],
   "source": [
    "action_score = actual_data.query('(genre == \"Action\") and user_score.notna()')['user_score']\n",
    "sports_score = actual_data.query('(genre == \"Sports\") and user_score.notna()')['user_score']\n",
    "\n",
    "alpha = 0.05 # уровень статистической значимости\n",
    "# если p-value окажется меньше него, отвергнем гипотезу\n",
    "\n",
    "results = st.ttest_ind(action_score, sports_score, equal_var=False)\n",
    "\n",
    "print('p-значение:', results.pvalue)\n",
    "\n",
    "if results.pvalue < 0.05:\n",
    "    print(\"Отвергаем нулевую гипотезу: средние рейтинги жанров Action и Sports различаются.\")\n",
    "else:\n",
    "    print(\"Не отвергаем нулевую гипотезу: средние рейтинги жанров Action и Sports одинаковы.\")"
   ]
  },
  {
   "cell_type": "markdown",
   "metadata": {},
   "source": [
    "**Вывод:**\n",
    "\n",
    "\n",
    "На основании проведённого теста нулевая гипотеза, предполагающая, что средние пользовательские рейтинги жанров Action и Sports одинаковы, была отвергнута. p-значение составило 1.45e-20, что значительно меньше общепринятого уровня значимости (например, α = 0.05). Это свидетельствует о том, что существует статистически значимое различие между средними пользовательскими рейтингами этих жанров. Следовательно, можно утверждать, что пользователи оценивают жанры Action и Sports по-разному."
   ]
  },
  {
   "cell_type": "markdown",
   "metadata": {},
   "source": [
    "Для прогноза на 2017 год различие в оценках жанров Action и Sports указывает на разные предпочтения пользователей. Рекламные кампании также можно адаптировать, учитывая эти различия, чтобы эффективно привлекать аудитории каждого жанра."
   ]
  },
  {
   "cell_type": "markdown",
   "metadata": {},
   "source": [
    "## Общий вывод"
   ]
  },
  {
   "cell_type": "markdown",
   "metadata": {},
   "source": [
    "Проект по анализу данных о продажах видеоигр продемонстрировал ряд важных тенденций, которые могут быть полезны для будущих прогнозов и стратегий в игровой индустрии. Ниже приведены ключевые выводы:\n",
    "\n",
    "\n",
    "**Открытие и изучение данных:**\n",
    "\n",
    "\n",
    "- Данные содержат 16 715 записей с информацией по продажам игр, платформам, оценкам пользователей и критиков, а также жанрам и рейтингам.\n",
    "- Присутствуют значительные пропуски в данных по оценкам пользователей, критиков и ESRB-рейтингам. \n",
    "- Типы данных были частично некорректными, что потребовало приведения их к нужному формату (например, преобразование года выпуска в целочисленный формат, а оценок пользователей в числовой формат).\n",
    "\n",
    "\n",
    "**Подготовка данных:**\n",
    "\n",
    "\n",
    "- Были удалены строки с отсутствующими названиями игр и жанрами, так как такие данные не несут значимой информации.\n",
    "- Пропуски в столбце \"Year_of_Release\" также были удалены из-за их критической важности.\n",
    "- В столбце с оценками пользователей (\"User_Score\") значения 'tbd' заменены на пропуски.\n",
    "- Для анализа добавлен новый столбец \"Total_Sales\", суммирующий продажи во всех регионах.\n",
    "\n",
    "\n",
    "**Анализ трендов по платформам и годам:**\n",
    "\n",
    "\n",
    "- Выпуск игр активно увеличивался с конца 90-х и достиг пика в 2005–2011 годах, после чего начал снижаться.\n",
    "- Жизненный цикл игровых платформ составляет в среднем 7–10 лет, после чего они уступают место новым поколениям.\n",
    "- Для прогноза на 2017 год наиболее актуален период 2013–2016 годов, когда на рынок вышли новые успешные платформы, такие как PS4 и XOne.\n",
    "\n",
    "\n",
    "**Продажи по платформам в актуальный период (2013–2016):**\n",
    "\n",
    "\n",
    "- Лидерами продаж стали платформы PS4 и XOne, показывающие уверенный рост.\n",
    "- Платформы PS3, X360 и Wii демонстрируют значительное снижение продаж, что свидетельствует о завершении их жизненного цикла.\n",
    "- PS4 является самой перспективной платформой для прогнозов на 2017 год, поскольку её продажи продолжают расти.\n",
    "\n",
    "\n",
    "**Анализ жанров:**\n",
    "\n",
    "\n",
    "- Жанры Action, Shooter и Sports оказались самыми прибыльными, принося самую большую долю продаж.\n",
    "- Жанры Puzzle и Adventure имеют самые низкие продажи, что указывает на их нишевую популярность.\n",
    "- Средние продажи игр в жанре Shooter самые высокие, что подтверждает его стабильную популярность среди игроков.\n",
    "\n",
    "\n",
    "**Региональные особенности:***\n",
    "\n",
    "\n",
    "- В Северной Америке и Европе платформы PS и Xbox доминируют, с PS4 на первом месте. В то же время в Японии более популярны портативные консоли, такие как 3DS и PSV.\n",
    "- В Северной Америке и Европе самые популярные жанры — это Action и Shooter, в то время как в Японии лидируют Role-Playing игры.\n",
    "- Японский рынок сильно отличается от западных регионов: здесь больше внимания уделяется портативным платформам и ролевым играм.\n",
    "\n",
    "\n",
    "**Корреляция между оценками и продажами:**\n",
    "\n",
    "\n",
    "- Связь между оценками пользователей и продажами оказалась незначительной. Это указывает на то, что продажи не зависят напрямую от пользовательских оценок.\n",
    "- Оценки критиков имеют умеренную положительную корреляцию с продажами, особенно на таких платформах, как PS4 и XOne. Игры, получившие высокие оценки критиков, имеют больше шансов на успешные продажи.\n",
    "\n",
    "\n",
    "**Рекомендации по сбору данных:**\n",
    "\n",
    "\n",
    "- Отбор признаков для прогнозирования: Для прогнозирования продаж рекомендуется использовать такие признаки, как платформа, жанр игры, оценки критиков, регион продаж и год выпуска. Это поможет точнее предсказывать успех игр на разных рынках.\n",
    "- Избежание дубликатов и пропущенных значений: Чтобы минимизировать влияние отсутствующих данных, рекомендуется регулярно обновлять данные и следить за их полнотой. Для платформ и жанров, для которых отсутствует информация, можно использовать методы прогнозирования на основе схожих игр или тенденций.\n",
    "- Актуализация данных: Постоянное обновление данных и мониторинг новых платформ и игр помогут поддерживать актуальность моделей прогнозирования.\n",
    "\n",
    "\n",
    "**Заключение:**\n",
    "\n",
    "Как спрогнозировать рынок игр в 2017 году: Для прогноза на 2017 год важно учитывать данные за последние несколько лет (2013-2016), фокусируясь на платформах с ростом продаж (PS4 и XOne) и жанрах, показывающих наибольшую прибыльность (Action, Shooter). Следует обратить внимание на жизненные циклы платформ и смену поколений консолей. Успех игр на новых платформах (PS4 и XOne) будет важным фактором в 2017 году.\n",
    "\n",
    "\n",
    "Анализ данных по продажам игр позволяет сделать вывод, что успешные стратегии маркетинга и прогнозы должны основываться на современных трендах, таких как рост продаж на платформах PS4 и XOne и высокая популярность жанров Action и Shooter. Региональные особенности также играют важную роль, что требует учёта культурных предпочтений в разных регионах при разработке игр."
   ]
  }
 ],
 "metadata": {
  "ExecuteTimeLog": [
   {
    "duration": 1163,
    "start_time": "2024-09-10T17:38:43.802Z"
   },
   {
    "duration": 285,
    "start_time": "2024-09-10T17:38:44.967Z"
   },
   {
    "duration": 15,
    "start_time": "2024-09-10T17:40:12.812Z"
   },
   {
    "duration": 48,
    "start_time": "2024-09-11T08:36:36.683Z"
   },
   {
    "duration": 1212,
    "start_time": "2024-09-11T08:36:42.125Z"
   },
   {
    "duration": 314,
    "start_time": "2024-09-11T08:36:43.339Z"
   },
   {
    "duration": 17,
    "start_time": "2024-09-11T08:36:44.363Z"
   },
   {
    "duration": 67,
    "start_time": "2024-09-11T08:36:46.861Z"
   },
   {
    "duration": 8,
    "start_time": "2024-09-11T08:36:52.284Z"
   },
   {
    "duration": 9,
    "start_time": "2024-09-11T08:36:56.264Z"
   },
   {
    "duration": 4,
    "start_time": "2024-09-11T08:37:00.585Z"
   },
   {
    "duration": 4,
    "start_time": "2024-09-11T08:37:16.151Z"
   },
   {
    "duration": 5,
    "start_time": "2024-09-11T08:37:27.543Z"
   },
   {
    "duration": 8,
    "start_time": "2024-09-11T08:39:30.018Z"
   },
   {
    "duration": 17,
    "start_time": "2024-09-11T08:39:47.857Z"
   },
   {
    "duration": 14,
    "start_time": "2024-09-11T08:39:55.999Z"
   },
   {
    "duration": 682,
    "start_time": "2024-09-11T08:41:57.968Z"
   },
   {
    "duration": 10,
    "start_time": "2024-09-11T08:42:05.635Z"
   },
   {
    "duration": 6,
    "start_time": "2024-09-11T08:42:59.308Z"
   },
   {
    "duration": 14,
    "start_time": "2024-09-11T08:43:16.959Z"
   },
   {
    "duration": 29,
    "start_time": "2024-09-11T08:46:03.618Z"
   },
   {
    "duration": 8,
    "start_time": "2024-09-11T08:48:38.398Z"
   },
   {
    "duration": 15,
    "start_time": "2024-09-11T08:49:10.947Z"
   },
   {
    "duration": 13,
    "start_time": "2024-09-11T08:49:36.320Z"
   },
   {
    "duration": 14,
    "start_time": "2024-09-11T09:07:45.918Z"
   },
   {
    "duration": 18,
    "start_time": "2024-09-11T09:08:14.548Z"
   },
   {
    "duration": 25,
    "start_time": "2024-09-11T09:10:10.211Z"
   },
   {
    "duration": 24,
    "start_time": "2024-09-11T09:10:49.267Z"
   },
   {
    "duration": 29,
    "start_time": "2024-09-11T09:13:19.368Z"
   },
   {
    "duration": 12,
    "start_time": "2024-09-11T09:15:22.594Z"
   },
   {
    "duration": 25,
    "start_time": "2024-09-11T09:16:17.558Z"
   },
   {
    "duration": 26,
    "start_time": "2024-09-11T09:27:04.301Z"
   },
   {
    "duration": 18,
    "start_time": "2024-09-11T09:27:12.992Z"
   },
   {
    "duration": 19,
    "start_time": "2024-09-11T09:28:02.323Z"
   },
   {
    "duration": 29,
    "start_time": "2024-09-11T09:28:25.806Z"
   },
   {
    "duration": 11,
    "start_time": "2024-09-11T09:28:55.585Z"
   },
   {
    "duration": 7,
    "start_time": "2024-09-11T09:29:16.121Z"
   },
   {
    "duration": 8,
    "start_time": "2024-09-11T09:30:41.049Z"
   },
   {
    "duration": 16,
    "start_time": "2024-09-11T09:31:07.327Z"
   },
   {
    "duration": 8,
    "start_time": "2024-09-11T09:31:54.158Z"
   },
   {
    "duration": 909,
    "start_time": "2024-09-11T09:34:18.618Z"
   },
   {
    "duration": 4,
    "start_time": "2024-09-11T09:34:28.548Z"
   },
   {
    "duration": 1004,
    "start_time": "2024-09-11T09:34:40.342Z"
   },
   {
    "duration": 131,
    "start_time": "2024-09-11T09:34:41.348Z"
   },
   {
    "duration": 17,
    "start_time": "2024-09-11T09:34:41.480Z"
   },
   {
    "duration": 19,
    "start_time": "2024-09-11T09:34:41.499Z"
   },
   {
    "duration": 40,
    "start_time": "2024-09-11T09:34:41.521Z"
   },
   {
    "duration": 15,
    "start_time": "2024-09-11T09:34:41.563Z"
   },
   {
    "duration": 112,
    "start_time": "2024-09-11T09:34:41.579Z"
   },
   {
    "duration": 37,
    "start_time": "2024-09-11T09:34:41.693Z"
   },
   {
    "duration": 132,
    "start_time": "2024-09-11T09:34:41.732Z"
   },
   {
    "duration": 0,
    "start_time": "2024-09-11T09:34:41.866Z"
   },
   {
    "duration": 0,
    "start_time": "2024-09-11T09:34:41.867Z"
   },
   {
    "duration": 0,
    "start_time": "2024-09-11T09:34:41.868Z"
   },
   {
    "duration": 1061,
    "start_time": "2024-09-11T09:35:18.314Z"
   },
   {
    "duration": 131,
    "start_time": "2024-09-11T09:35:19.377Z"
   },
   {
    "duration": 18,
    "start_time": "2024-09-11T09:35:19.510Z"
   },
   {
    "duration": 25,
    "start_time": "2024-09-11T09:35:19.531Z"
   },
   {
    "duration": 24,
    "start_time": "2024-09-11T09:35:19.558Z"
   },
   {
    "duration": 17,
    "start_time": "2024-09-11T09:35:19.584Z"
   },
   {
    "duration": 83,
    "start_time": "2024-09-11T09:35:19.603Z"
   },
   {
    "duration": 7,
    "start_time": "2024-09-11T09:35:19.688Z"
   },
   {
    "duration": 8,
    "start_time": "2024-09-11T09:35:19.697Z"
   },
   {
    "duration": 8,
    "start_time": "2024-09-11T09:35:19.707Z"
   },
   {
    "duration": 145,
    "start_time": "2024-09-11T09:35:19.717Z"
   },
   {
    "duration": 0,
    "start_time": "2024-09-11T09:35:19.863Z"
   },
   {
    "duration": 14,
    "start_time": "2024-09-11T09:35:47.461Z"
   },
   {
    "duration": 12,
    "start_time": "2024-09-11T09:36:19.854Z"
   },
   {
    "duration": 24,
    "start_time": "2024-09-11T09:39:01.333Z"
   },
   {
    "duration": 25,
    "start_time": "2024-09-11T09:39:56.712Z"
   },
   {
    "duration": 17,
    "start_time": "2024-09-11T09:40:06.793Z"
   },
   {
    "duration": 213,
    "start_time": "2024-09-11T09:41:32.533Z"
   },
   {
    "duration": 30,
    "start_time": "2024-09-11T09:45:35.983Z"
   },
   {
    "duration": 26,
    "start_time": "2024-09-11T09:48:00.205Z"
   },
   {
    "duration": 14,
    "start_time": "2024-09-11T09:50:43.764Z"
   },
   {
    "duration": 30,
    "start_time": "2024-09-11T09:51:28.361Z"
   },
   {
    "duration": 24,
    "start_time": "2024-09-11T09:52:15.545Z"
   },
   {
    "duration": 25,
    "start_time": "2024-09-11T10:00:04.751Z"
   },
   {
    "duration": 10,
    "start_time": "2024-09-11T10:01:52.510Z"
   },
   {
    "duration": 15,
    "start_time": "2024-09-11T10:03:11.509Z"
   },
   {
    "duration": 7,
    "start_time": "2024-09-11T10:03:21.346Z"
   },
   {
    "duration": 10,
    "start_time": "2024-09-11T10:03:53.795Z"
   },
   {
    "duration": 34,
    "start_time": "2024-09-11T10:03:59.193Z"
   },
   {
    "duration": 24,
    "start_time": "2024-09-11T10:04:48.272Z"
   },
   {
    "duration": 27,
    "start_time": "2024-09-11T10:07:15.059Z"
   },
   {
    "duration": 1050,
    "start_time": "2024-09-11T10:32:13.114Z"
   },
   {
    "duration": 135,
    "start_time": "2024-09-11T10:32:14.166Z"
   },
   {
    "duration": 16,
    "start_time": "2024-09-11T10:32:14.303Z"
   },
   {
    "duration": 33,
    "start_time": "2024-09-11T10:32:14.320Z"
   },
   {
    "duration": 4,
    "start_time": "2024-09-11T10:32:14.355Z"
   },
   {
    "duration": 43,
    "start_time": "2024-09-11T10:32:14.361Z"
   },
   {
    "duration": 15,
    "start_time": "2024-09-11T10:32:14.406Z"
   },
   {
    "duration": 12,
    "start_time": "2024-09-11T10:32:14.423Z"
   },
   {
    "duration": 7,
    "start_time": "2024-09-11T10:32:14.436Z"
   },
   {
    "duration": 7,
    "start_time": "2024-09-11T10:32:14.444Z"
   },
   {
    "duration": 57,
    "start_time": "2024-09-11T10:32:14.452Z"
   },
   {
    "duration": 3,
    "start_time": "2024-09-11T10:32:14.510Z"
   },
   {
    "duration": 13,
    "start_time": "2024-09-11T10:32:14.514Z"
   },
   {
    "duration": 23,
    "start_time": "2024-09-11T10:32:14.529Z"
   },
   {
    "duration": 127,
    "start_time": "2024-09-11T10:32:14.553Z"
   },
   {
    "duration": 0,
    "start_time": "2024-09-11T10:32:14.682Z"
   },
   {
    "duration": 23,
    "start_time": "2024-09-11T10:34:03.453Z"
   },
   {
    "duration": 11,
    "start_time": "2024-09-11T10:34:16.692Z"
   },
   {
    "duration": 15,
    "start_time": "2024-09-11T10:34:25.730Z"
   },
   {
    "duration": 16,
    "start_time": "2024-09-11T10:35:31.293Z"
   },
   {
    "duration": 5,
    "start_time": "2024-09-11T10:35:57.782Z"
   },
   {
    "duration": 1022,
    "start_time": "2024-09-11T10:36:41.054Z"
   },
   {
    "duration": 130,
    "start_time": "2024-09-11T10:36:42.078Z"
   },
   {
    "duration": 17,
    "start_time": "2024-09-11T10:36:42.210Z"
   },
   {
    "duration": 31,
    "start_time": "2024-09-11T10:36:42.228Z"
   },
   {
    "duration": 4,
    "start_time": "2024-09-11T10:36:42.262Z"
   },
   {
    "duration": 42,
    "start_time": "2024-09-11T10:36:42.268Z"
   },
   {
    "duration": 14,
    "start_time": "2024-09-11T10:36:42.312Z"
   },
   {
    "duration": 23,
    "start_time": "2024-09-11T10:36:42.328Z"
   },
   {
    "duration": 20,
    "start_time": "2024-09-11T10:36:42.352Z"
   },
   {
    "duration": 27,
    "start_time": "2024-09-11T10:36:42.373Z"
   },
   {
    "duration": 32,
    "start_time": "2024-09-11T10:36:42.402Z"
   },
   {
    "duration": 6,
    "start_time": "2024-09-11T10:36:42.435Z"
   },
   {
    "duration": 13,
    "start_time": "2024-09-11T10:36:42.442Z"
   },
   {
    "duration": 31,
    "start_time": "2024-09-11T10:36:42.457Z"
   },
   {
    "duration": 21,
    "start_time": "2024-09-11T10:36:42.489Z"
   },
   {
    "duration": 56,
    "start_time": "2024-09-11T10:36:42.512Z"
   },
   {
    "duration": 17,
    "start_time": "2024-09-11T10:38:14.637Z"
   },
   {
    "duration": 17,
    "start_time": "2024-09-11T10:39:05.998Z"
   },
   {
    "duration": 56,
    "start_time": "2024-09-11T10:39:37.989Z"
   },
   {
    "duration": 16,
    "start_time": "2024-09-11T10:39:44.274Z"
   },
   {
    "duration": 54,
    "start_time": "2024-09-11T10:45:43.275Z"
   },
   {
    "duration": 100,
    "start_time": "2024-09-11T10:45:47.975Z"
   },
   {
    "duration": 729,
    "start_time": "2024-09-11T10:46:25.305Z"
   },
   {
    "duration": 657,
    "start_time": "2024-09-11T10:50:25.925Z"
   },
   {
    "duration": 699,
    "start_time": "2024-09-11T10:50:38.218Z"
   },
   {
    "duration": 12,
    "start_time": "2024-09-11T10:57:59.395Z"
   },
   {
    "duration": 50,
    "start_time": "2024-09-11T10:59:55.249Z"
   },
   {
    "duration": 12,
    "start_time": "2024-09-11T11:00:18.025Z"
   },
   {
    "duration": 4,
    "start_time": "2024-09-11T11:08:19.266Z"
   },
   {
    "duration": 1505,
    "start_time": "2024-09-11T11:09:02.302Z"
   },
   {
    "duration": 8,
    "start_time": "2024-09-11T11:09:16.957Z"
   },
   {
    "duration": 5,
    "start_time": "2024-09-11T11:10:15.337Z"
   },
   {
    "duration": 11,
    "start_time": "2024-09-11T11:10:33.709Z"
   },
   {
    "duration": 117,
    "start_time": "2024-09-11T11:12:02.582Z"
   },
   {
    "duration": 226,
    "start_time": "2024-09-11T11:13:23.701Z"
   },
   {
    "duration": 239,
    "start_time": "2024-09-11T11:13:41.096Z"
   },
   {
    "duration": 239,
    "start_time": "2024-09-11T12:49:06.911Z"
   },
   {
    "duration": 294,
    "start_time": "2024-09-11T12:49:51.621Z"
   },
   {
    "duration": 1108,
    "start_time": "2024-09-11T12:50:23.106Z"
   },
   {
    "duration": 132,
    "start_time": "2024-09-11T12:50:24.215Z"
   },
   {
    "duration": 15,
    "start_time": "2024-09-11T12:50:24.349Z"
   },
   {
    "duration": 49,
    "start_time": "2024-09-11T12:50:24.366Z"
   },
   {
    "duration": 5,
    "start_time": "2024-09-11T12:50:24.417Z"
   },
   {
    "duration": 21,
    "start_time": "2024-09-11T12:50:24.423Z"
   },
   {
    "duration": 14,
    "start_time": "2024-09-11T12:50:24.446Z"
   },
   {
    "duration": 39,
    "start_time": "2024-09-11T12:50:24.462Z"
   },
   {
    "duration": 6,
    "start_time": "2024-09-11T12:50:24.503Z"
   },
   {
    "duration": 7,
    "start_time": "2024-09-11T12:50:24.511Z"
   },
   {
    "duration": 27,
    "start_time": "2024-09-11T12:50:24.520Z"
   },
   {
    "duration": 6,
    "start_time": "2024-09-11T12:50:24.548Z"
   },
   {
    "duration": 43,
    "start_time": "2024-09-11T12:50:24.555Z"
   },
   {
    "duration": 15,
    "start_time": "2024-09-11T12:50:24.600Z"
   },
   {
    "duration": 15,
    "start_time": "2024-09-11T12:50:24.617Z"
   },
   {
    "duration": 355,
    "start_time": "2024-09-11T12:50:24.634Z"
   },
   {
    "duration": 278,
    "start_time": "2024-09-11T12:52:55.413Z"
   },
   {
    "duration": 320,
    "start_time": "2024-09-11T12:54:43.308Z"
   },
   {
    "duration": 1022,
    "start_time": "2024-09-11T12:55:50.050Z"
   },
   {
    "duration": 136,
    "start_time": "2024-09-11T12:55:51.074Z"
   },
   {
    "duration": 17,
    "start_time": "2024-09-11T12:55:51.211Z"
   },
   {
    "duration": 139,
    "start_time": "2024-09-11T12:55:51.230Z"
   },
   {
    "duration": 7,
    "start_time": "2024-09-11T12:55:51.370Z"
   },
   {
    "duration": 30,
    "start_time": "2024-09-11T12:55:51.378Z"
   },
   {
    "duration": 21,
    "start_time": "2024-09-11T12:55:51.409Z"
   },
   {
    "duration": 11,
    "start_time": "2024-09-11T12:55:51.432Z"
   },
   {
    "duration": 6,
    "start_time": "2024-09-11T12:55:51.445Z"
   },
   {
    "duration": 8,
    "start_time": "2024-09-11T12:55:51.453Z"
   },
   {
    "duration": 44,
    "start_time": "2024-09-11T12:55:51.462Z"
   },
   {
    "duration": 6,
    "start_time": "2024-09-11T12:55:51.508Z"
   },
   {
    "duration": 13,
    "start_time": "2024-09-11T12:55:51.515Z"
   },
   {
    "duration": 16,
    "start_time": "2024-09-11T12:55:51.529Z"
   },
   {
    "duration": 17,
    "start_time": "2024-09-11T12:55:51.547Z"
   },
   {
    "duration": 129,
    "start_time": "2024-09-11T12:55:51.565Z"
   },
   {
    "duration": 362,
    "start_time": "2024-09-11T12:57:59.987Z"
   },
   {
    "duration": 1119,
    "start_time": "2024-09-11T12:58:57.578Z"
   },
   {
    "duration": 109,
    "start_time": "2024-09-11T12:58:58.699Z"
   },
   {
    "duration": 15,
    "start_time": "2024-09-11T12:58:58.810Z"
   },
   {
    "duration": 37,
    "start_time": "2024-09-11T12:58:58.826Z"
   },
   {
    "duration": 5,
    "start_time": "2024-09-11T12:58:58.865Z"
   },
   {
    "duration": 41,
    "start_time": "2024-09-11T12:58:58.872Z"
   },
   {
    "duration": 16,
    "start_time": "2024-09-11T12:58:58.915Z"
   },
   {
    "duration": 12,
    "start_time": "2024-09-11T12:58:58.933Z"
   },
   {
    "duration": 6,
    "start_time": "2024-09-11T12:58:58.946Z"
   },
   {
    "duration": 5,
    "start_time": "2024-09-11T12:58:58.953Z"
   },
   {
    "duration": 46,
    "start_time": "2024-09-11T12:58:58.960Z"
   },
   {
    "duration": 6,
    "start_time": "2024-09-11T12:58:59.007Z"
   },
   {
    "duration": 5,
    "start_time": "2024-09-11T12:58:59.015Z"
   },
   {
    "duration": 13,
    "start_time": "2024-09-11T12:58:59.022Z"
   },
   {
    "duration": 15,
    "start_time": "2024-09-11T12:58:59.037Z"
   },
   {
    "duration": 248,
    "start_time": "2024-09-11T12:58:59.054Z"
   },
   {
    "duration": 196,
    "start_time": "2024-09-11T13:02:25.947Z"
   },
   {
    "duration": 1090,
    "start_time": "2024-09-11T13:10:15.608Z"
   },
   {
    "duration": 138,
    "start_time": "2024-09-11T13:10:16.700Z"
   },
   {
    "duration": 15,
    "start_time": "2024-09-11T13:10:16.839Z"
   },
   {
    "duration": 43,
    "start_time": "2024-09-11T13:10:16.856Z"
   },
   {
    "duration": 5,
    "start_time": "2024-09-11T13:10:16.901Z"
   },
   {
    "duration": 36,
    "start_time": "2024-09-11T13:10:16.907Z"
   },
   {
    "duration": 38,
    "start_time": "2024-09-11T13:10:16.945Z"
   },
   {
    "duration": 36,
    "start_time": "2024-09-11T13:10:16.985Z"
   },
   {
    "duration": 19,
    "start_time": "2024-09-11T13:10:17.023Z"
   },
   {
    "duration": 22,
    "start_time": "2024-09-11T13:10:17.044Z"
   },
   {
    "duration": 25,
    "start_time": "2024-09-11T13:10:17.067Z"
   },
   {
    "duration": 6,
    "start_time": "2024-09-11T13:10:17.093Z"
   },
   {
    "duration": 8,
    "start_time": "2024-09-11T13:10:17.101Z"
   },
   {
    "duration": 16,
    "start_time": "2024-09-11T13:10:17.111Z"
   },
   {
    "duration": 39,
    "start_time": "2024-09-11T13:10:17.129Z"
   },
   {
    "duration": 128,
    "start_time": "2024-09-11T13:10:17.170Z"
   },
   {
    "duration": 22,
    "start_time": "2024-09-11T13:11:20.412Z"
   },
   {
    "duration": 103,
    "start_time": "2024-09-11T13:13:13.259Z"
   },
   {
    "duration": 19,
    "start_time": "2024-09-11T13:13:27.131Z"
   },
   {
    "duration": 13,
    "start_time": "2024-09-11T13:13:33.765Z"
   },
   {
    "duration": 502,
    "start_time": "2024-09-11T13:19:47.574Z"
   },
   {
    "duration": 61,
    "start_time": "2024-09-11T13:21:02.578Z"
   },
   {
    "duration": 6,
    "start_time": "2024-09-11T13:21:08.193Z"
   },
   {
    "duration": 1100,
    "start_time": "2024-09-11T13:22:11.982Z"
   },
   {
    "duration": 134,
    "start_time": "2024-09-11T13:22:13.084Z"
   },
   {
    "duration": 17,
    "start_time": "2024-09-11T13:22:13.220Z"
   },
   {
    "duration": 81,
    "start_time": "2024-09-11T13:22:13.239Z"
   },
   {
    "duration": 21,
    "start_time": "2024-09-11T13:22:13.322Z"
   },
   {
    "duration": 99,
    "start_time": "2024-09-11T13:22:13.346Z"
   },
   {
    "duration": 66,
    "start_time": "2024-09-11T13:22:13.447Z"
   },
   {
    "duration": 21,
    "start_time": "2024-09-11T13:22:13.516Z"
   },
   {
    "duration": 8,
    "start_time": "2024-09-11T13:22:13.539Z"
   },
   {
    "duration": 36,
    "start_time": "2024-09-11T13:22:13.551Z"
   },
   {
    "duration": 53,
    "start_time": "2024-09-11T13:22:13.589Z"
   },
   {
    "duration": 6,
    "start_time": "2024-09-11T13:22:13.644Z"
   },
   {
    "duration": 19,
    "start_time": "2024-09-11T13:22:13.652Z"
   },
   {
    "duration": 34,
    "start_time": "2024-09-11T13:22:13.672Z"
   },
   {
    "duration": 26,
    "start_time": "2024-09-11T13:22:13.707Z"
   },
   {
    "duration": 143,
    "start_time": "2024-09-11T13:22:13.735Z"
   },
   {
    "duration": 22,
    "start_time": "2024-09-11T13:22:13.880Z"
   },
   {
    "duration": 19,
    "start_time": "2024-09-11T13:22:13.904Z"
   },
   {
    "duration": 12,
    "start_time": "2024-09-11T13:25:11.210Z"
   },
   {
    "duration": 1079,
    "start_time": "2024-09-11T13:25:20.522Z"
   },
   {
    "duration": 138,
    "start_time": "2024-09-11T13:25:21.604Z"
   },
   {
    "duration": 27,
    "start_time": "2024-09-11T13:25:21.744Z"
   },
   {
    "duration": 49,
    "start_time": "2024-09-11T13:25:21.775Z"
   },
   {
    "duration": 5,
    "start_time": "2024-09-11T13:25:21.826Z"
   },
   {
    "duration": 19,
    "start_time": "2024-09-11T13:25:21.833Z"
   },
   {
    "duration": 45,
    "start_time": "2024-09-11T13:25:21.854Z"
   },
   {
    "duration": 18,
    "start_time": "2024-09-11T13:25:21.901Z"
   },
   {
    "duration": 11,
    "start_time": "2024-09-11T13:25:21.921Z"
   },
   {
    "duration": 8,
    "start_time": "2024-09-11T13:25:21.935Z"
   },
   {
    "duration": 9,
    "start_time": "2024-09-11T13:25:21.945Z"
   },
   {
    "duration": 67,
    "start_time": "2024-09-11T13:25:21.956Z"
   },
   {
    "duration": 8,
    "start_time": "2024-09-11T13:25:22.026Z"
   },
   {
    "duration": 9,
    "start_time": "2024-09-11T13:25:22.036Z"
   },
   {
    "duration": 16,
    "start_time": "2024-09-11T13:25:22.047Z"
   },
   {
    "duration": 98,
    "start_time": "2024-09-11T13:25:22.065Z"
   },
   {
    "duration": 138,
    "start_time": "2024-09-11T13:25:22.165Z"
   },
   {
    "duration": 13,
    "start_time": "2024-09-11T13:25:22.305Z"
   },
   {
    "duration": 28,
    "start_time": "2024-09-11T13:25:22.320Z"
   },
   {
    "duration": 75,
    "start_time": "2024-09-11T13:29:43.323Z"
   },
   {
    "duration": 31,
    "start_time": "2024-09-11T13:30:38.830Z"
   },
   {
    "duration": 36,
    "start_time": "2024-09-11T13:31:40.814Z"
   },
   {
    "duration": 1108,
    "start_time": "2024-09-11T13:37:11.487Z"
   },
   {
    "duration": 162,
    "start_time": "2024-09-11T13:37:12.597Z"
   },
   {
    "duration": 15,
    "start_time": "2024-09-11T13:37:12.761Z"
   },
   {
    "duration": 52,
    "start_time": "2024-09-11T13:37:12.778Z"
   },
   {
    "duration": 5,
    "start_time": "2024-09-11T13:37:12.832Z"
   },
   {
    "duration": 26,
    "start_time": "2024-09-11T13:37:12.838Z"
   },
   {
    "duration": 42,
    "start_time": "2024-09-11T13:37:12.866Z"
   },
   {
    "duration": 27,
    "start_time": "2024-09-11T13:37:12.910Z"
   },
   {
    "duration": 18,
    "start_time": "2024-09-11T13:37:12.938Z"
   },
   {
    "duration": 57,
    "start_time": "2024-09-11T13:37:12.957Z"
   },
   {
    "duration": 8,
    "start_time": "2024-09-11T13:37:13.016Z"
   },
   {
    "duration": 36,
    "start_time": "2024-09-11T13:37:13.026Z"
   },
   {
    "duration": 70,
    "start_time": "2024-09-11T13:37:13.064Z"
   },
   {
    "duration": 6,
    "start_time": "2024-09-11T13:37:13.137Z"
   },
   {
    "duration": 18,
    "start_time": "2024-09-11T13:37:13.145Z"
   },
   {
    "duration": 52,
    "start_time": "2024-09-11T13:37:13.165Z"
   },
   {
    "duration": 24,
    "start_time": "2024-09-11T13:37:13.219Z"
   },
   {
    "duration": 156,
    "start_time": "2024-09-11T13:37:13.245Z"
   },
   {
    "duration": 11,
    "start_time": "2024-09-11T13:37:13.403Z"
   },
   {
    "duration": 19,
    "start_time": "2024-09-11T13:37:13.416Z"
   },
   {
    "duration": 31,
    "start_time": "2024-09-11T13:37:13.437Z"
   },
   {
    "duration": 135,
    "start_time": "2024-09-11T13:37:13.469Z"
   },
   {
    "duration": 32,
    "start_time": "2024-09-11T13:38:17.622Z"
   },
   {
    "duration": 21,
    "start_time": "2024-09-11T14:32:11.535Z"
   },
   {
    "duration": 4,
    "start_time": "2024-09-11T14:38:24.651Z"
   },
   {
    "duration": 5,
    "start_time": "2024-09-11T14:38:29.690Z"
   },
   {
    "duration": 15,
    "start_time": "2024-09-11T14:38:39.864Z"
   },
   {
    "duration": 17,
    "start_time": "2024-09-11T14:43:30.154Z"
   },
   {
    "duration": 107,
    "start_time": "2024-09-11T14:43:55.276Z"
   },
   {
    "duration": 14,
    "start_time": "2024-09-11T14:44:06.834Z"
   },
   {
    "duration": 177,
    "start_time": "2024-09-11T14:46:16.075Z"
   },
   {
    "duration": 350,
    "start_time": "2024-09-11T14:46:31.294Z"
   },
   {
    "duration": 315,
    "start_time": "2024-09-11T14:46:43.577Z"
   },
   {
    "duration": 292,
    "start_time": "2024-09-11T14:48:34.273Z"
   },
   {
    "duration": 15,
    "start_time": "2024-09-11T14:48:50.394Z"
   },
   {
    "duration": 17,
    "start_time": "2024-09-11T14:49:09.905Z"
   },
   {
    "duration": 25,
    "start_time": "2024-09-11T14:50:01.143Z"
   },
   {
    "duration": 21,
    "start_time": "2024-09-11T14:50:13.215Z"
   },
   {
    "duration": 10,
    "start_time": "2024-09-11T14:50:27.084Z"
   },
   {
    "duration": 11,
    "start_time": "2024-09-11T14:51:01.310Z"
   },
   {
    "duration": 15,
    "start_time": "2024-09-11T14:51:10.665Z"
   },
   {
    "duration": 21,
    "start_time": "2024-09-11T14:51:51.264Z"
   },
   {
    "duration": 15,
    "start_time": "2024-09-11T14:52:08.349Z"
   },
   {
    "duration": 49,
    "start_time": "2024-09-11T17:53:10.053Z"
   },
   {
    "duration": 1204,
    "start_time": "2024-09-11T17:53:18.668Z"
   },
   {
    "duration": 285,
    "start_time": "2024-09-11T17:53:19.874Z"
   },
   {
    "duration": 16,
    "start_time": "2024-09-11T17:53:20.160Z"
   },
   {
    "duration": 72,
    "start_time": "2024-09-11T17:53:20.178Z"
   },
   {
    "duration": 20,
    "start_time": "2024-09-11T17:53:20.252Z"
   },
   {
    "duration": 13,
    "start_time": "2024-09-11T17:53:20.274Z"
   },
   {
    "duration": 11,
    "start_time": "2024-09-11T17:53:20.289Z"
   },
   {
    "duration": 11,
    "start_time": "2024-09-11T17:53:20.301Z"
   },
   {
    "duration": 4,
    "start_time": "2024-09-11T17:53:20.325Z"
   },
   {
    "duration": 9,
    "start_time": "2024-09-11T17:53:20.330Z"
   },
   {
    "duration": 25,
    "start_time": "2024-09-11T17:53:20.341Z"
   },
   {
    "duration": 24,
    "start_time": "2024-09-11T17:53:20.367Z"
   },
   {
    "duration": 26,
    "start_time": "2024-09-11T17:53:20.393Z"
   },
   {
    "duration": 34,
    "start_time": "2024-09-11T17:53:20.422Z"
   },
   {
    "duration": 16,
    "start_time": "2024-09-11T17:53:20.458Z"
   },
   {
    "duration": 321,
    "start_time": "2024-09-11T17:53:20.475Z"
   },
   {
    "duration": 14,
    "start_time": "2024-09-11T17:53:20.797Z"
   },
   {
    "duration": 168,
    "start_time": "2024-09-11T17:53:20.813Z"
   },
   {
    "duration": 288,
    "start_time": "2024-09-11T17:53:57.894Z"
   },
   {
    "duration": 100,
    "start_time": "2024-09-11T17:58:46.980Z"
   },
   {
    "duration": 12,
    "start_time": "2024-09-11T17:59:02.449Z"
   },
   {
    "duration": 15,
    "start_time": "2024-09-11T18:02:29.277Z"
   },
   {
    "duration": 17,
    "start_time": "2024-09-11T18:08:34.104Z"
   },
   {
    "duration": 315,
    "start_time": "2024-09-11T18:08:56.671Z"
   },
   {
    "duration": 264,
    "start_time": "2024-09-11T18:19:43.355Z"
   },
   {
    "duration": 6,
    "start_time": "2024-09-11T18:24:14.258Z"
   },
   {
    "duration": 14,
    "start_time": "2024-09-11T18:24:26.244Z"
   },
   {
    "duration": 21,
    "start_time": "2024-09-11T18:24:53.609Z"
   },
   {
    "duration": 16,
    "start_time": "2024-09-11T18:25:02.226Z"
   },
   {
    "duration": 14,
    "start_time": "2024-09-11T18:46:03.808Z"
   },
   {
    "duration": 296,
    "start_time": "2024-09-11T18:46:05.761Z"
   },
   {
    "duration": 1297,
    "start_time": "2024-09-11T20:13:39.955Z"
   },
   {
    "duration": 106,
    "start_time": "2024-09-11T20:16:51.444Z"
   },
   {
    "duration": 1199,
    "start_time": "2024-09-11T20:17:01.995Z"
   },
   {
    "duration": 245,
    "start_time": "2024-09-11T20:17:03.196Z"
   },
   {
    "duration": 14,
    "start_time": "2024-09-11T20:17:03.442Z"
   },
   {
    "duration": 28,
    "start_time": "2024-09-11T20:17:03.458Z"
   },
   {
    "duration": 25,
    "start_time": "2024-09-11T20:17:03.488Z"
   },
   {
    "duration": 14,
    "start_time": "2024-09-11T20:17:03.515Z"
   },
   {
    "duration": 15,
    "start_time": "2024-09-11T20:17:03.531Z"
   },
   {
    "duration": 8,
    "start_time": "2024-09-11T20:17:03.547Z"
   },
   {
    "duration": 4,
    "start_time": "2024-09-11T20:17:03.557Z"
   },
   {
    "duration": 4,
    "start_time": "2024-09-11T20:17:03.563Z"
   },
   {
    "duration": 36,
    "start_time": "2024-09-11T20:17:03.569Z"
   },
   {
    "duration": 26,
    "start_time": "2024-09-11T20:17:03.607Z"
   },
   {
    "duration": 29,
    "start_time": "2024-09-11T20:17:03.635Z"
   },
   {
    "duration": 52,
    "start_time": "2024-09-11T20:17:03.668Z"
   },
   {
    "duration": 17,
    "start_time": "2024-09-11T20:17:03.722Z"
   },
   {
    "duration": 357,
    "start_time": "2024-09-11T20:17:03.741Z"
   },
   {
    "duration": 16,
    "start_time": "2024-09-11T20:17:04.100Z"
   },
   {
    "duration": 18,
    "start_time": "2024-09-11T20:17:04.118Z"
   },
   {
    "duration": 316,
    "start_time": "2024-09-11T20:17:04.138Z"
   },
   {
    "duration": 13,
    "start_time": "2024-09-11T20:17:04.455Z"
   },
   {
    "duration": 20,
    "start_time": "2024-09-11T20:17:04.470Z"
   },
   {
    "duration": 15,
    "start_time": "2024-09-11T20:17:04.491Z"
   },
   {
    "duration": 304,
    "start_time": "2024-09-11T20:17:04.507Z"
   },
   {
    "duration": 299,
    "start_time": "2024-09-11T20:17:04.813Z"
   },
   {
    "duration": 290,
    "start_time": "2024-09-11T20:30:54.787Z"
   },
   {
    "duration": 386,
    "start_time": "2024-09-11T20:31:10.230Z"
   },
   {
    "duration": 318,
    "start_time": "2024-09-11T20:38:26.464Z"
   },
   {
    "duration": 325,
    "start_time": "2024-09-11T20:39:02.715Z"
   },
   {
    "duration": 53,
    "start_time": "2024-09-12T06:18:55.657Z"
   },
   {
    "duration": 1293,
    "start_time": "2024-09-12T06:19:04.499Z"
   },
   {
    "duration": 218,
    "start_time": "2024-09-12T06:19:05.794Z"
   },
   {
    "duration": 14,
    "start_time": "2024-09-12T06:19:06.013Z"
   },
   {
    "duration": 69,
    "start_time": "2024-09-12T06:19:06.029Z"
   },
   {
    "duration": 48,
    "start_time": "2024-09-12T06:19:06.100Z"
   },
   {
    "duration": 14,
    "start_time": "2024-09-12T06:19:06.150Z"
   },
   {
    "duration": 60,
    "start_time": "2024-09-12T06:19:06.165Z"
   },
   {
    "duration": 31,
    "start_time": "2024-09-12T06:19:06.226Z"
   },
   {
    "duration": 31,
    "start_time": "2024-09-12T06:19:06.259Z"
   },
   {
    "duration": 34,
    "start_time": "2024-09-12T06:19:06.292Z"
   },
   {
    "duration": 12,
    "start_time": "2024-09-12T06:19:06.327Z"
   },
   {
    "duration": 24,
    "start_time": "2024-09-12T06:19:06.341Z"
   },
   {
    "duration": 25,
    "start_time": "2024-09-12T06:19:06.366Z"
   },
   {
    "duration": 31,
    "start_time": "2024-09-12T06:19:06.394Z"
   },
   {
    "duration": 72,
    "start_time": "2024-09-12T06:19:06.426Z"
   },
   {
    "duration": 347,
    "start_time": "2024-09-12T06:19:06.500Z"
   },
   {
    "duration": 14,
    "start_time": "2024-09-12T06:19:06.849Z"
   },
   {
    "duration": 31,
    "start_time": "2024-09-12T06:19:06.864Z"
   },
   {
    "duration": 297,
    "start_time": "2024-09-12T06:19:06.897Z"
   },
   {
    "duration": 13,
    "start_time": "2024-09-12T06:19:07.196Z"
   },
   {
    "duration": 30,
    "start_time": "2024-09-12T06:19:07.210Z"
   },
   {
    "duration": 12,
    "start_time": "2024-09-12T06:19:07.241Z"
   },
   {
    "duration": 280,
    "start_time": "2024-09-12T06:19:07.255Z"
   },
   {
    "duration": 292,
    "start_time": "2024-09-12T06:19:07.537Z"
   },
   {
    "duration": 111,
    "start_time": "2024-09-12T06:28:56.427Z"
   },
   {
    "duration": 22,
    "start_time": "2024-09-12T06:30:52.096Z"
   },
   {
    "duration": 19,
    "start_time": "2024-09-12T06:32:22.229Z"
   },
   {
    "duration": 222,
    "start_time": "2024-09-12T06:32:39.007Z"
   },
   {
    "duration": 144,
    "start_time": "2024-09-12T06:33:40.478Z"
   },
   {
    "duration": 141,
    "start_time": "2024-09-12T06:34:10.311Z"
   },
   {
    "duration": 142,
    "start_time": "2024-09-12T06:34:22.178Z"
   },
   {
    "duration": 136,
    "start_time": "2024-09-12T06:34:29.062Z"
   },
   {
    "duration": 143,
    "start_time": "2024-09-12T06:34:38.859Z"
   },
   {
    "duration": 285,
    "start_time": "2024-09-12T06:36:42.696Z"
   },
   {
    "duration": 299,
    "start_time": "2024-09-12T06:37:59.030Z"
   },
   {
    "duration": 292,
    "start_time": "2024-09-12T06:38:41.887Z"
   },
   {
    "duration": 21,
    "start_time": "2024-09-12T06:42:13.262Z"
   },
   {
    "duration": 26,
    "start_time": "2024-09-12T06:54:29.871Z"
   },
   {
    "duration": 22,
    "start_time": "2024-09-12T06:55:54.355Z"
   },
   {
    "duration": 30,
    "start_time": "2024-09-12T06:56:30.207Z"
   },
   {
    "duration": 26,
    "start_time": "2024-09-12T06:56:59.240Z"
   },
   {
    "duration": 14,
    "start_time": "2024-09-12T07:49:22.763Z"
   },
   {
    "duration": 14,
    "start_time": "2024-09-12T07:50:28.469Z"
   },
   {
    "duration": 33,
    "start_time": "2024-09-12T07:51:52.840Z"
   },
   {
    "duration": 13,
    "start_time": "2024-09-12T07:54:45.307Z"
   },
   {
    "duration": 13,
    "start_time": "2024-09-12T07:54:46.512Z"
   },
   {
    "duration": 12,
    "start_time": "2024-09-12T07:54:52.383Z"
   },
   {
    "duration": 14,
    "start_time": "2024-09-12T07:56:19.722Z"
   },
   {
    "duration": 276,
    "start_time": "2024-09-12T08:17:40.487Z"
   },
   {
    "duration": 547,
    "start_time": "2024-09-12T08:19:35.776Z"
   },
   {
    "duration": 442,
    "start_time": "2024-09-12T08:21:38.021Z"
   },
   {
    "duration": 27,
    "start_time": "2024-09-12T08:24:51.555Z"
   },
   {
    "duration": 44,
    "start_time": "2024-09-12T08:30:18.489Z"
   },
   {
    "duration": 24,
    "start_time": "2024-09-12T08:30:57.045Z"
   },
   {
    "duration": 448,
    "start_time": "2024-09-12T08:33:45.749Z"
   },
   {
    "duration": 10,
    "start_time": "2024-09-12T08:48:32.310Z"
   },
   {
    "duration": 11,
    "start_time": "2024-09-12T08:48:42.741Z"
   },
   {
    "duration": 14,
    "start_time": "2024-09-12T08:48:57.882Z"
   },
   {
    "duration": 14,
    "start_time": "2024-09-12T08:50:07.495Z"
   },
   {
    "duration": 108,
    "start_time": "2024-09-12T08:52:24.381Z"
   },
   {
    "duration": 102,
    "start_time": "2024-09-12T08:52:36.862Z"
   },
   {
    "duration": 104,
    "start_time": "2024-09-12T08:53:41.948Z"
   },
   {
    "duration": 211,
    "start_time": "2024-09-12T08:53:53.656Z"
   },
   {
    "duration": 203,
    "start_time": "2024-09-12T08:56:04.586Z"
   },
   {
    "duration": 546,
    "start_time": "2024-09-12T08:56:35.019Z"
   },
   {
    "duration": 13,
    "start_time": "2024-09-12T08:57:28.850Z"
   },
   {
    "duration": 15,
    "start_time": "2024-09-12T08:57:36.213Z"
   },
   {
    "duration": 433,
    "start_time": "2024-09-12T08:57:39.681Z"
   },
   {
    "duration": 10,
    "start_time": "2024-09-12T09:01:15.666Z"
   },
   {
    "duration": 23,
    "start_time": "2024-09-12T09:19:30.432Z"
   },
   {
    "duration": 17,
    "start_time": "2024-09-12T09:20:29.526Z"
   },
   {
    "duration": 12,
    "start_time": "2024-09-12T09:21:44.091Z"
   },
   {
    "duration": 14,
    "start_time": "2024-09-12T09:22:50.013Z"
   },
   {
    "duration": 12,
    "start_time": "2024-09-12T09:39:14.469Z"
   },
   {
    "duration": 11,
    "start_time": "2024-09-12T09:39:44.721Z"
   },
   {
    "duration": 13,
    "start_time": "2024-09-12T09:40:30.702Z"
   },
   {
    "duration": 14,
    "start_time": "2024-09-12T09:40:52.278Z"
   },
   {
    "duration": 12,
    "start_time": "2024-09-12T09:41:02.211Z"
   },
   {
    "duration": 10,
    "start_time": "2024-09-12T09:58:39.066Z"
   },
   {
    "duration": 16,
    "start_time": "2024-09-12T10:08:31.303Z"
   },
   {
    "duration": 1060,
    "start_time": "2024-09-12T10:56:34.540Z"
   },
   {
    "duration": 70,
    "start_time": "2024-09-12T10:56:35.601Z"
   },
   {
    "duration": 14,
    "start_time": "2024-09-12T10:56:35.672Z"
   },
   {
    "duration": 14,
    "start_time": "2024-09-12T10:56:35.687Z"
   },
   {
    "duration": 39,
    "start_time": "2024-09-12T10:56:35.703Z"
   },
   {
    "duration": 17,
    "start_time": "2024-09-12T10:56:35.743Z"
   },
   {
    "duration": 20,
    "start_time": "2024-09-12T10:56:35.761Z"
   },
   {
    "duration": 9,
    "start_time": "2024-09-12T10:56:35.782Z"
   },
   {
    "duration": 8,
    "start_time": "2024-09-12T10:56:35.792Z"
   },
   {
    "duration": 19,
    "start_time": "2024-09-12T10:56:35.801Z"
   },
   {
    "duration": 10,
    "start_time": "2024-09-12T10:56:35.821Z"
   },
   {
    "duration": 22,
    "start_time": "2024-09-12T10:56:35.832Z"
   },
   {
    "duration": 26,
    "start_time": "2024-09-12T10:56:35.855Z"
   },
   {
    "duration": 27,
    "start_time": "2024-09-12T10:56:35.884Z"
   },
   {
    "duration": 14,
    "start_time": "2024-09-12T10:56:35.912Z"
   },
   {
    "duration": 351,
    "start_time": "2024-09-12T10:56:35.928Z"
   },
   {
    "duration": 18,
    "start_time": "2024-09-12T10:56:36.280Z"
   },
   {
    "duration": 51,
    "start_time": "2024-09-12T10:56:36.299Z"
   },
   {
    "duration": 343,
    "start_time": "2024-09-12T10:56:36.351Z"
   },
   {
    "duration": 12,
    "start_time": "2024-09-12T10:56:36.696Z"
   },
   {
    "duration": 38,
    "start_time": "2024-09-12T10:56:36.709Z"
   },
   {
    "duration": 12,
    "start_time": "2024-09-12T10:56:36.749Z"
   },
   {
    "duration": 259,
    "start_time": "2024-09-12T10:56:36.762Z"
   },
   {
    "duration": 292,
    "start_time": "2024-09-12T10:56:37.022Z"
   },
   {
    "duration": 312,
    "start_time": "2024-09-12T10:56:37.316Z"
   },
   {
    "duration": 19,
    "start_time": "2024-09-12T10:56:37.629Z"
   },
   {
    "duration": 41,
    "start_time": "2024-09-12T10:56:37.649Z"
   },
   {
    "duration": 26,
    "start_time": "2024-09-12T10:56:37.692Z"
   },
   {
    "duration": 538,
    "start_time": "2024-09-12T10:56:37.719Z"
   },
   {
    "duration": 34,
    "start_time": "2024-09-12T10:56:38.259Z"
   },
   {
    "duration": 402,
    "start_time": "2024-09-12T10:56:38.295Z"
   },
   {
    "duration": 16,
    "start_time": "2024-09-12T10:56:38.699Z"
   },
   {
    "duration": 446,
    "start_time": "2024-09-12T10:56:38.716Z"
   },
   {
    "duration": 10,
    "start_time": "2024-09-12T10:56:39.164Z"
   },
   {
    "duration": 21,
    "start_time": "2024-09-12T10:56:39.175Z"
   },
   {
    "duration": 30,
    "start_time": "2024-09-12T10:56:39.197Z"
   },
   {
    "duration": 325,
    "start_time": "2024-09-12T10:58:25.419Z"
   },
   {
    "duration": 93,
    "start_time": "2024-09-12T10:58:51.382Z"
   },
   {
    "duration": 328,
    "start_time": "2024-09-12T10:59:33.782Z"
   },
   {
    "duration": 6,
    "start_time": "2024-09-12T10:59:36.523Z"
   },
   {
    "duration": 316,
    "start_time": "2024-09-12T11:02:27.606Z"
   },
   {
    "duration": 7,
    "start_time": "2024-09-12T11:02:37.836Z"
   },
   {
    "duration": 7,
    "start_time": "2024-09-12T11:02:49.868Z"
   },
   {
    "duration": 394,
    "start_time": "2024-09-12T11:03:35.250Z"
   },
   {
    "duration": 321,
    "start_time": "2024-09-12T11:03:46.977Z"
   },
   {
    "duration": 319,
    "start_time": "2024-09-12T11:04:15.748Z"
   },
   {
    "duration": 354,
    "start_time": "2024-09-12T11:04:42.531Z"
   },
   {
    "duration": 352,
    "start_time": "2024-09-12T11:04:52.316Z"
   },
   {
    "duration": 426,
    "start_time": "2024-09-12T11:04:58.985Z"
   },
   {
    "duration": 138,
    "start_time": "2024-09-12T11:18:10.859Z"
   },
   {
    "duration": 134,
    "start_time": "2024-09-12T11:18:48.182Z"
   },
   {
    "duration": 136,
    "start_time": "2024-09-12T11:19:06.229Z"
   },
   {
    "duration": 41,
    "start_time": "2024-09-12T11:31:01.175Z"
   },
   {
    "duration": 41,
    "start_time": "2024-09-12T11:31:25.330Z"
   },
   {
    "duration": 108,
    "start_time": "2024-09-12T11:47:55.987Z"
   },
   {
    "duration": 144,
    "start_time": "2024-09-12T11:48:11.455Z"
   },
   {
    "duration": 178,
    "start_time": "2024-09-12T11:49:04.578Z"
   },
   {
    "duration": 166,
    "start_time": "2024-09-12T11:50:56.334Z"
   },
   {
    "duration": 1073,
    "start_time": "2024-09-12T13:00:34.343Z"
   },
   {
    "duration": 67,
    "start_time": "2024-09-12T13:00:35.418Z"
   },
   {
    "duration": 14,
    "start_time": "2024-09-12T13:00:35.487Z"
   },
   {
    "duration": 37,
    "start_time": "2024-09-12T13:00:35.502Z"
   },
   {
    "duration": 33,
    "start_time": "2024-09-12T13:00:35.541Z"
   },
   {
    "duration": 14,
    "start_time": "2024-09-12T13:00:35.576Z"
   },
   {
    "duration": 11,
    "start_time": "2024-09-12T13:00:35.591Z"
   },
   {
    "duration": 11,
    "start_time": "2024-09-12T13:00:35.603Z"
   },
   {
    "duration": 23,
    "start_time": "2024-09-12T13:00:35.615Z"
   },
   {
    "duration": 12,
    "start_time": "2024-09-12T13:00:35.639Z"
   },
   {
    "duration": 7,
    "start_time": "2024-09-12T13:00:35.653Z"
   },
   {
    "duration": 28,
    "start_time": "2024-09-12T13:00:35.661Z"
   },
   {
    "duration": 75,
    "start_time": "2024-09-12T13:00:35.691Z"
   },
   {
    "duration": 27,
    "start_time": "2024-09-12T13:00:35.769Z"
   },
   {
    "duration": 38,
    "start_time": "2024-09-12T13:00:35.798Z"
   },
   {
    "duration": 354,
    "start_time": "2024-09-12T13:00:35.837Z"
   },
   {
    "duration": 7,
    "start_time": "2024-09-12T13:00:36.193Z"
   },
   {
    "duration": 32,
    "start_time": "2024-09-12T13:00:36.201Z"
   },
   {
    "duration": 283,
    "start_time": "2024-09-12T13:00:36.235Z"
   },
   {
    "duration": 11,
    "start_time": "2024-09-12T13:00:36.520Z"
   },
   {
    "duration": 49,
    "start_time": "2024-09-12T13:00:36.533Z"
   },
   {
    "duration": 13,
    "start_time": "2024-09-12T13:00:36.583Z"
   },
   {
    "duration": 295,
    "start_time": "2024-09-12T13:00:36.598Z"
   },
   {
    "duration": 288,
    "start_time": "2024-09-12T13:00:36.895Z"
   },
   {
    "duration": 312,
    "start_time": "2024-09-12T13:00:37.189Z"
   },
   {
    "duration": 17,
    "start_time": "2024-09-12T13:00:37.503Z"
   },
   {
    "duration": 37,
    "start_time": "2024-09-12T13:00:37.522Z"
   },
   {
    "duration": 45,
    "start_time": "2024-09-12T13:00:37.561Z"
   },
   {
    "duration": 185,
    "start_time": "2024-09-12T13:00:37.607Z"
   },
   {
    "duration": 23,
    "start_time": "2024-09-12T13:00:37.793Z"
   },
   {
    "duration": 478,
    "start_time": "2024-09-12T13:00:37.818Z"
   },
   {
    "duration": 24,
    "start_time": "2024-09-12T13:00:38.297Z"
   },
   {
    "duration": 440,
    "start_time": "2024-09-12T13:00:38.322Z"
   },
   {
    "duration": 27,
    "start_time": "2024-09-12T13:00:38.763Z"
   },
   {
    "duration": 455,
    "start_time": "2024-09-12T13:00:38.792Z"
   },
   {
    "duration": 9,
    "start_time": "2024-09-12T13:00:39.249Z"
   },
   {
    "duration": 23,
    "start_time": "2024-09-12T13:00:39.259Z"
   },
   {
    "duration": 12,
    "start_time": "2024-09-12T13:00:39.289Z"
   },
   {
    "duration": 1101,
    "start_time": "2024-09-13T08:24:10.710Z"
   },
   {
    "duration": 68,
    "start_time": "2024-09-13T08:24:11.812Z"
   },
   {
    "duration": 13,
    "start_time": "2024-09-13T08:24:11.881Z"
   },
   {
    "duration": 55,
    "start_time": "2024-09-13T08:24:11.896Z"
   },
   {
    "duration": 16,
    "start_time": "2024-09-13T08:24:11.953Z"
   },
   {
    "duration": 17,
    "start_time": "2024-09-13T08:24:11.971Z"
   },
   {
    "duration": 18,
    "start_time": "2024-09-13T08:24:11.989Z"
   },
   {
    "duration": 13,
    "start_time": "2024-09-13T08:24:12.008Z"
   },
   {
    "duration": 5,
    "start_time": "2024-09-13T08:24:12.022Z"
   },
   {
    "duration": 9,
    "start_time": "2024-09-13T08:24:12.030Z"
   },
   {
    "duration": 20,
    "start_time": "2024-09-13T08:24:12.041Z"
   },
   {
    "duration": 34,
    "start_time": "2024-09-13T08:24:12.062Z"
   },
   {
    "duration": 24,
    "start_time": "2024-09-13T08:24:12.097Z"
   },
   {
    "duration": 30,
    "start_time": "2024-09-13T08:24:12.122Z"
   },
   {
    "duration": 14,
    "start_time": "2024-09-13T08:24:12.154Z"
   },
   {
    "duration": 340,
    "start_time": "2024-09-13T08:24:12.170Z"
   },
   {
    "duration": 6,
    "start_time": "2024-09-13T08:24:12.512Z"
   },
   {
    "duration": 92,
    "start_time": "2024-09-13T08:24:12.519Z"
   },
   {
    "duration": 250,
    "start_time": "2024-09-13T08:24:12.615Z"
   },
   {
    "duration": 11,
    "start_time": "2024-09-13T08:24:12.867Z"
   },
   {
    "duration": 30,
    "start_time": "2024-09-13T08:24:12.879Z"
   },
   {
    "duration": 17,
    "start_time": "2024-09-13T08:24:12.911Z"
   },
   {
    "duration": 244,
    "start_time": "2024-09-13T08:24:12.930Z"
   },
   {
    "duration": 290,
    "start_time": "2024-09-13T08:24:13.176Z"
   },
   {
    "duration": 273,
    "start_time": "2024-09-13T08:24:13.468Z"
   },
   {
    "duration": 16,
    "start_time": "2024-09-13T08:24:13.743Z"
   },
   {
    "duration": 88,
    "start_time": "2024-09-13T08:24:13.761Z"
   },
   {
    "duration": 21,
    "start_time": "2024-09-13T08:24:13.852Z"
   },
   {
    "duration": 176,
    "start_time": "2024-09-13T08:24:13.874Z"
   },
   {
    "duration": 22,
    "start_time": "2024-09-13T08:24:14.052Z"
   },
   {
    "duration": 489,
    "start_time": "2024-09-13T08:24:14.076Z"
   },
   {
    "duration": 22,
    "start_time": "2024-09-13T08:24:14.566Z"
   },
   {
    "duration": 483,
    "start_time": "2024-09-13T08:24:14.589Z"
   },
   {
    "duration": 19,
    "start_time": "2024-09-13T08:24:15.074Z"
   },
   {
    "duration": 470,
    "start_time": "2024-09-13T08:24:15.094Z"
   },
   {
    "duration": 9,
    "start_time": "2024-09-13T08:24:15.566Z"
   },
   {
    "duration": 21,
    "start_time": "2024-09-13T08:24:15.576Z"
   },
   {
    "duration": 35,
    "start_time": "2024-09-13T08:24:15.598Z"
   },
   {
    "duration": 1094,
    "start_time": "2024-09-13T08:55:17.399Z"
   },
   {
    "duration": 75,
    "start_time": "2024-09-13T08:55:18.495Z"
   },
   {
    "duration": 11,
    "start_time": "2024-09-13T08:55:18.571Z"
   },
   {
    "duration": 66,
    "start_time": "2024-09-13T08:55:18.584Z"
   },
   {
    "duration": 20,
    "start_time": "2024-09-13T08:55:18.653Z"
   },
   {
    "duration": 12,
    "start_time": "2024-09-13T08:55:18.675Z"
   },
   {
    "duration": 17,
    "start_time": "2024-09-13T08:55:18.689Z"
   },
   {
    "duration": 20,
    "start_time": "2024-09-13T08:55:18.708Z"
   },
   {
    "duration": 3,
    "start_time": "2024-09-13T08:55:18.729Z"
   },
   {
    "duration": 7,
    "start_time": "2024-09-13T08:55:18.734Z"
   },
   {
    "duration": 9,
    "start_time": "2024-09-13T08:55:18.742Z"
   },
   {
    "duration": 31,
    "start_time": "2024-09-13T08:55:18.752Z"
   },
   {
    "duration": 22,
    "start_time": "2024-09-13T08:55:18.785Z"
   },
   {
    "duration": 95,
    "start_time": "2024-09-13T08:55:18.810Z"
   },
   {
    "duration": 18,
    "start_time": "2024-09-13T08:55:18.906Z"
   },
   {
    "duration": 334,
    "start_time": "2024-09-13T08:55:18.925Z"
   },
   {
    "duration": 6,
    "start_time": "2024-09-13T08:55:19.261Z"
   },
   {
    "duration": 18,
    "start_time": "2024-09-13T08:55:19.268Z"
   },
   {
    "duration": 251,
    "start_time": "2024-09-13T08:55:19.287Z"
   },
   {
    "duration": 11,
    "start_time": "2024-09-13T08:55:19.539Z"
   },
   {
    "duration": 41,
    "start_time": "2024-09-13T08:55:19.551Z"
   },
   {
    "duration": 26,
    "start_time": "2024-09-13T08:55:19.594Z"
   },
   {
    "duration": 251,
    "start_time": "2024-09-13T08:55:19.621Z"
   },
   {
    "duration": 272,
    "start_time": "2024-09-13T08:55:19.875Z"
   },
   {
    "duration": 304,
    "start_time": "2024-09-13T08:55:20.149Z"
   },
   {
    "duration": 16,
    "start_time": "2024-09-13T08:55:20.454Z"
   },
   {
    "duration": 57,
    "start_time": "2024-09-13T08:55:20.471Z"
   },
   {
    "duration": 20,
    "start_time": "2024-09-13T08:55:20.530Z"
   },
   {
    "duration": 168,
    "start_time": "2024-09-13T08:55:20.551Z"
   },
   {
    "duration": 21,
    "start_time": "2024-09-13T08:55:20.720Z"
   },
   {
    "duration": 543,
    "start_time": "2024-09-13T08:55:20.743Z"
   },
   {
    "duration": 32,
    "start_time": "2024-09-13T08:55:21.287Z"
   },
   {
    "duration": 386,
    "start_time": "2024-09-13T08:55:21.321Z"
   },
   {
    "duration": 19,
    "start_time": "2024-09-13T08:55:21.708Z"
   },
   {
    "duration": 507,
    "start_time": "2024-09-13T08:55:21.729Z"
   },
   {
    "duration": 13,
    "start_time": "2024-09-13T08:55:22.238Z"
   },
   {
    "duration": 54,
    "start_time": "2024-09-13T08:55:22.253Z"
   },
   {
    "duration": 15,
    "start_time": "2024-09-13T08:55:22.309Z"
   },
   {
    "duration": 51,
    "start_time": "2024-09-13T10:12:22.661Z"
   },
   {
    "duration": 7,
    "start_time": "2024-09-13T10:15:03.362Z"
   },
   {
    "duration": 1271,
    "start_time": "2024-09-13T10:15:11.469Z"
   },
   {
    "duration": 255,
    "start_time": "2024-09-13T10:15:12.742Z"
   },
   {
    "duration": 15,
    "start_time": "2024-09-13T10:15:12.998Z"
   },
   {
    "duration": 32,
    "start_time": "2024-09-13T10:15:13.015Z"
   },
   {
    "duration": 26,
    "start_time": "2024-09-13T10:15:13.049Z"
   },
   {
    "duration": 14,
    "start_time": "2024-09-13T10:15:13.076Z"
   },
   {
    "duration": 20,
    "start_time": "2024-09-13T10:15:13.091Z"
   },
   {
    "duration": 12,
    "start_time": "2024-09-13T10:15:13.113Z"
   },
   {
    "duration": 26,
    "start_time": "2024-09-13T10:15:13.126Z"
   },
   {
    "duration": 4,
    "start_time": "2024-09-13T10:15:13.155Z"
   },
   {
    "duration": 26,
    "start_time": "2024-09-13T10:15:13.160Z"
   },
   {
    "duration": 22,
    "start_time": "2024-09-13T10:15:13.188Z"
   },
   {
    "duration": 29,
    "start_time": "2024-09-13T10:15:13.211Z"
   },
   {
    "duration": 35,
    "start_time": "2024-09-13T10:15:13.241Z"
   },
   {
    "duration": 16,
    "start_time": "2024-09-13T10:15:13.277Z"
   },
   {
    "duration": 407,
    "start_time": "2024-09-13T10:15:13.294Z"
   },
   {
    "duration": 8,
    "start_time": "2024-09-13T10:15:13.703Z"
   },
   {
    "duration": 29,
    "start_time": "2024-09-13T10:15:13.713Z"
   },
   {
    "duration": 273,
    "start_time": "2024-09-13T10:15:13.743Z"
   },
   {
    "duration": 12,
    "start_time": "2024-09-13T10:15:14.017Z"
   },
   {
    "duration": 25,
    "start_time": "2024-09-13T10:15:14.031Z"
   },
   {
    "duration": 13,
    "start_time": "2024-09-13T10:15:14.057Z"
   },
   {
    "duration": 291,
    "start_time": "2024-09-13T10:15:14.071Z"
   },
   {
    "duration": 308,
    "start_time": "2024-09-13T10:15:14.364Z"
   },
   {
    "duration": 328,
    "start_time": "2024-09-13T10:15:14.673Z"
   },
   {
    "duration": 20,
    "start_time": "2024-09-13T10:15:15.002Z"
   },
   {
    "duration": 140,
    "start_time": "2024-09-13T10:15:15.023Z"
   },
   {
    "duration": 62,
    "start_time": "2024-09-13T10:15:15.168Z"
   },
   {
    "duration": 768,
    "start_time": "2024-09-13T10:15:15.232Z"
   },
   {
    "duration": 0,
    "start_time": "2024-09-13T10:15:16.003Z"
   },
   {
    "duration": 0,
    "start_time": "2024-09-13T10:15:16.004Z"
   },
   {
    "duration": 0,
    "start_time": "2024-09-13T10:15:16.006Z"
   },
   {
    "duration": 0,
    "start_time": "2024-09-13T10:15:16.007Z"
   },
   {
    "duration": 0,
    "start_time": "2024-09-13T10:15:16.009Z"
   },
   {
    "duration": 0,
    "start_time": "2024-09-13T10:15:16.010Z"
   },
   {
    "duration": 0,
    "start_time": "2024-09-13T10:15:16.012Z"
   },
   {
    "duration": 0,
    "start_time": "2024-09-13T10:15:16.013Z"
   },
   {
    "duration": 0,
    "start_time": "2024-09-13T10:15:16.015Z"
   },
   {
    "duration": 142,
    "start_time": "2024-09-13T10:16:17.040Z"
   },
   {
    "duration": 248,
    "start_time": "2024-09-13T10:16:32.048Z"
   },
   {
    "duration": 1120,
    "start_time": "2024-09-13T10:17:17.629Z"
   },
   {
    "duration": 74,
    "start_time": "2024-09-13T10:17:18.750Z"
   },
   {
    "duration": 15,
    "start_time": "2024-09-13T10:17:18.826Z"
   },
   {
    "duration": 20,
    "start_time": "2024-09-13T10:17:18.842Z"
   },
   {
    "duration": 37,
    "start_time": "2024-09-13T10:17:18.864Z"
   },
   {
    "duration": 17,
    "start_time": "2024-09-13T10:17:18.903Z"
   },
   {
    "duration": 36,
    "start_time": "2024-09-13T10:17:18.921Z"
   },
   {
    "duration": 11,
    "start_time": "2024-09-13T10:17:18.959Z"
   },
   {
    "duration": 6,
    "start_time": "2024-09-13T10:17:18.971Z"
   },
   {
    "duration": 30,
    "start_time": "2024-09-13T10:17:18.979Z"
   },
   {
    "duration": 19,
    "start_time": "2024-09-13T10:17:19.010Z"
   },
   {
    "duration": 31,
    "start_time": "2024-09-13T10:17:19.030Z"
   },
   {
    "duration": 34,
    "start_time": "2024-09-13T10:17:19.063Z"
   },
   {
    "duration": 29,
    "start_time": "2024-09-13T10:17:19.099Z"
   },
   {
    "duration": 16,
    "start_time": "2024-09-13T10:17:19.129Z"
   },
   {
    "duration": 389,
    "start_time": "2024-09-13T10:17:19.146Z"
   },
   {
    "duration": 8,
    "start_time": "2024-09-13T10:17:19.536Z"
   },
   {
    "duration": 28,
    "start_time": "2024-09-13T10:17:19.545Z"
   },
   {
    "duration": 281,
    "start_time": "2024-09-13T10:17:19.574Z"
   },
   {
    "duration": 14,
    "start_time": "2024-09-13T10:17:19.857Z"
   },
   {
    "duration": 17,
    "start_time": "2024-09-13T10:17:19.872Z"
   },
   {
    "duration": 27,
    "start_time": "2024-09-13T10:17:19.890Z"
   },
   {
    "duration": 292,
    "start_time": "2024-09-13T10:17:19.918Z"
   },
   {
    "duration": 311,
    "start_time": "2024-09-13T10:17:20.212Z"
   },
   {
    "duration": 331,
    "start_time": "2024-09-13T10:17:20.525Z"
   },
   {
    "duration": 20,
    "start_time": "2024-09-13T10:17:20.858Z"
   },
   {
    "duration": 64,
    "start_time": "2024-09-13T10:17:20.880Z"
   },
   {
    "duration": 26,
    "start_time": "2024-09-13T10:17:20.948Z"
   },
   {
    "duration": 194,
    "start_time": "2024-09-13T10:17:20.976Z"
   },
   {
    "duration": 114,
    "start_time": "2024-09-13T10:17:21.172Z"
   },
   {
    "duration": 439,
    "start_time": "2024-09-13T10:17:21.288Z"
   },
   {
    "duration": 28,
    "start_time": "2024-09-13T10:17:21.728Z"
   },
   {
    "duration": 449,
    "start_time": "2024-09-13T10:17:21.758Z"
   },
   {
    "duration": 17,
    "start_time": "2024-09-13T10:17:22.209Z"
   },
   {
    "duration": 468,
    "start_time": "2024-09-13T10:17:22.228Z"
   },
   {
    "duration": 16,
    "start_time": "2024-09-13T10:17:22.698Z"
   },
   {
    "duration": 24,
    "start_time": "2024-09-13T10:17:22.716Z"
   },
   {
    "duration": 25,
    "start_time": "2024-09-13T10:17:22.742Z"
   },
   {
    "duration": 188,
    "start_time": "2024-09-13T10:20:43.437Z"
   },
   {
    "duration": 25,
    "start_time": "2024-09-13T11:03:18.812Z"
   },
   {
    "duration": 28,
    "start_time": "2024-09-13T11:04:27.933Z"
   },
   {
    "duration": 16,
    "start_time": "2024-09-13T11:16:28.037Z"
   },
   {
    "duration": 818,
    "start_time": "2024-09-13T11:24:24.235Z"
   },
   {
    "duration": 5,
    "start_time": "2024-09-13T11:25:21.971Z"
   },
   {
    "duration": 17,
    "start_time": "2024-09-13T11:26:11.403Z"
   },
   {
    "duration": 25,
    "start_time": "2024-09-13T11:28:40.687Z"
   },
   {
    "duration": 22,
    "start_time": "2024-09-13T11:29:04.132Z"
   },
   {
    "duration": 24,
    "start_time": "2024-09-13T11:29:15.169Z"
   },
   {
    "duration": 9,
    "start_time": "2024-09-13T11:29:22.083Z"
   },
   {
    "duration": 21,
    "start_time": "2024-09-13T11:29:27.016Z"
   },
   {
    "duration": 7,
    "start_time": "2024-09-13T11:30:36.055Z"
   },
   {
    "duration": 7,
    "start_time": "2024-09-13T11:30:42.812Z"
   },
   {
    "duration": 288,
    "start_time": "2024-09-13T11:32:53.528Z"
   },
   {
    "duration": 12,
    "start_time": "2024-09-13T11:33:09.280Z"
   },
   {
    "duration": 306,
    "start_time": "2024-09-13T11:36:19.667Z"
   },
   {
    "duration": 386,
    "start_time": "2024-09-13T11:36:43.623Z"
   },
   {
    "duration": 290,
    "start_time": "2024-09-13T11:36:53.819Z"
   },
   {
    "duration": 1206,
    "start_time": "2024-09-14T07:22:22.488Z"
   },
   {
    "duration": 216,
    "start_time": "2024-09-14T07:22:23.696Z"
   },
   {
    "duration": 14,
    "start_time": "2024-09-14T07:22:23.914Z"
   },
   {
    "duration": 95,
    "start_time": "2024-09-14T07:22:23.930Z"
   },
   {
    "duration": 22,
    "start_time": "2024-09-14T07:22:24.028Z"
   },
   {
    "duration": 20,
    "start_time": "2024-09-14T07:22:24.052Z"
   },
   {
    "duration": 26,
    "start_time": "2024-09-14T07:22:24.073Z"
   },
   {
    "duration": 10,
    "start_time": "2024-09-14T07:22:24.101Z"
   },
   {
    "duration": 17,
    "start_time": "2024-09-14T07:22:24.112Z"
   },
   {
    "duration": 6,
    "start_time": "2024-09-14T07:22:24.132Z"
   },
   {
    "duration": 13,
    "start_time": "2024-09-14T07:22:24.139Z"
   },
   {
    "duration": 31,
    "start_time": "2024-09-14T07:22:24.154Z"
   },
   {
    "duration": 27,
    "start_time": "2024-09-14T07:22:24.188Z"
   },
   {
    "duration": 29,
    "start_time": "2024-09-14T07:22:24.217Z"
   },
   {
    "duration": 36,
    "start_time": "2024-09-14T07:22:24.248Z"
   },
   {
    "duration": 416,
    "start_time": "2024-09-14T07:22:24.285Z"
   },
   {
    "duration": 7,
    "start_time": "2024-09-14T07:22:24.703Z"
   },
   {
    "duration": 37,
    "start_time": "2024-09-14T07:22:24.711Z"
   },
   {
    "duration": 302,
    "start_time": "2024-09-14T07:22:24.750Z"
   },
   {
    "duration": 20,
    "start_time": "2024-09-14T07:22:25.054Z"
   },
   {
    "duration": 24,
    "start_time": "2024-09-14T07:22:25.077Z"
   },
   {
    "duration": 329,
    "start_time": "2024-09-14T07:22:25.102Z"
   },
   {
    "duration": 13,
    "start_time": "2024-09-14T07:22:25.433Z"
   },
   {
    "duration": 38,
    "start_time": "2024-09-14T07:22:25.447Z"
   },
   {
    "duration": 14,
    "start_time": "2024-09-14T07:22:25.486Z"
   },
   {
    "duration": 374,
    "start_time": "2024-09-14T07:22:25.502Z"
   },
   {
    "duration": 356,
    "start_time": "2024-09-14T07:22:25.883Z"
   },
   {
    "duration": 339,
    "start_time": "2024-09-14T07:22:26.242Z"
   },
   {
    "duration": 20,
    "start_time": "2024-09-14T07:22:26.583Z"
   },
   {
    "duration": 42,
    "start_time": "2024-09-14T07:22:26.604Z"
   },
   {
    "duration": 44,
    "start_time": "2024-09-14T07:22:26.648Z"
   },
   {
    "duration": 285,
    "start_time": "2024-09-14T07:22:26.693Z"
   },
   {
    "duration": 28,
    "start_time": "2024-09-14T07:22:26.981Z"
   },
   {
    "duration": 476,
    "start_time": "2024-09-14T07:22:27.010Z"
   },
   {
    "duration": 33,
    "start_time": "2024-09-14T07:22:27.488Z"
   },
   {
    "duration": 501,
    "start_time": "2024-09-14T07:22:27.522Z"
   },
   {
    "duration": 23,
    "start_time": "2024-09-14T07:22:28.025Z"
   },
   {
    "duration": 540,
    "start_time": "2024-09-14T07:22:28.050Z"
   },
   {
    "duration": 12,
    "start_time": "2024-09-14T07:22:28.592Z"
   },
   {
    "duration": 12,
    "start_time": "2024-09-14T07:22:28.606Z"
   },
   {
    "duration": 12,
    "start_time": "2024-09-14T07:22:28.620Z"
   }
  ],
  "kernelspec": {
   "display_name": "Python 3 (ipykernel)",
   "language": "python",
   "name": "python3"
  },
  "language_info": {
   "codemirror_mode": {
    "name": "ipython",
    "version": 3
   },
   "file_extension": ".py",
   "mimetype": "text/x-python",
   "name": "python",
   "nbconvert_exporter": "python",
   "pygments_lexer": "ipython3",
   "version": "3.9.5"
  },
  "toc": {
   "base_numbering": 1,
   "nav_menu": {},
   "number_sections": true,
   "sideBar": true,
   "skip_h1_title": true,
   "title_cell": "Table of Contents",
   "title_sidebar": "Contents",
   "toc_cell": false,
   "toc_position": {},
   "toc_section_display": true,
   "toc_window_display": false
  }
 },
 "nbformat": 4,
 "nbformat_minor": 2
}
